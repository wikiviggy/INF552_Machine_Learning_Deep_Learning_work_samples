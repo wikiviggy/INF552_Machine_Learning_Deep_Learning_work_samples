{
  "nbformat": 4,
  "nbformat_minor": 0,
  "metadata": {
    "colab": {
      "name": "mhealth_activity_classification_ANN.ipynb",
      "provenance": [],
      "collapsed_sections": []
    },
    "kernelspec": {
      "name": "python3",
      "display_name": "Python 3"
    },
    "accelerator": "GPU"
  },
  "cells": [
    {
      "cell_type": "code",
      "metadata": {
        "id": "5FZ_76aIzHwk",
        "colab_type": "code",
        "outputId": "5c7765cb-8a3c-43c4-b4f7-985efddf9e8e",
        "colab": {
          "base_uri": "https://localhost:8080/",
          "height": 124
        }
      },
      "source": [
        "from google.colab import drive\n",
        "drive.mount('/gdrive')"
      ],
      "execution_count": 0,
      "outputs": [
        {
          "output_type": "stream",
          "text": [
            "Go to this URL in a browser: https://accounts.google.com/o/oauth2/auth?client_id=947318989803-6bn6qk8qdgf4n4g3pfee6491hc0brc4i.apps.googleusercontent.com&redirect_uri=urn%3Aietf%3Awg%3Aoauth%3A2.0%3Aoob&scope=email%20https%3A%2F%2Fwww.googleapis.com%2Fauth%2Fdocs.test%20https%3A%2F%2Fwww.googleapis.com%2Fauth%2Fdrive%20https%3A%2F%2Fwww.googleapis.com%2Fauth%2Fdrive.photos.readonly%20https%3A%2F%2Fwww.googleapis.com%2Fauth%2Fpeopleapi.readonly&response_type=code\n",
            "\n",
            "Enter your authorization code:\n",
            "··········\n",
            "Mounted at /gdrive\n"
          ],
          "name": "stdout"
        }
      ]
    },
    {
      "cell_type": "code",
      "metadata": {
        "id": "_a6r7QgRy4Go",
        "colab_type": "code",
        "outputId": "8e49e569-8a0a-42b2-b6c4-78be3da120f4",
        "colab": {
          "base_uri": "https://localhost:8080/",
          "height": 35
        }
      },
      "source": [
        "import pandas as pd\n",
        "import numpy as np\n",
        "import sys\n",
        "import keras\n",
        "from keras.layers import Dense\n",
        "from keras.models import Sequential\n",
        "\n",
        "df=pd.read_csv('/gdrive/My Drive/prereq_data/Data/email/mhealth_train.csv')"
      ],
      "execution_count": 0,
      "outputs": [
        {
          "output_type": "stream",
          "text": [
            "Using TensorFlow backend.\n"
          ],
          "name": "stderr"
        }
      ]
    },
    {
      "cell_type": "code",
      "metadata": {
        "id": "_B1T8vzpzkul",
        "colab_type": "code",
        "colab": {}
      },
      "source": [
        "df.shape\n",
        "x=df.iloc[:,0:23]\n",
        "Y=df.iloc[:,23:36]"
      ],
      "execution_count": 0,
      "outputs": []
    },
    {
      "cell_type": "code",
      "metadata": {
        "id": "5aniEcM5z3uX",
        "colab_type": "code",
        "outputId": "61b42090-60ce-4c9e-bf88-bd3c7847ea8a",
        "colab": {
          "base_uri": "https://localhost:8080/",
          "height": 222
        }
      },
      "source": [
        "df.head()"
      ],
      "execution_count": 0,
      "outputs": [
        {
          "output_type": "execute_result",
          "data": {
            "text/html": [
              "<div>\n",
              "<style scoped>\n",
              "    .dataframe tbody tr th:only-of-type {\n",
              "        vertical-align: middle;\n",
              "    }\n",
              "\n",
              "    .dataframe tbody tr th {\n",
              "        vertical-align: top;\n",
              "    }\n",
              "\n",
              "    .dataframe thead th {\n",
              "        text-align: right;\n",
              "    }\n",
              "</style>\n",
              "<table border=\"1\" class=\"dataframe\">\n",
              "  <thead>\n",
              "    <tr style=\"text-align: right;\">\n",
              "      <th></th>\n",
              "      <th>CHEST_ACC_X</th>\n",
              "      <th>CHEST_ACC_Y</th>\n",
              "      <th>CHEST_ACC_Z</th>\n",
              "      <th>ECG_L1</th>\n",
              "      <th>ECG_L2</th>\n",
              "      <th>LANK_ACC_X</th>\n",
              "      <th>LANK_ACC_Y</th>\n",
              "      <th>LANK_ACC_Z</th>\n",
              "      <th>LANK_GYRO_X</th>\n",
              "      <th>LANK_GYRO_Y</th>\n",
              "      <th>LANK_GYRO_Z</th>\n",
              "      <th>LANK_MAG_X</th>\n",
              "      <th>LANK_MAG_Y</th>\n",
              "      <th>LANK_MAG_Z</th>\n",
              "      <th>RLARM_ACC_X</th>\n",
              "      <th>RLARM_ACC_Y</th>\n",
              "      <th>RLARM_ACC_Z</th>\n",
              "      <th>RLARM_GYRO_X</th>\n",
              "      <th>RLARM_GYRO_Y</th>\n",
              "      <th>RLARM_GYRO_Z</th>\n",
              "      <th>RLARM_MAG_X</th>\n",
              "      <th>RLARM_MAG_Y</th>\n",
              "      <th>RLARM_MAG_Z</th>\n",
              "      <th>A0</th>\n",
              "      <th>A1</th>\n",
              "      <th>A2</th>\n",
              "      <th>A3</th>\n",
              "      <th>A4</th>\n",
              "      <th>A5</th>\n",
              "      <th>A6</th>\n",
              "      <th>A7</th>\n",
              "      <th>A8</th>\n",
              "      <th>A9</th>\n",
              "      <th>A10</th>\n",
              "      <th>A11</th>\n",
              "      <th>A12</th>\n",
              "    </tr>\n",
              "  </thead>\n",
              "  <tbody>\n",
              "    <tr>\n",
              "      <th>0</th>\n",
              "      <td>-9.8184</td>\n",
              "      <td>0.009971</td>\n",
              "      <td>0.29563</td>\n",
              "      <td>0.004186</td>\n",
              "      <td>0.004186</td>\n",
              "      <td>2.1849</td>\n",
              "      <td>-9.6967</td>\n",
              "      <td>0.63077</td>\n",
              "      <td>0.103900</td>\n",
              "      <td>-0.84053</td>\n",
              "      <td>-0.68762</td>\n",
              "      <td>-0.37000</td>\n",
              "      <td>-0.36327</td>\n",
              "      <td>0.299630</td>\n",
              "      <td>-8.6499</td>\n",
              "      <td>-4.5781</td>\n",
              "      <td>0.187760</td>\n",
              "      <td>-0.44902</td>\n",
              "      <td>-1.0103</td>\n",
              "      <td>0.034483</td>\n",
              "      <td>-2.35000</td>\n",
              "      <td>-1.61020</td>\n",
              "      <td>-0.030899</td>\n",
              "      <td>1</td>\n",
              "      <td>0</td>\n",
              "      <td>0</td>\n",
              "      <td>0</td>\n",
              "      <td>0</td>\n",
              "      <td>0</td>\n",
              "      <td>0</td>\n",
              "      <td>0</td>\n",
              "      <td>0</td>\n",
              "      <td>0</td>\n",
              "      <td>0</td>\n",
              "      <td>0</td>\n",
              "      <td>0</td>\n",
              "    </tr>\n",
              "    <tr>\n",
              "      <th>1</th>\n",
              "      <td>-9.8489</td>\n",
              "      <td>0.524040</td>\n",
              "      <td>0.37348</td>\n",
              "      <td>0.004186</td>\n",
              "      <td>0.016745</td>\n",
              "      <td>2.3876</td>\n",
              "      <td>-9.5080</td>\n",
              "      <td>0.68389</td>\n",
              "      <td>0.085343</td>\n",
              "      <td>-0.83865</td>\n",
              "      <td>-0.68369</td>\n",
              "      <td>-0.19799</td>\n",
              "      <td>-0.18151</td>\n",
              "      <td>0.582980</td>\n",
              "      <td>-8.6275</td>\n",
              "      <td>-4.3198</td>\n",
              "      <td>0.023595</td>\n",
              "      <td>-0.44902</td>\n",
              "      <td>-1.0103</td>\n",
              "      <td>0.034483</td>\n",
              "      <td>-2.16320</td>\n",
              "      <td>-0.88254</td>\n",
              "      <td>0.326570</td>\n",
              "      <td>1</td>\n",
              "      <td>0</td>\n",
              "      <td>0</td>\n",
              "      <td>0</td>\n",
              "      <td>0</td>\n",
              "      <td>0</td>\n",
              "      <td>0</td>\n",
              "      <td>0</td>\n",
              "      <td>0</td>\n",
              "      <td>0</td>\n",
              "      <td>0</td>\n",
              "      <td>0</td>\n",
              "      <td>0</td>\n",
              "    </tr>\n",
              "    <tr>\n",
              "      <th>2</th>\n",
              "      <td>-9.6602</td>\n",
              "      <td>0.181850</td>\n",
              "      <td>0.43742</td>\n",
              "      <td>0.016745</td>\n",
              "      <td>0.037677</td>\n",
              "      <td>2.4086</td>\n",
              "      <td>-9.5674</td>\n",
              "      <td>0.68113</td>\n",
              "      <td>0.085343</td>\n",
              "      <td>-0.83865</td>\n",
              "      <td>-0.68369</td>\n",
              "      <td>-0.37417</td>\n",
              "      <td>0.18723</td>\n",
              "      <td>0.438510</td>\n",
              "      <td>-8.5055</td>\n",
              "      <td>-4.2772</td>\n",
              "      <td>0.275720</td>\n",
              "      <td>-0.44902</td>\n",
              "      <td>-1.0103</td>\n",
              "      <td>0.034483</td>\n",
              "      <td>-1.61750</td>\n",
              "      <td>-0.16562</td>\n",
              "      <td>-0.030693</td>\n",
              "      <td>1</td>\n",
              "      <td>0</td>\n",
              "      <td>0</td>\n",
              "      <td>0</td>\n",
              "      <td>0</td>\n",
              "      <td>0</td>\n",
              "      <td>0</td>\n",
              "      <td>0</td>\n",
              "      <td>0</td>\n",
              "      <td>0</td>\n",
              "      <td>0</td>\n",
              "      <td>0</td>\n",
              "      <td>0</td>\n",
              "    </tr>\n",
              "    <tr>\n",
              "      <th>3</th>\n",
              "      <td>-9.7030</td>\n",
              "      <td>0.303890</td>\n",
              "      <td>0.31156</td>\n",
              "      <td>0.221870</td>\n",
              "      <td>0.205130</td>\n",
              "      <td>2.4173</td>\n",
              "      <td>-9.3889</td>\n",
              "      <td>0.71098</td>\n",
              "      <td>0.085343</td>\n",
              "      <td>-0.83865</td>\n",
              "      <td>-0.68369</td>\n",
              "      <td>-0.37439</td>\n",
              "      <td>-0.54671</td>\n",
              "      <td>0.445860</td>\n",
              "      <td>-8.7008</td>\n",
              "      <td>-4.1459</td>\n",
              "      <td>0.407290</td>\n",
              "      <td>-0.45686</td>\n",
              "      <td>-1.0082</td>\n",
              "      <td>0.025862</td>\n",
              "      <td>-0.53684</td>\n",
              "      <td>0.17590</td>\n",
              "      <td>-1.095500</td>\n",
              "      <td>1</td>\n",
              "      <td>0</td>\n",
              "      <td>0</td>\n",
              "      <td>0</td>\n",
              "      <td>0</td>\n",
              "      <td>0</td>\n",
              "      <td>0</td>\n",
              "      <td>0</td>\n",
              "      <td>0</td>\n",
              "      <td>0</td>\n",
              "      <td>0</td>\n",
              "      <td>0</td>\n",
              "      <td>0</td>\n",
              "    </tr>\n",
              "    <tr>\n",
              "      <th>4</th>\n",
              "      <td>-9.6511</td>\n",
              "      <td>0.232610</td>\n",
              "      <td>0.42094</td>\n",
              "      <td>0.154890</td>\n",
              "      <td>0.138150</td>\n",
              "      <td>2.2639</td>\n",
              "      <td>-9.4493</td>\n",
              "      <td>0.61267</td>\n",
              "      <td>0.098330</td>\n",
              "      <td>-0.84240</td>\n",
              "      <td>-0.68959</td>\n",
              "      <td>-0.72234</td>\n",
              "      <td>0.37420</td>\n",
              "      <td>0.010705</td>\n",
              "      <td>-8.7247</td>\n",
              "      <td>-4.0449</td>\n",
              "      <td>0.506090</td>\n",
              "      <td>-0.45686</td>\n",
              "      <td>-1.0082</td>\n",
              "      <td>0.025862</td>\n",
              "      <td>0.18674</td>\n",
              "      <td>0.72044</td>\n",
              "      <td>-0.364480</td>\n",
              "      <td>1</td>\n",
              "      <td>0</td>\n",
              "      <td>0</td>\n",
              "      <td>0</td>\n",
              "      <td>0</td>\n",
              "      <td>0</td>\n",
              "      <td>0</td>\n",
              "      <td>0</td>\n",
              "      <td>0</td>\n",
              "      <td>0</td>\n",
              "      <td>0</td>\n",
              "      <td>0</td>\n",
              "      <td>0</td>\n",
              "    </tr>\n",
              "  </tbody>\n",
              "</table>\n",
              "</div>"
            ],
            "text/plain": [
              "   CHEST_ACC_X  CHEST_ACC_Y  CHEST_ACC_Z    ECG_L1  ...  A9  A10  A11  A12\n",
              "0      -9.8184     0.009971      0.29563  0.004186  ...   0    0    0    0\n",
              "1      -9.8489     0.524040      0.37348  0.004186  ...   0    0    0    0\n",
              "2      -9.6602     0.181850      0.43742  0.016745  ...   0    0    0    0\n",
              "3      -9.7030     0.303890      0.31156  0.221870  ...   0    0    0    0\n",
              "4      -9.6511     0.232610      0.42094  0.154890  ...   0    0    0    0\n",
              "\n",
              "[5 rows x 36 columns]"
            ]
          },
          "metadata": {
            "tags": []
          },
          "execution_count": 4
        }
      ]
    },
    {
      "cell_type": "code",
      "metadata": {
        "id": "_HxvTMKFz_OJ",
        "colab_type": "code",
        "outputId": "07a34255-ec8b-4855-9364-305b4fd3eb80",
        "colab": {
          "base_uri": "https://localhost:8080/",
          "height": 107
        }
      },
      "source": [
        "mdl=Sequential()\n",
        "mdl.add(Dense(50,input_dim=23,activation='tanh'))\n",
        "mdl.add(Dense(13,activation='linear'))\n",
        "mdl.summary"
      ],
      "execution_count": 0,
      "outputs": [
        {
          "output_type": "stream",
          "text": [
            "WARNING:tensorflow:From /usr/local/lib/python3.6/dist-packages/tensorflow/python/framework/op_def_library.py:263: colocate_with (from tensorflow.python.framework.ops) is deprecated and will be removed in a future version.\n",
            "Instructions for updating:\n",
            "Colocations handled automatically by placer.\n"
          ],
          "name": "stdout"
        },
        {
          "output_type": "execute_result",
          "data": {
            "text/plain": [
              "<bound method Network.summary of <keras.engine.sequential.Sequential object at 0x7f3a4d8640f0>>"
            ]
          },
          "metadata": {
            "tags": []
          },
          "execution_count": 5
        }
      ]
    },
    {
      "cell_type": "code",
      "metadata": {
        "id": "b0qb6ckR0Vbp",
        "colab_type": "code",
        "outputId": "552b910e-abda-46ea-da2f-8026452a6b62",
        "colab": {
          "base_uri": "https://localhost:8080/",
          "height": 1840
        }
      },
      "source": [
        "mdl.compile(loss='mse',optimizer='adam')\n",
        "mdl.fit(x.values,Y.values,epochs=50,batch_size=100)\n"
      ],
      "execution_count": 0,
      "outputs": [
        {
          "output_type": "stream",
          "text": [
            "WARNING:tensorflow:From /usr/local/lib/python3.6/dist-packages/tensorflow/python/ops/math_ops.py:3066: to_int32 (from tensorflow.python.ops.math_ops) is deprecated and will be removed in a future version.\n",
            "Instructions for updating:\n",
            "Use tf.cast instead.\n",
            "Epoch 1/50\n",
            "145152/145152 [==============================] - 6s 44us/step - loss: 0.9622 - acc: 0.7656\n",
            "Epoch 2/50\n",
            "145152/145152 [==============================] - 4s 28us/step - loss: 0.6988 - acc: 0.7956\n",
            "Epoch 3/50\n",
            "145152/145152 [==============================] - 4s 27us/step - loss: 0.6222 - acc: 0.8078\n",
            "Epoch 4/50\n",
            "145152/145152 [==============================] - 3s 23us/step - loss: 0.5766 - acc: 0.8111\n",
            "Epoch 5/50\n",
            "145152/145152 [==============================] - 3s 23us/step - loss: 0.5449 - acc: 0.8152\n",
            "Epoch 6/50\n",
            "145152/145152 [==============================] - 3s 23us/step - loss: 0.5198 - acc: 0.8186\n",
            "Epoch 7/50\n",
            "145152/145152 [==============================] - 3s 23us/step - loss: 0.4968 - acc: 0.8252\n",
            "Epoch 8/50\n",
            "145152/145152 [==============================] - 3s 23us/step - loss: 0.4766 - acc: 0.8304\n",
            "Epoch 9/50\n",
            "145152/145152 [==============================] - 3s 22us/step - loss: 0.4620 - acc: 0.8361\n",
            "Epoch 10/50\n",
            "145152/145152 [==============================] - 3s 24us/step - loss: 0.4495 - acc: 0.8383\n",
            "Epoch 11/50\n",
            "145152/145152 [==============================] - 4s 26us/step - loss: 0.4386 - acc: 0.8418\n",
            "Epoch 12/50\n",
            "145152/145152 [==============================] - 4s 26us/step - loss: 0.4312 - acc: 0.8436\n",
            "Epoch 13/50\n",
            "145152/145152 [==============================] - 3s 24us/step - loss: 0.4231 - acc: 0.8461\n",
            "Epoch 14/50\n",
            "145152/145152 [==============================] - 3s 23us/step - loss: 0.4167 - acc: 0.8471\n",
            "Epoch 15/50\n",
            "145152/145152 [==============================] - 3s 23us/step - loss: 0.4104 - acc: 0.8486\n",
            "Epoch 16/50\n",
            "145152/145152 [==============================] - 3s 23us/step - loss: 0.4055 - acc: 0.8505\n",
            "Epoch 17/50\n",
            "145152/145152 [==============================] - 3s 23us/step - loss: 0.4000 - acc: 0.8524\n",
            "Epoch 18/50\n",
            "145152/145152 [==============================] - 3s 23us/step - loss: 0.3962 - acc: 0.8530\n",
            "Epoch 19/50\n",
            "145152/145152 [==============================] - 3s 23us/step - loss: 0.3911 - acc: 0.8543\n",
            "Epoch 20/50\n",
            "145152/145152 [==============================] - 3s 23us/step - loss: 0.3873 - acc: 0.8558\n",
            "Epoch 21/50\n",
            "145152/145152 [==============================] - 3s 23us/step - loss: 0.3837 - acc: 0.8565\n",
            "Epoch 22/50\n",
            "145152/145152 [==============================] - 3s 22us/step - loss: 0.3807 - acc: 0.8567\n",
            "Epoch 23/50\n",
            "145152/145152 [==============================] - 3s 23us/step - loss: 0.3764 - acc: 0.8588\n",
            "Epoch 24/50\n",
            "145152/145152 [==============================] - 3s 23us/step - loss: 0.3735 - acc: 0.8591\n",
            "Epoch 25/50\n",
            "145152/145152 [==============================] - 3s 23us/step - loss: 0.3708 - acc: 0.8591\n",
            "Epoch 26/50\n",
            "145152/145152 [==============================] - 3s 23us/step - loss: 0.3677 - acc: 0.8607\n",
            "Epoch 27/50\n",
            "145152/145152 [==============================] - 3s 23us/step - loss: 0.3649 - acc: 0.8613\n",
            "Epoch 28/50\n",
            "145152/145152 [==============================] - 3s 23us/step - loss: 0.3622 - acc: 0.8620\n",
            "Epoch 29/50\n",
            "145152/145152 [==============================] - 3s 23us/step - loss: 0.3609 - acc: 0.8626\n",
            "Epoch 30/50\n",
            "145152/145152 [==============================] - 3s 23us/step - loss: 0.3584 - acc: 0.8630\n",
            "Epoch 31/50\n",
            "145152/145152 [==============================] - 3s 23us/step - loss: 0.3552 - acc: 0.8644\n",
            "Epoch 32/50\n",
            "145152/145152 [==============================] - 3s 23us/step - loss: 0.3537 - acc: 0.8652\n",
            "Epoch 33/50\n",
            "145152/145152 [==============================] - 3s 23us/step - loss: 0.3519 - acc: 0.8659\n",
            "Epoch 34/50\n",
            "145152/145152 [==============================] - 3s 24us/step - loss: 0.3487 - acc: 0.8676\n",
            "Epoch 35/50\n",
            "145152/145152 [==============================] - 4s 26us/step - loss: 0.3468 - acc: 0.8677\n",
            "Epoch 36/50\n",
            "145152/145152 [==============================] - 4s 26us/step - loss: 0.3440 - acc: 0.8673\n",
            "Epoch 37/50\n",
            "145152/145152 [==============================] - 3s 24us/step - loss: 0.3444 - acc: 0.8679\n",
            "Epoch 38/50\n",
            "145152/145152 [==============================] - 3s 23us/step - loss: 0.3418 - acc: 0.8687\n",
            "Epoch 39/50\n",
            "145152/145152 [==============================] - 3s 23us/step - loss: 0.3403 - acc: 0.8700\n",
            "Epoch 40/50\n",
            "145152/145152 [==============================] - 4s 25us/step - loss: 0.3393 - acc: 0.8688\n",
            "Epoch 41/50\n",
            "145152/145152 [==============================] - 4s 27us/step - loss: 0.3376 - acc: 0.8689\n",
            "Epoch 42/50\n",
            "145152/145152 [==============================] - 3s 23us/step - loss: 0.3359 - acc: 0.8704\n",
            "Epoch 43/50\n",
            "145152/145152 [==============================] - 3s 23us/step - loss: 0.3360 - acc: 0.8707\n",
            "Epoch 44/50\n",
            "145152/145152 [==============================] - 3s 23us/step - loss: 0.3336 - acc: 0.8711\n",
            "Epoch 45/50\n",
            "145152/145152 [==============================] - 3s 23us/step - loss: 0.3313 - acc: 0.8719\n",
            "Epoch 46/50\n",
            "145152/145152 [==============================] - 3s 23us/step - loss: 0.3289 - acc: 0.8732\n",
            "Epoch 47/50\n",
            "145152/145152 [==============================] - 3s 22us/step - loss: 0.3274 - acc: 0.8732\n",
            "Epoch 48/50\n",
            "145152/145152 [==============================] - 3s 23us/step - loss: 0.3267 - acc: 0.8738\n",
            "Epoch 49/50\n",
            "145152/145152 [==============================] - 3s 23us/step - loss: 0.3248 - acc: 0.8736\n",
            "Epoch 50/50\n",
            "145152/145152 [==============================] - 3s 23us/step - loss: 0.3237 - acc: 0.8743\n"
          ],
          "name": "stdout"
        },
        {
          "output_type": "execute_result",
          "data": {
            "text/plain": [
              "<keras.callbacks.History at 0x7f3a0469c320>"
            ]
          },
          "metadata": {
            "tags": []
          },
          "execution_count": 8
        }
      ]
    },
    {
      "cell_type": "code",
      "metadata": {
        "id": "KkFyJ5Ch1eCx",
        "colab_type": "code",
        "colab": {}
      },
      "source": [
        "df_test = pd.read_csv('/gdrive/My Drive/prereq_data/Data/email/mhealth_test.csv')\n",
        "X_test = df_test.iloc[:,0:23]\n",
        "Y_test = df_test.iloc[:,23:36]"
      ],
      "execution_count": 0,
      "outputs": []
    },
    {
      "cell_type": "code",
      "metadata": {
        "id": "DlEa3sWT2KW_",
        "colab_type": "code",
        "colab": {}
      },
      "source": [
        "score = mdl.evaluate(X_test,Y_test,verbose=0)"
      ],
      "execution_count": 0,
      "outputs": []
    },
    {
      "cell_type": "code",
      "metadata": {
        "id": "yAatxuxv2bDz",
        "colab_type": "code",
        "outputId": "a909d495-2b45-4aff-ad63-1d56cbd0eb30",
        "colab": {
          "base_uri": "https://localhost:8080/",
          "height": 35
        }
      },
      "source": [
        "score[1]"
      ],
      "execution_count": 0,
      "outputs": [
        {
          "output_type": "execute_result",
          "data": {
            "text/plain": [
              "0.8727678571428571"
            ]
          },
          "metadata": {
            "tags": []
          },
          "execution_count": 13
        }
      ]
    },
    {
      "cell_type": "code",
      "metadata": {
        "id": "pEl4Rgxa2oPF",
        "colab_type": "code",
        "outputId": "e7625a59-d099-489c-9a15-786be20d634a",
        "colab": {
          "base_uri": "https://localhost:8080/",
          "height": 243
        }
      },
      "source": [
        "y_pred=mdl.predict(X_test)\n",
        "print(y_pred)"
      ],
      "execution_count": 0,
      "outputs": [
        {
          "output_type": "stream",
          "text": [
            "[[9.87022996e-01 6.60201749e-06 1.62816832e-06 ... 1.17367352e-04\n",
            "  1.78278016e-04 2.15859021e-04]\n",
            " [9.96243596e-01 1.61816558e-06 6.67864839e-08 ... 9.28510235e-06\n",
            "  1.04687373e-04 5.23316376e-05]\n",
            " [2.09936589e-01 8.06663083e-05 2.61921523e-04 ... 1.46509788e-04\n",
            "  2.72673264e-04 1.46638544e-03]\n",
            " ...\n",
            " [9.98596847e-01 4.80518656e-06 2.46232608e-04 ... 4.20226104e-04\n",
            "  1.32920453e-04 1.24680402e-04]\n",
            " [9.97364461e-01 1.76270551e-05 7.08771331e-05 ... 4.77099748e-05\n",
            "  1.18450389e-05 1.71972264e-03]\n",
            " [9.15466785e-01 3.65115283e-03 7.42862641e-04 ... 1.46695675e-05\n",
            "  2.88544310e-04 6.53563548e-05]]\n"
          ],
          "name": "stdout"
        }
      ]
    },
    {
      "cell_type": "code",
      "metadata": {
        "id": "Iwx4qex42yoV",
        "colab_type": "code",
        "outputId": "8ab4bc72-cd45-4af6-f1e7-823b67497aae",
        "colab": {
          "base_uri": "https://localhost:8080/",
          "height": 35
        }
      },
      "source": [
        "from sklearn.metrics import roc_auc_score\n",
        "\n",
        "roc_auc_score(Y_test,y_pred)"
      ],
      "execution_count": 0,
      "outputs": [
        {
          "output_type": "execute_result",
          "data": {
            "text/plain": [
              "0.9834910493564664"
            ]
          },
          "metadata": {
            "tags": []
          },
          "execution_count": 16
        }
      ]
    }
  ]
}