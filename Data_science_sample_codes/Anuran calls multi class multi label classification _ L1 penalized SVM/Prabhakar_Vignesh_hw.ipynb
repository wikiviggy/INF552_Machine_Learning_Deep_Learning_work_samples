{
  "nbformat": 4,
  "nbformat_minor": 0,
  "metadata": {
    "colab": {
      "name": "Prabhakar_Vignesh_hw5.ipynb",
      "provenance": [],
      "collapsed_sections": []
    },
    "kernelspec": {
      "name": "python3",
      "display_name": "Python 3"
    }
  },
  "cells": [
    {
      "cell_type": "markdown",
      "metadata": {
        "id": "lM6AVOC9OEBM",
        "colab_type": "text"
      },
      "source": [
        "# **HOMEWORK 5** \n",
        "\n",
        "**VIGNESH PRABHAKAR**<br>\n",
        "**USC ID:** : 4024890667\n"
      ]
    },
    {
      "cell_type": "markdown",
      "metadata": {
        "id": "mYCKh9zFfRXd",
        "colab_type": "text"
      },
      "source": [
        "Mounted the google drive in colab workspace "
      ]
    },
    {
      "cell_type": "code",
      "metadata": {
        "id": "QjbX9661Zx9A",
        "colab_type": "code",
        "outputId": "1c16fccc-7b79-4f58-ab8f-2fec35386d48",
        "colab": {
          "base_uri": "https://localhost:8080/",
          "height": 34
        }
      },
      "source": [
        "from google.colab import drive\n",
        "drive.mount('/gdrive')"
      ],
      "execution_count": 0,
      "outputs": [
        {
          "output_type": "stream",
          "text": [
            "Drive already mounted at /gdrive; to attempt to forcibly remount, call drive.mount(\"/gdrive\", force_remount=True).\n"
          ],
          "name": "stdout"
        }
      ]
    },
    {
      "cell_type": "markdown",
      "metadata": {
        "id": "rEUDsWkffaFJ",
        "colab_type": "text"
      },
      "source": [
        "# (1)(a)\n",
        "\n",
        "Loaded the Anuran calls dataset from the drive"
      ]
    },
    {
      "cell_type": "code",
      "metadata": {
        "id": "jtKJCgqralLq",
        "colab_type": "code",
        "outputId": "73b08b9c-94ca-48c5-d9c2-c12e98e3cbe0",
        "colab": {
          "base_uri": "https://localhost:8080/",
          "height": 241
        }
      },
      "source": [
        "import pandas as pd\n",
        "\n",
        "df= pd.read_csv('/gdrive/My Drive/Homeworks/hw5/Frogs_MFCCs.csv')\n",
        "df.head()"
      ],
      "execution_count": 0,
      "outputs": [
        {
          "output_type": "execute_result",
          "data": {
            "text/html": [
              "<div>\n",
              "<style scoped>\n",
              "    .dataframe tbody tr th:only-of-type {\n",
              "        vertical-align: middle;\n",
              "    }\n",
              "\n",
              "    .dataframe tbody tr th {\n",
              "        vertical-align: top;\n",
              "    }\n",
              "\n",
              "    .dataframe thead th {\n",
              "        text-align: right;\n",
              "    }\n",
              "</style>\n",
              "<table border=\"1\" class=\"dataframe\">\n",
              "  <thead>\n",
              "    <tr style=\"text-align: right;\">\n",
              "      <th></th>\n",
              "      <th>MFCCs_ 1</th>\n",
              "      <th>MFCCs_ 2</th>\n",
              "      <th>MFCCs_ 3</th>\n",
              "      <th>MFCCs_ 4</th>\n",
              "      <th>MFCCs_ 5</th>\n",
              "      <th>MFCCs_ 6</th>\n",
              "      <th>MFCCs_ 7</th>\n",
              "      <th>MFCCs_ 8</th>\n",
              "      <th>MFCCs_ 9</th>\n",
              "      <th>MFCCs_10</th>\n",
              "      <th>MFCCs_11</th>\n",
              "      <th>MFCCs_12</th>\n",
              "      <th>MFCCs_13</th>\n",
              "      <th>MFCCs_14</th>\n",
              "      <th>MFCCs_15</th>\n",
              "      <th>MFCCs_16</th>\n",
              "      <th>MFCCs_17</th>\n",
              "      <th>MFCCs_18</th>\n",
              "      <th>MFCCs_19</th>\n",
              "      <th>MFCCs_20</th>\n",
              "      <th>MFCCs_21</th>\n",
              "      <th>MFCCs_22</th>\n",
              "      <th>Family</th>\n",
              "      <th>Genus</th>\n",
              "      <th>Species</th>\n",
              "      <th>RecordID</th>\n",
              "    </tr>\n",
              "  </thead>\n",
              "  <tbody>\n",
              "    <tr>\n",
              "      <th>0</th>\n",
              "      <td>1.0</td>\n",
              "      <td>0.152936</td>\n",
              "      <td>-0.105586</td>\n",
              "      <td>0.200722</td>\n",
              "      <td>0.317201</td>\n",
              "      <td>0.260764</td>\n",
              "      <td>0.100945</td>\n",
              "      <td>-0.150063</td>\n",
              "      <td>-0.171128</td>\n",
              "      <td>0.124676</td>\n",
              "      <td>0.188654</td>\n",
              "      <td>-0.075622</td>\n",
              "      <td>-0.156436</td>\n",
              "      <td>0.082245</td>\n",
              "      <td>0.135752</td>\n",
              "      <td>-0.024017</td>\n",
              "      <td>-0.108351</td>\n",
              "      <td>-0.077623</td>\n",
              "      <td>-0.009568</td>\n",
              "      <td>0.057684</td>\n",
              "      <td>0.118680</td>\n",
              "      <td>0.014038</td>\n",
              "      <td>Leptodactylidae</td>\n",
              "      <td>Adenomera</td>\n",
              "      <td>AdenomeraAndre</td>\n",
              "      <td>1</td>\n",
              "    </tr>\n",
              "    <tr>\n",
              "      <th>1</th>\n",
              "      <td>1.0</td>\n",
              "      <td>0.171534</td>\n",
              "      <td>-0.098975</td>\n",
              "      <td>0.268425</td>\n",
              "      <td>0.338672</td>\n",
              "      <td>0.268353</td>\n",
              "      <td>0.060835</td>\n",
              "      <td>-0.222475</td>\n",
              "      <td>-0.207693</td>\n",
              "      <td>0.170883</td>\n",
              "      <td>0.270958</td>\n",
              "      <td>-0.095004</td>\n",
              "      <td>-0.254341</td>\n",
              "      <td>0.022786</td>\n",
              "      <td>0.163320</td>\n",
              "      <td>0.012022</td>\n",
              "      <td>-0.090974</td>\n",
              "      <td>-0.056510</td>\n",
              "      <td>-0.035303</td>\n",
              "      <td>0.020140</td>\n",
              "      <td>0.082263</td>\n",
              "      <td>0.029056</td>\n",
              "      <td>Leptodactylidae</td>\n",
              "      <td>Adenomera</td>\n",
              "      <td>AdenomeraAndre</td>\n",
              "      <td>1</td>\n",
              "    </tr>\n",
              "    <tr>\n",
              "      <th>2</th>\n",
              "      <td>1.0</td>\n",
              "      <td>0.152317</td>\n",
              "      <td>-0.082973</td>\n",
              "      <td>0.287128</td>\n",
              "      <td>0.276014</td>\n",
              "      <td>0.189867</td>\n",
              "      <td>0.008714</td>\n",
              "      <td>-0.242234</td>\n",
              "      <td>-0.219153</td>\n",
              "      <td>0.232538</td>\n",
              "      <td>0.266064</td>\n",
              "      <td>-0.072827</td>\n",
              "      <td>-0.237384</td>\n",
              "      <td>0.050791</td>\n",
              "      <td>0.207338</td>\n",
              "      <td>0.083536</td>\n",
              "      <td>-0.050691</td>\n",
              "      <td>-0.023590</td>\n",
              "      <td>-0.066722</td>\n",
              "      <td>-0.025083</td>\n",
              "      <td>0.099108</td>\n",
              "      <td>0.077162</td>\n",
              "      <td>Leptodactylidae</td>\n",
              "      <td>Adenomera</td>\n",
              "      <td>AdenomeraAndre</td>\n",
              "      <td>1</td>\n",
              "    </tr>\n",
              "    <tr>\n",
              "      <th>3</th>\n",
              "      <td>1.0</td>\n",
              "      <td>0.224392</td>\n",
              "      <td>0.118985</td>\n",
              "      <td>0.329432</td>\n",
              "      <td>0.372088</td>\n",
              "      <td>0.361005</td>\n",
              "      <td>0.015501</td>\n",
              "      <td>-0.194347</td>\n",
              "      <td>-0.098181</td>\n",
              "      <td>0.270375</td>\n",
              "      <td>0.267279</td>\n",
              "      <td>-0.162258</td>\n",
              "      <td>-0.317084</td>\n",
              "      <td>-0.011567</td>\n",
              "      <td>0.100413</td>\n",
              "      <td>-0.050224</td>\n",
              "      <td>-0.136009</td>\n",
              "      <td>-0.177037</td>\n",
              "      <td>-0.130498</td>\n",
              "      <td>-0.054766</td>\n",
              "      <td>-0.018691</td>\n",
              "      <td>0.023954</td>\n",
              "      <td>Leptodactylidae</td>\n",
              "      <td>Adenomera</td>\n",
              "      <td>AdenomeraAndre</td>\n",
              "      <td>1</td>\n",
              "    </tr>\n",
              "    <tr>\n",
              "      <th>4</th>\n",
              "      <td>1.0</td>\n",
              "      <td>0.087817</td>\n",
              "      <td>-0.068345</td>\n",
              "      <td>0.306967</td>\n",
              "      <td>0.330923</td>\n",
              "      <td>0.249144</td>\n",
              "      <td>0.006884</td>\n",
              "      <td>-0.265423</td>\n",
              "      <td>-0.172700</td>\n",
              "      <td>0.266434</td>\n",
              "      <td>0.332695</td>\n",
              "      <td>-0.100749</td>\n",
              "      <td>-0.298524</td>\n",
              "      <td>0.037439</td>\n",
              "      <td>0.219153</td>\n",
              "      <td>0.062837</td>\n",
              "      <td>-0.048885</td>\n",
              "      <td>-0.053074</td>\n",
              "      <td>-0.088550</td>\n",
              "      <td>-0.031346</td>\n",
              "      <td>0.108610</td>\n",
              "      <td>0.079244</td>\n",
              "      <td>Leptodactylidae</td>\n",
              "      <td>Adenomera</td>\n",
              "      <td>AdenomeraAndre</td>\n",
              "      <td>1</td>\n",
              "    </tr>\n",
              "  </tbody>\n",
              "</table>\n",
              "</div>"
            ],
            "text/plain": [
              "   MFCCs_ 1  MFCCs_ 2  MFCCs_ 3  ...      Genus         Species  RecordID\n",
              "0       1.0  0.152936 -0.105586  ...  Adenomera  AdenomeraAndre         1\n",
              "1       1.0  0.171534 -0.098975  ...  Adenomera  AdenomeraAndre         1\n",
              "2       1.0  0.152317 -0.082973  ...  Adenomera  AdenomeraAndre         1\n",
              "3       1.0  0.224392  0.118985  ...  Adenomera  AdenomeraAndre         1\n",
              "4       1.0  0.087817 -0.068345  ...  Adenomera  AdenomeraAndre         1\n",
              "\n",
              "[5 rows x 26 columns]"
            ]
          },
          "metadata": {
            "tags": []
          },
          "execution_count": 55
        }
      ]
    },
    {
      "cell_type": "markdown",
      "metadata": {
        "id": "stATjIhPfuwo",
        "colab_type": "text"
      },
      "source": [
        "Separated the features from the response labels . Here we have 3 response labels namely family ,genus and species . Each label has multiple classes in them . Thereby this is a multi class multi label problem ."
      ]
    },
    {
      "cell_type": "code",
      "metadata": {
        "id": "5wDoS1u2a2FQ",
        "colab_type": "code",
        "outputId": "3832ea6c-957b-4d67-fef0-037a9005ad4a",
        "colab": {
          "base_uri": "https://localhost:8080/",
          "height": 456
        }
      },
      "source": [
        "x= df.iloc[:,0:22]\n",
        "x"
      ],
      "execution_count": 0,
      "outputs": [
        {
          "output_type": "execute_result",
          "data": {
            "text/html": [
              "<div>\n",
              "<style scoped>\n",
              "    .dataframe tbody tr th:only-of-type {\n",
              "        vertical-align: middle;\n",
              "    }\n",
              "\n",
              "    .dataframe tbody tr th {\n",
              "        vertical-align: top;\n",
              "    }\n",
              "\n",
              "    .dataframe thead th {\n",
              "        text-align: right;\n",
              "    }\n",
              "</style>\n",
              "<table border=\"1\" class=\"dataframe\">\n",
              "  <thead>\n",
              "    <tr style=\"text-align: right;\">\n",
              "      <th></th>\n",
              "      <th>MFCCs_ 1</th>\n",
              "      <th>MFCCs_ 2</th>\n",
              "      <th>MFCCs_ 3</th>\n",
              "      <th>MFCCs_ 4</th>\n",
              "      <th>MFCCs_ 5</th>\n",
              "      <th>MFCCs_ 6</th>\n",
              "      <th>MFCCs_ 7</th>\n",
              "      <th>MFCCs_ 8</th>\n",
              "      <th>MFCCs_ 9</th>\n",
              "      <th>MFCCs_10</th>\n",
              "      <th>MFCCs_11</th>\n",
              "      <th>MFCCs_12</th>\n",
              "      <th>MFCCs_13</th>\n",
              "      <th>MFCCs_14</th>\n",
              "      <th>MFCCs_15</th>\n",
              "      <th>MFCCs_16</th>\n",
              "      <th>MFCCs_17</th>\n",
              "      <th>MFCCs_18</th>\n",
              "      <th>MFCCs_19</th>\n",
              "      <th>MFCCs_20</th>\n",
              "      <th>MFCCs_21</th>\n",
              "      <th>MFCCs_22</th>\n",
              "    </tr>\n",
              "  </thead>\n",
              "  <tbody>\n",
              "    <tr>\n",
              "      <th>0</th>\n",
              "      <td>1.0</td>\n",
              "      <td>0.152936</td>\n",
              "      <td>-0.105586</td>\n",
              "      <td>0.200722</td>\n",
              "      <td>0.317201</td>\n",
              "      <td>0.260764</td>\n",
              "      <td>0.100945</td>\n",
              "      <td>-0.150063</td>\n",
              "      <td>-0.171128</td>\n",
              "      <td>0.124676</td>\n",
              "      <td>0.188654</td>\n",
              "      <td>-0.075622</td>\n",
              "      <td>-0.156436</td>\n",
              "      <td>0.082245</td>\n",
              "      <td>0.135752</td>\n",
              "      <td>-0.024017</td>\n",
              "      <td>-0.108351</td>\n",
              "      <td>-0.077623</td>\n",
              "      <td>-0.009568</td>\n",
              "      <td>0.057684</td>\n",
              "      <td>0.118680</td>\n",
              "      <td>0.014038</td>\n",
              "    </tr>\n",
              "    <tr>\n",
              "      <th>1</th>\n",
              "      <td>1.0</td>\n",
              "      <td>0.171534</td>\n",
              "      <td>-0.098975</td>\n",
              "      <td>0.268425</td>\n",
              "      <td>0.338672</td>\n",
              "      <td>0.268353</td>\n",
              "      <td>0.060835</td>\n",
              "      <td>-0.222475</td>\n",
              "      <td>-0.207693</td>\n",
              "      <td>0.170883</td>\n",
              "      <td>0.270958</td>\n",
              "      <td>-0.095004</td>\n",
              "      <td>-0.254341</td>\n",
              "      <td>0.022786</td>\n",
              "      <td>0.163320</td>\n",
              "      <td>0.012022</td>\n",
              "      <td>-0.090974</td>\n",
              "      <td>-0.056510</td>\n",
              "      <td>-0.035303</td>\n",
              "      <td>0.020140</td>\n",
              "      <td>0.082263</td>\n",
              "      <td>0.029056</td>\n",
              "    </tr>\n",
              "    <tr>\n",
              "      <th>2</th>\n",
              "      <td>1.0</td>\n",
              "      <td>0.152317</td>\n",
              "      <td>-0.082973</td>\n",
              "      <td>0.287128</td>\n",
              "      <td>0.276014</td>\n",
              "      <td>0.189867</td>\n",
              "      <td>0.008714</td>\n",
              "      <td>-0.242234</td>\n",
              "      <td>-0.219153</td>\n",
              "      <td>0.232538</td>\n",
              "      <td>0.266064</td>\n",
              "      <td>-0.072827</td>\n",
              "      <td>-0.237384</td>\n",
              "      <td>0.050791</td>\n",
              "      <td>0.207338</td>\n",
              "      <td>0.083536</td>\n",
              "      <td>-0.050691</td>\n",
              "      <td>-0.023590</td>\n",
              "      <td>-0.066722</td>\n",
              "      <td>-0.025083</td>\n",
              "      <td>0.099108</td>\n",
              "      <td>0.077162</td>\n",
              "    </tr>\n",
              "    <tr>\n",
              "      <th>3</th>\n",
              "      <td>1.0</td>\n",
              "      <td>0.224392</td>\n",
              "      <td>0.118985</td>\n",
              "      <td>0.329432</td>\n",
              "      <td>0.372088</td>\n",
              "      <td>0.361005</td>\n",
              "      <td>0.015501</td>\n",
              "      <td>-0.194347</td>\n",
              "      <td>-0.098181</td>\n",
              "      <td>0.270375</td>\n",
              "      <td>0.267279</td>\n",
              "      <td>-0.162258</td>\n",
              "      <td>-0.317084</td>\n",
              "      <td>-0.011567</td>\n",
              "      <td>0.100413</td>\n",
              "      <td>-0.050224</td>\n",
              "      <td>-0.136009</td>\n",
              "      <td>-0.177037</td>\n",
              "      <td>-0.130498</td>\n",
              "      <td>-0.054766</td>\n",
              "      <td>-0.018691</td>\n",
              "      <td>0.023954</td>\n",
              "    </tr>\n",
              "    <tr>\n",
              "      <th>4</th>\n",
              "      <td>1.0</td>\n",
              "      <td>0.087817</td>\n",
              "      <td>-0.068345</td>\n",
              "      <td>0.306967</td>\n",
              "      <td>0.330923</td>\n",
              "      <td>0.249144</td>\n",
              "      <td>0.006884</td>\n",
              "      <td>-0.265423</td>\n",
              "      <td>-0.172700</td>\n",
              "      <td>0.266434</td>\n",
              "      <td>0.332695</td>\n",
              "      <td>-0.100749</td>\n",
              "      <td>-0.298524</td>\n",
              "      <td>0.037439</td>\n",
              "      <td>0.219153</td>\n",
              "      <td>0.062837</td>\n",
              "      <td>-0.048885</td>\n",
              "      <td>-0.053074</td>\n",
              "      <td>-0.088550</td>\n",
              "      <td>-0.031346</td>\n",
              "      <td>0.108610</td>\n",
              "      <td>0.079244</td>\n",
              "    </tr>\n",
              "    <tr>\n",
              "      <th>...</th>\n",
              "      <td>...</td>\n",
              "      <td>...</td>\n",
              "      <td>...</td>\n",
              "      <td>...</td>\n",
              "      <td>...</td>\n",
              "      <td>...</td>\n",
              "      <td>...</td>\n",
              "      <td>...</td>\n",
              "      <td>...</td>\n",
              "      <td>...</td>\n",
              "      <td>...</td>\n",
              "      <td>...</td>\n",
              "      <td>...</td>\n",
              "      <td>...</td>\n",
              "      <td>...</td>\n",
              "      <td>...</td>\n",
              "      <td>...</td>\n",
              "      <td>...</td>\n",
              "      <td>...</td>\n",
              "      <td>...</td>\n",
              "      <td>...</td>\n",
              "      <td>...</td>\n",
              "    </tr>\n",
              "    <tr>\n",
              "      <th>7190</th>\n",
              "      <td>1.0</td>\n",
              "      <td>-0.554504</td>\n",
              "      <td>-0.337717</td>\n",
              "      <td>0.035533</td>\n",
              "      <td>0.034511</td>\n",
              "      <td>0.443451</td>\n",
              "      <td>0.093889</td>\n",
              "      <td>-0.100753</td>\n",
              "      <td>0.037087</td>\n",
              "      <td>0.081075</td>\n",
              "      <td>0.065905</td>\n",
              "      <td>-0.000717</td>\n",
              "      <td>-0.145668</td>\n",
              "      <td>-0.059364</td>\n",
              "      <td>0.024206</td>\n",
              "      <td>-0.000861</td>\n",
              "      <td>0.069430</td>\n",
              "      <td>0.071001</td>\n",
              "      <td>0.021591</td>\n",
              "      <td>0.052449</td>\n",
              "      <td>-0.021860</td>\n",
              "      <td>-0.079860</td>\n",
              "    </tr>\n",
              "    <tr>\n",
              "      <th>7191</th>\n",
              "      <td>1.0</td>\n",
              "      <td>-0.517273</td>\n",
              "      <td>-0.370574</td>\n",
              "      <td>0.030673</td>\n",
              "      <td>0.068097</td>\n",
              "      <td>0.402890</td>\n",
              "      <td>0.096628</td>\n",
              "      <td>-0.116460</td>\n",
              "      <td>0.063727</td>\n",
              "      <td>0.089034</td>\n",
              "      <td>0.038545</td>\n",
              "      <td>0.000856</td>\n",
              "      <td>-0.164675</td>\n",
              "      <td>-0.105600</td>\n",
              "      <td>0.030767</td>\n",
              "      <td>0.006457</td>\n",
              "      <td>0.061127</td>\n",
              "      <td>0.068978</td>\n",
              "      <td>0.017745</td>\n",
              "      <td>0.046461</td>\n",
              "      <td>-0.015418</td>\n",
              "      <td>-0.101892</td>\n",
              "    </tr>\n",
              "    <tr>\n",
              "      <th>7192</th>\n",
              "      <td>1.0</td>\n",
              "      <td>-0.582557</td>\n",
              "      <td>-0.343237</td>\n",
              "      <td>0.029468</td>\n",
              "      <td>0.064179</td>\n",
              "      <td>0.385596</td>\n",
              "      <td>0.114905</td>\n",
              "      <td>-0.103317</td>\n",
              "      <td>0.070370</td>\n",
              "      <td>0.081317</td>\n",
              "      <td>0.062748</td>\n",
              "      <td>0.011868</td>\n",
              "      <td>-0.150025</td>\n",
              "      <td>-0.078615</td>\n",
              "      <td>0.024861</td>\n",
              "      <td>0.008696</td>\n",
              "      <td>0.082474</td>\n",
              "      <td>0.077771</td>\n",
              "      <td>-0.009688</td>\n",
              "      <td>0.027834</td>\n",
              "      <td>-0.000531</td>\n",
              "      <td>-0.080425</td>\n",
              "    </tr>\n",
              "    <tr>\n",
              "      <th>7193</th>\n",
              "      <td>1.0</td>\n",
              "      <td>-0.519497</td>\n",
              "      <td>-0.307553</td>\n",
              "      <td>-0.004922</td>\n",
              "      <td>0.072865</td>\n",
              "      <td>0.377131</td>\n",
              "      <td>0.086866</td>\n",
              "      <td>-0.115799</td>\n",
              "      <td>0.056979</td>\n",
              "      <td>0.089316</td>\n",
              "      <td>0.049792</td>\n",
              "      <td>-0.003997</td>\n",
              "      <td>-0.153120</td>\n",
              "      <td>-0.075320</td>\n",
              "      <td>0.022903</td>\n",
              "      <td>0.001924</td>\n",
              "      <td>0.051796</td>\n",
              "      <td>0.069073</td>\n",
              "      <td>0.017963</td>\n",
              "      <td>0.041803</td>\n",
              "      <td>-0.027911</td>\n",
              "      <td>-0.096895</td>\n",
              "    </tr>\n",
              "    <tr>\n",
              "      <th>7194</th>\n",
              "      <td>1.0</td>\n",
              "      <td>-0.508833</td>\n",
              "      <td>-0.324106</td>\n",
              "      <td>0.062068</td>\n",
              "      <td>0.078211</td>\n",
              "      <td>0.397188</td>\n",
              "      <td>0.094596</td>\n",
              "      <td>-0.117672</td>\n",
              "      <td>0.058874</td>\n",
              "      <td>0.076180</td>\n",
              "      <td>0.072347</td>\n",
              "      <td>0.002760</td>\n",
              "      <td>-0.150554</td>\n",
              "      <td>-0.073415</td>\n",
              "      <td>0.042517</td>\n",
              "      <td>0.004158</td>\n",
              "      <td>0.061455</td>\n",
              "      <td>0.072983</td>\n",
              "      <td>-0.003980</td>\n",
              "      <td>0.031560</td>\n",
              "      <td>-0.029355</td>\n",
              "      <td>-0.087910</td>\n",
              "    </tr>\n",
              "  </tbody>\n",
              "</table>\n",
              "<p>7195 rows × 22 columns</p>\n",
              "</div>"
            ],
            "text/plain": [
              "      MFCCs_ 1  MFCCs_ 2  MFCCs_ 3  ...  MFCCs_20  MFCCs_21  MFCCs_22\n",
              "0          1.0  0.152936 -0.105586  ...  0.057684  0.118680  0.014038\n",
              "1          1.0  0.171534 -0.098975  ...  0.020140  0.082263  0.029056\n",
              "2          1.0  0.152317 -0.082973  ... -0.025083  0.099108  0.077162\n",
              "3          1.0  0.224392  0.118985  ... -0.054766 -0.018691  0.023954\n",
              "4          1.0  0.087817 -0.068345  ... -0.031346  0.108610  0.079244\n",
              "...        ...       ...       ...  ...       ...       ...       ...\n",
              "7190       1.0 -0.554504 -0.337717  ...  0.052449 -0.021860 -0.079860\n",
              "7191       1.0 -0.517273 -0.370574  ...  0.046461 -0.015418 -0.101892\n",
              "7192       1.0 -0.582557 -0.343237  ...  0.027834 -0.000531 -0.080425\n",
              "7193       1.0 -0.519497 -0.307553  ...  0.041803 -0.027911 -0.096895\n",
              "7194       1.0 -0.508833 -0.324106  ...  0.031560 -0.029355 -0.087910\n",
              "\n",
              "[7195 rows x 22 columns]"
            ]
          },
          "metadata": {
            "tags": []
          },
          "execution_count": 56
        }
      ]
    },
    {
      "cell_type": "code",
      "metadata": {
        "id": "5AGhXiVCe-87",
        "colab_type": "code",
        "outputId": "3c59be2a-290d-43fa-c793-57e9247ded05",
        "colab": {
          "base_uri": "https://localhost:8080/",
          "height": 419
        }
      },
      "source": [
        "Y=df[['Family','Genus','Species']]\n",
        "Y"
      ],
      "execution_count": 0,
      "outputs": [
        {
          "output_type": "execute_result",
          "data": {
            "text/html": [
              "<div>\n",
              "<style scoped>\n",
              "    .dataframe tbody tr th:only-of-type {\n",
              "        vertical-align: middle;\n",
              "    }\n",
              "\n",
              "    .dataframe tbody tr th {\n",
              "        vertical-align: top;\n",
              "    }\n",
              "\n",
              "    .dataframe thead th {\n",
              "        text-align: right;\n",
              "    }\n",
              "</style>\n",
              "<table border=\"1\" class=\"dataframe\">\n",
              "  <thead>\n",
              "    <tr style=\"text-align: right;\">\n",
              "      <th></th>\n",
              "      <th>Family</th>\n",
              "      <th>Genus</th>\n",
              "      <th>Species</th>\n",
              "    </tr>\n",
              "  </thead>\n",
              "  <tbody>\n",
              "    <tr>\n",
              "      <th>0</th>\n",
              "      <td>Leptodactylidae</td>\n",
              "      <td>Adenomera</td>\n",
              "      <td>AdenomeraAndre</td>\n",
              "    </tr>\n",
              "    <tr>\n",
              "      <th>1</th>\n",
              "      <td>Leptodactylidae</td>\n",
              "      <td>Adenomera</td>\n",
              "      <td>AdenomeraAndre</td>\n",
              "    </tr>\n",
              "    <tr>\n",
              "      <th>2</th>\n",
              "      <td>Leptodactylidae</td>\n",
              "      <td>Adenomera</td>\n",
              "      <td>AdenomeraAndre</td>\n",
              "    </tr>\n",
              "    <tr>\n",
              "      <th>3</th>\n",
              "      <td>Leptodactylidae</td>\n",
              "      <td>Adenomera</td>\n",
              "      <td>AdenomeraAndre</td>\n",
              "    </tr>\n",
              "    <tr>\n",
              "      <th>4</th>\n",
              "      <td>Leptodactylidae</td>\n",
              "      <td>Adenomera</td>\n",
              "      <td>AdenomeraAndre</td>\n",
              "    </tr>\n",
              "    <tr>\n",
              "      <th>...</th>\n",
              "      <td>...</td>\n",
              "      <td>...</td>\n",
              "      <td>...</td>\n",
              "    </tr>\n",
              "    <tr>\n",
              "      <th>7190</th>\n",
              "      <td>Hylidae</td>\n",
              "      <td>Scinax</td>\n",
              "      <td>ScinaxRuber</td>\n",
              "    </tr>\n",
              "    <tr>\n",
              "      <th>7191</th>\n",
              "      <td>Hylidae</td>\n",
              "      <td>Scinax</td>\n",
              "      <td>ScinaxRuber</td>\n",
              "    </tr>\n",
              "    <tr>\n",
              "      <th>7192</th>\n",
              "      <td>Hylidae</td>\n",
              "      <td>Scinax</td>\n",
              "      <td>ScinaxRuber</td>\n",
              "    </tr>\n",
              "    <tr>\n",
              "      <th>7193</th>\n",
              "      <td>Hylidae</td>\n",
              "      <td>Scinax</td>\n",
              "      <td>ScinaxRuber</td>\n",
              "    </tr>\n",
              "    <tr>\n",
              "      <th>7194</th>\n",
              "      <td>Hylidae</td>\n",
              "      <td>Scinax</td>\n",
              "      <td>ScinaxRuber</td>\n",
              "    </tr>\n",
              "  </tbody>\n",
              "</table>\n",
              "<p>7195 rows × 3 columns</p>\n",
              "</div>"
            ],
            "text/plain": [
              "               Family      Genus         Species\n",
              "0     Leptodactylidae  Adenomera  AdenomeraAndre\n",
              "1     Leptodactylidae  Adenomera  AdenomeraAndre\n",
              "2     Leptodactylidae  Adenomera  AdenomeraAndre\n",
              "3     Leptodactylidae  Adenomera  AdenomeraAndre\n",
              "4     Leptodactylidae  Adenomera  AdenomeraAndre\n",
              "...               ...        ...             ...\n",
              "7190          Hylidae     Scinax     ScinaxRuber\n",
              "7191          Hylidae     Scinax     ScinaxRuber\n",
              "7192          Hylidae     Scinax     ScinaxRuber\n",
              "7193          Hylidae     Scinax     ScinaxRuber\n",
              "7194          Hylidae     Scinax     ScinaxRuber\n",
              "\n",
              "[7195 rows x 3 columns]"
            ]
          },
          "metadata": {
            "tags": []
          },
          "execution_count": 57
        }
      ]
    },
    {
      "cell_type": "markdown",
      "metadata": {
        "id": "bgJepFymgUZg",
        "colab_type": "text"
      },
      "source": [
        "Train test split . Randomly allocated 70% of the data as the training set and 30% of the data as the test set ."
      ]
    },
    {
      "cell_type": "code",
      "metadata": {
        "id": "w4Yx2ghqfZJE",
        "colab_type": "code",
        "colab": {}
      },
      "source": [
        "from sklearn.model_selection import train_test_split\n",
        "train_x, test_x, train_y, test_y = train_test_split(x, Y, test_size=0.30, random_state=42)"
      ],
      "execution_count": 0,
      "outputs": []
    },
    {
      "cell_type": "markdown",
      "metadata": {
        "id": "Il_wCIDUgkrI",
        "colab_type": "text"
      },
      "source": [
        "Shape of training features , training responses ,test features and test responses"
      ]
    },
    {
      "cell_type": "code",
      "metadata": {
        "id": "AD9HU7DEfrTy",
        "colab_type": "code",
        "outputId": "096f8960-ef18-40cf-bc08-54b4ffbb113c",
        "colab": {
          "base_uri": "https://localhost:8080/",
          "height": 85
        }
      },
      "source": [
        "print(train_x.shape)\n",
        "print(test_x.shape)\n",
        "print(train_y.shape)\n",
        "print(test_y.shape)"
      ],
      "execution_count": 0,
      "outputs": [
        {
          "output_type": "stream",
          "text": [
            "(5036, 22)\n",
            "(2159, 22)\n",
            "(5036, 3)\n",
            "(2159, 3)\n"
          ],
          "name": "stdout"
        }
      ]
    },
    {
      "cell_type": "markdown",
      "metadata": {
        "id": "IvYi7Sf8gulP",
        "colab_type": "text"
      },
      "source": [
        "Extracted all response labels and stored each of them in separate variables so that they can be used easily to fit the classifiers that we will train ."
      ]
    },
    {
      "cell_type": "code",
      "metadata": {
        "id": "JhULryvNf1BO",
        "colab_type": "code",
        "colab": {}
      },
      "source": [
        "label_1_test = test_y['Family']\n",
        "label_2_test = test_y['Genus']\n",
        "label_3_test = test_y['Species']"
      ],
      "execution_count": 0,
      "outputs": []
    },
    {
      "cell_type": "code",
      "metadata": {
        "id": "wV2x2WEPApMp",
        "colab_type": "code",
        "colab": {}
      },
      "source": [
        "label_1_train = train_y['Family']\n",
        "label_2_train = train_y['Genus']\n",
        "label_3_train = train_y['Species']"
      ],
      "execution_count": 0,
      "outputs": []
    },
    {
      "cell_type": "markdown",
      "metadata": {
        "id": "KwEqwUH-iJkp",
        "colab_type": "text"
      },
      "source": [
        "# (1)(b)(i)\n",
        "\n",
        "The Hamming loss is the fraction of labels that are incorrectly predicted. <br>\n",
        "\n",
        "The Hamming score is the fraction of labels that are correctly predicted. <br>\n",
        "\n",
        "An exact match occurs when the predicted value and actual value matches for all the 3 labels . <br>\n",
        "\n",
        "Hamming loss is computed through the hamming_loss() function in sklearn.metrics and hamming score is computed by subtracting the hamming loss from 1 .\n",
        "\n",
        "\n",
        "\n"
      ]
    },
    {
      "cell_type": "code",
      "metadata": {
        "id": "vRDjRR4z9ESY",
        "colab_type": "code",
        "colab": {}
      },
      "source": [
        "lbl1_score=list()\n",
        "lbl2_score=list()\n",
        "lbl3_score=list()\n"
      ],
      "execution_count": 0,
      "outputs": []
    },
    {
      "cell_type": "markdown",
      "metadata": {
        "id": "lOtVm_aoovsR",
        "colab_type": "text"
      },
      "source": [
        "# (1)(b)(ii)\n",
        "\n",
        "Computed the cross validation score on 3 separate classifiers . One that has family as train_y , second that has genus as train_y and third that has species as train_y and then selected the value of C and gamma corresponding to the maximum cross val score for each of these classifiers and then fit our gaussian kernelized support vector machine for different labels as train_y and used the C and gamma values that gave me the highest cross validation score for the classifier corresponding to that label ."
      ]
    },
    {
      "cell_type": "code",
      "metadata": {
        "id": "LPcDaqcI9VHh",
        "colab_type": "code",
        "colab": {}
      },
      "source": [
        "from sklearn.model_selection import cross_val_score\n",
        "from sklearn.svm import SVC\n",
        "from sklearn import svm\n",
        "\n",
        "C_vals=[0.001,0.01,0.1,1,10,100,1000]\n",
        "g_vals=[0.1,0.2,0.3,0.4,0.5,0.6,0.7,0.8,0.9,1]\n",
        "C_list=[]\n",
        "g_list=[]\n",
        "for g in g_vals:\n",
        "  for k in C_vals:\n",
        "    g_list.append(g)\n",
        "    C_list.append(k)\n",
        "    lbl1_score.append(cross_val_score(svm.SVC(C=k,kernel='rbf',gamma=g,decision_function_shape='ovr'),train_x,label_1_train,cv=10).mean())\n",
        "    lbl2_score.append(cross_val_score(svm.SVC(C=k,kernel='rbf',gamma=g,decision_function_shape='ovr'),train_x,label_2_train,cv=10).mean())\n",
        "    lbl3_score.append(cross_val_score(svm.SVC(C=k,kernel='rbf',gamma=g,decision_function_shape='ovr'),train_x,label_3_train,cv=10).mean())"
      ],
      "execution_count": 0,
      "outputs": []
    },
    {
      "cell_type": "markdown",
      "metadata": {
        "id": "qpRtoQEcqBjk",
        "colab_type": "text"
      },
      "source": [
        "C values and gamma values corresponding to their respective cross validation scores as a table with family label"
      ]
    },
    {
      "cell_type": "code",
      "metadata": {
        "id": "WpbVKkPlDayq",
        "colab_type": "code",
        "outputId": "bba18191-7a1c-4635-b852-50fd9f56ca91",
        "colab": {
          "base_uri": "https://localhost:8080/",
          "height": 419
        }
      },
      "source": [
        "C_gamma_selector_family = pd.DataFrame({\"C-values\":C_list,\"Gamma values\":g_list,\"Family\":lbl1_score})\n",
        "C_gamma_selector_family    "
      ],
      "execution_count": 0,
      "outputs": [
        {
          "output_type": "execute_result",
          "data": {
            "text/html": [
              "<div>\n",
              "<style scoped>\n",
              "    .dataframe tbody tr th:only-of-type {\n",
              "        vertical-align: middle;\n",
              "    }\n",
              "\n",
              "    .dataframe tbody tr th {\n",
              "        vertical-align: top;\n",
              "    }\n",
              "\n",
              "    .dataframe thead th {\n",
              "        text-align: right;\n",
              "    }\n",
              "</style>\n",
              "<table border=\"1\" class=\"dataframe\">\n",
              "  <thead>\n",
              "    <tr style=\"text-align: right;\">\n",
              "      <th></th>\n",
              "      <th>C-values</th>\n",
              "      <th>Gamma values</th>\n",
              "      <th>Family</th>\n",
              "    </tr>\n",
              "  </thead>\n",
              "  <tbody>\n",
              "    <tr>\n",
              "      <th>0</th>\n",
              "      <td>0.001</td>\n",
              "      <td>0.1</td>\n",
              "      <td>0.610207</td>\n",
              "    </tr>\n",
              "    <tr>\n",
              "      <th>1</th>\n",
              "      <td>0.010</td>\n",
              "      <td>0.1</td>\n",
              "      <td>0.620333</td>\n",
              "    </tr>\n",
              "    <tr>\n",
              "      <th>2</th>\n",
              "      <td>0.100</td>\n",
              "      <td>0.1</td>\n",
              "      <td>0.870943</td>\n",
              "    </tr>\n",
              "    <tr>\n",
              "      <th>3</th>\n",
              "      <td>1.000</td>\n",
              "      <td>0.1</td>\n",
              "      <td>0.943223</td>\n",
              "    </tr>\n",
              "    <tr>\n",
              "      <th>4</th>\n",
              "      <td>10.000</td>\n",
              "      <td>0.1</td>\n",
              "      <td>0.967841</td>\n",
              "    </tr>\n",
              "    <tr>\n",
              "      <th>...</th>\n",
              "      <td>...</td>\n",
              "      <td>...</td>\n",
              "      <td>...</td>\n",
              "    </tr>\n",
              "    <tr>\n",
              "      <th>65</th>\n",
              "      <td>0.100</td>\n",
              "      <td>1.0</td>\n",
              "      <td>0.961292</td>\n",
              "    </tr>\n",
              "    <tr>\n",
              "      <th>66</th>\n",
              "      <td>1.000</td>\n",
              "      <td>1.0</td>\n",
              "      <td>0.986694</td>\n",
              "    </tr>\n",
              "    <tr>\n",
              "      <th>67</th>\n",
              "      <td>10.000</td>\n",
              "      <td>1.0</td>\n",
              "      <td>0.990665</td>\n",
              "    </tr>\n",
              "    <tr>\n",
              "      <th>68</th>\n",
              "      <td>100.000</td>\n",
              "      <td>1.0</td>\n",
              "      <td>0.992651</td>\n",
              "    </tr>\n",
              "    <tr>\n",
              "      <th>69</th>\n",
              "      <td>1000.000</td>\n",
              "      <td>1.0</td>\n",
              "      <td>0.992054</td>\n",
              "    </tr>\n",
              "  </tbody>\n",
              "</table>\n",
              "<p>70 rows × 3 columns</p>\n",
              "</div>"
            ],
            "text/plain": [
              "    C-values  Gamma values    Family\n",
              "0      0.001           0.1  0.610207\n",
              "1      0.010           0.1  0.620333\n",
              "2      0.100           0.1  0.870943\n",
              "3      1.000           0.1  0.943223\n",
              "4     10.000           0.1  0.967841\n",
              "..       ...           ...       ...\n",
              "65     0.100           1.0  0.961292\n",
              "66     1.000           1.0  0.986694\n",
              "67    10.000           1.0  0.990665\n",
              "68   100.000           1.0  0.992651\n",
              "69  1000.000           1.0  0.992054\n",
              "\n",
              "[70 rows x 3 columns]"
            ]
          },
          "metadata": {
            "tags": []
          },
          "execution_count": 64
        }
      ]
    },
    {
      "cell_type": "markdown",
      "metadata": {
        "id": "Y2nOHKGsqMZ_",
        "colab_type": "text"
      },
      "source": [
        "Chose C =100 and gamma = 0.9 for family label"
      ]
    },
    {
      "cell_type": "code",
      "metadata": {
        "id": "KZy4rVx_Mjgq",
        "colab_type": "code",
        "outputId": "4ec42d2e-3e12-4674-f4de-fcb6f1dfc0de",
        "colab": {
          "base_uri": "https://localhost:8080/",
          "height": 111
        }
      },
      "source": [
        "C_gamma_selector_family[C_gamma_selector_family['Family']==max(lbl1_score)]"
      ],
      "execution_count": 0,
      "outputs": [
        {
          "output_type": "execute_result",
          "data": {
            "text/html": [
              "<div>\n",
              "<style scoped>\n",
              "    .dataframe tbody tr th:only-of-type {\n",
              "        vertical-align: middle;\n",
              "    }\n",
              "\n",
              "    .dataframe tbody tr th {\n",
              "        vertical-align: top;\n",
              "    }\n",
              "\n",
              "    .dataframe thead th {\n",
              "        text-align: right;\n",
              "    }\n",
              "</style>\n",
              "<table border=\"1\" class=\"dataframe\">\n",
              "  <thead>\n",
              "    <tr style=\"text-align: right;\">\n",
              "      <th></th>\n",
              "      <th>C-values</th>\n",
              "      <th>Gamma values</th>\n",
              "      <th>Family</th>\n",
              "    </tr>\n",
              "  </thead>\n",
              "  <tbody>\n",
              "    <tr>\n",
              "      <th>61</th>\n",
              "      <td>100.0</td>\n",
              "      <td>0.9</td>\n",
              "      <td>0.992651</td>\n",
              "    </tr>\n",
              "    <tr>\n",
              "      <th>68</th>\n",
              "      <td>100.0</td>\n",
              "      <td>1.0</td>\n",
              "      <td>0.992651</td>\n",
              "    </tr>\n",
              "  </tbody>\n",
              "</table>\n",
              "</div>"
            ],
            "text/plain": [
              "    C-values  Gamma values    Family\n",
              "61     100.0           0.9  0.992651\n",
              "68     100.0           1.0  0.992651"
            ]
          },
          "metadata": {
            "tags": []
          },
          "execution_count": 65
        }
      ]
    },
    {
      "cell_type": "markdown",
      "metadata": {
        "id": "jzdYEUapvV_k",
        "colab_type": "text"
      },
      "source": [
        "C values and gamma values corresponding to their respective cross validation scores as a table with Genus label"
      ]
    },
    {
      "cell_type": "code",
      "metadata": {
        "id": "f_uk1RTXE7JC",
        "colab_type": "code",
        "outputId": "625ffa80-4e2f-4421-8d38-a2b5cbe91742",
        "colab": {
          "base_uri": "https://localhost:8080/",
          "height": 419
        }
      },
      "source": [
        "C_gamma_selector_genus = pd.DataFrame({\"C-values\":C_list,\"Gamma values\":g_list,\"Genus\":lbl2_score})\n",
        "C_gamma_selector_genus "
      ],
      "execution_count": 0,
      "outputs": [
        {
          "output_type": "execute_result",
          "data": {
            "text/html": [
              "<div>\n",
              "<style scoped>\n",
              "    .dataframe tbody tr th:only-of-type {\n",
              "        vertical-align: middle;\n",
              "    }\n",
              "\n",
              "    .dataframe tbody tr th {\n",
              "        vertical-align: top;\n",
              "    }\n",
              "\n",
              "    .dataframe thead th {\n",
              "        text-align: right;\n",
              "    }\n",
              "</style>\n",
              "<table border=\"1\" class=\"dataframe\">\n",
              "  <thead>\n",
              "    <tr style=\"text-align: right;\">\n",
              "      <th></th>\n",
              "      <th>C-values</th>\n",
              "      <th>Gamma values</th>\n",
              "      <th>Genus</th>\n",
              "    </tr>\n",
              "  </thead>\n",
              "  <tbody>\n",
              "    <tr>\n",
              "      <th>0</th>\n",
              "      <td>0.001</td>\n",
              "      <td>0.1</td>\n",
              "      <td>0.575662</td>\n",
              "    </tr>\n",
              "    <tr>\n",
              "      <th>1</th>\n",
              "      <td>0.010</td>\n",
              "      <td>0.1</td>\n",
              "      <td>0.575662</td>\n",
              "    </tr>\n",
              "    <tr>\n",
              "      <th>2</th>\n",
              "      <td>0.100</td>\n",
              "      <td>0.1</td>\n",
              "      <td>0.825073</td>\n",
              "    </tr>\n",
              "    <tr>\n",
              "      <th>3</th>\n",
              "      <td>1.000</td>\n",
              "      <td>0.1</td>\n",
              "      <td>0.935479</td>\n",
              "    </tr>\n",
              "    <tr>\n",
              "      <th>4</th>\n",
              "      <td>10.000</td>\n",
              "      <td>0.1</td>\n",
              "      <td>0.974594</td>\n",
              "    </tr>\n",
              "    <tr>\n",
              "      <th>...</th>\n",
              "      <td>...</td>\n",
              "      <td>...</td>\n",
              "      <td>...</td>\n",
              "    </tr>\n",
              "    <tr>\n",
              "      <th>65</th>\n",
              "      <td>0.100</td>\n",
              "      <td>1.0</td>\n",
              "      <td>0.935469</td>\n",
              "    </tr>\n",
              "    <tr>\n",
              "      <th>66</th>\n",
              "      <td>1.000</td>\n",
              "      <td>1.0</td>\n",
              "      <td>0.983317</td>\n",
              "    </tr>\n",
              "    <tr>\n",
              "      <th>67</th>\n",
              "      <td>10.000</td>\n",
              "      <td>1.0</td>\n",
              "      <td>0.989269</td>\n",
              "    </tr>\n",
              "    <tr>\n",
              "      <th>68</th>\n",
              "      <td>100.000</td>\n",
              "      <td>1.0</td>\n",
              "      <td>0.989869</td>\n",
              "    </tr>\n",
              "    <tr>\n",
              "      <th>69</th>\n",
              "      <td>1000.000</td>\n",
              "      <td>1.0</td>\n",
              "      <td>0.989869</td>\n",
              "    </tr>\n",
              "  </tbody>\n",
              "</table>\n",
              "<p>70 rows × 3 columns</p>\n",
              "</div>"
            ],
            "text/plain": [
              "    C-values  Gamma values     Genus\n",
              "0      0.001           0.1  0.575662\n",
              "1      0.010           0.1  0.575662\n",
              "2      0.100           0.1  0.825073\n",
              "3      1.000           0.1  0.935479\n",
              "4     10.000           0.1  0.974594\n",
              "..       ...           ...       ...\n",
              "65     0.100           1.0  0.935469\n",
              "66     1.000           1.0  0.983317\n",
              "67    10.000           1.0  0.989269\n",
              "68   100.000           1.0  0.989869\n",
              "69  1000.000           1.0  0.989869\n",
              "\n",
              "[70 rows x 3 columns]"
            ]
          },
          "metadata": {
            "tags": []
          },
          "execution_count": 66
        }
      ]
    },
    {
      "cell_type": "markdown",
      "metadata": {
        "id": "KnAAJU76xUqo",
        "colab_type": "text"
      },
      "source": [
        "Chose C =100 and gamma = 1.0 for Genus label"
      ]
    },
    {
      "cell_type": "code",
      "metadata": {
        "id": "ZmmjLObkM29i",
        "colab_type": "code",
        "outputId": "b98786ea-4816-4aee-d1fc-03090eb152dc",
        "colab": {
          "base_uri": "https://localhost:8080/",
          "height": 111
        }
      },
      "source": [
        "C_gamma_selector_genus[C_gamma_selector_genus['Genus']==max(lbl2_score)]"
      ],
      "execution_count": 0,
      "outputs": [
        {
          "output_type": "execute_result",
          "data": {
            "text/html": [
              "<div>\n",
              "<style scoped>\n",
              "    .dataframe tbody tr th:only-of-type {\n",
              "        vertical-align: middle;\n",
              "    }\n",
              "\n",
              "    .dataframe tbody tr th {\n",
              "        vertical-align: top;\n",
              "    }\n",
              "\n",
              "    .dataframe thead th {\n",
              "        text-align: right;\n",
              "    }\n",
              "</style>\n",
              "<table border=\"1\" class=\"dataframe\">\n",
              "  <thead>\n",
              "    <tr style=\"text-align: right;\">\n",
              "      <th></th>\n",
              "      <th>C-values</th>\n",
              "      <th>Gamma values</th>\n",
              "      <th>Genus</th>\n",
              "    </tr>\n",
              "  </thead>\n",
              "  <tbody>\n",
              "    <tr>\n",
              "      <th>68</th>\n",
              "      <td>100.0</td>\n",
              "      <td>1.0</td>\n",
              "      <td>0.989869</td>\n",
              "    </tr>\n",
              "    <tr>\n",
              "      <th>69</th>\n",
              "      <td>1000.0</td>\n",
              "      <td>1.0</td>\n",
              "      <td>0.989869</td>\n",
              "    </tr>\n",
              "  </tbody>\n",
              "</table>\n",
              "</div>"
            ],
            "text/plain": [
              "    C-values  Gamma values     Genus\n",
              "68     100.0           1.0  0.989869\n",
              "69    1000.0           1.0  0.989869"
            ]
          },
          "metadata": {
            "tags": []
          },
          "execution_count": 67
        }
      ]
    },
    {
      "cell_type": "markdown",
      "metadata": {
        "id": "2EoHSHdZxZ0B",
        "colab_type": "text"
      },
      "source": [
        "C values and gamma values corresponding to their respective cross validation scores as a table with Species label"
      ]
    },
    {
      "cell_type": "code",
      "metadata": {
        "id": "xRVTlS6BE_Cn",
        "colab_type": "code",
        "outputId": "229ec6d4-ab64-4808-bdd4-760ca4d078e1",
        "colab": {
          "base_uri": "https://localhost:8080/",
          "height": 419
        }
      },
      "source": [
        "C_gamma_selector_species = pd.DataFrame({\"C-values\":C_list,\"Gamma values\":g_list,\"Species\":lbl3_score})\n",
        "C_gamma_selector_species"
      ],
      "execution_count": 0,
      "outputs": [
        {
          "output_type": "execute_result",
          "data": {
            "text/html": [
              "<div>\n",
              "<style scoped>\n",
              "    .dataframe tbody tr th:only-of-type {\n",
              "        vertical-align: middle;\n",
              "    }\n",
              "\n",
              "    .dataframe tbody tr th {\n",
              "        vertical-align: top;\n",
              "    }\n",
              "\n",
              "    .dataframe thead th {\n",
              "        text-align: right;\n",
              "    }\n",
              "</style>\n",
              "<table border=\"1\" class=\"dataframe\">\n",
              "  <thead>\n",
              "    <tr style=\"text-align: right;\">\n",
              "      <th></th>\n",
              "      <th>C-values</th>\n",
              "      <th>Gamma values</th>\n",
              "      <th>Species</th>\n",
              "    </tr>\n",
              "  </thead>\n",
              "  <tbody>\n",
              "    <tr>\n",
              "      <th>0</th>\n",
              "      <td>0.001</td>\n",
              "      <td>0.1</td>\n",
              "      <td>0.485910</td>\n",
              "    </tr>\n",
              "    <tr>\n",
              "      <th>1</th>\n",
              "      <td>0.010</td>\n",
              "      <td>0.1</td>\n",
              "      <td>0.485910</td>\n",
              "    </tr>\n",
              "    <tr>\n",
              "      <th>2</th>\n",
              "      <td>0.100</td>\n",
              "      <td>0.1</td>\n",
              "      <td>0.839978</td>\n",
              "    </tr>\n",
              "    <tr>\n",
              "      <th>3</th>\n",
              "      <td>1.000</td>\n",
              "      <td>0.1</td>\n",
              "      <td>0.943214</td>\n",
              "    </tr>\n",
              "    <tr>\n",
              "      <th>4</th>\n",
              "      <td>10.000</td>\n",
              "      <td>0.1</td>\n",
              "      <td>0.978160</td>\n",
              "    </tr>\n",
              "    <tr>\n",
              "      <th>...</th>\n",
              "      <td>...</td>\n",
              "      <td>...</td>\n",
              "      <td>...</td>\n",
              "    </tr>\n",
              "    <tr>\n",
              "      <th>65</th>\n",
              "      <td>0.100</td>\n",
              "      <td>1.0</td>\n",
              "      <td>0.939448</td>\n",
              "    </tr>\n",
              "    <tr>\n",
              "      <th>66</th>\n",
              "      <td>1.000</td>\n",
              "      <td>1.0</td>\n",
              "      <td>0.985691</td>\n",
              "    </tr>\n",
              "    <tr>\n",
              "      <th>67</th>\n",
              "      <td>10.000</td>\n",
              "      <td>1.0</td>\n",
              "      <td>0.989469</td>\n",
              "    </tr>\n",
              "    <tr>\n",
              "      <th>68</th>\n",
              "      <td>100.000</td>\n",
              "      <td>1.0</td>\n",
              "      <td>0.988470</td>\n",
              "    </tr>\n",
              "    <tr>\n",
              "      <th>69</th>\n",
              "      <td>1000.000</td>\n",
              "      <td>1.0</td>\n",
              "      <td>0.988470</td>\n",
              "    </tr>\n",
              "  </tbody>\n",
              "</table>\n",
              "<p>70 rows × 3 columns</p>\n",
              "</div>"
            ],
            "text/plain": [
              "    C-values  Gamma values   Species\n",
              "0      0.001           0.1  0.485910\n",
              "1      0.010           0.1  0.485910\n",
              "2      0.100           0.1  0.839978\n",
              "3      1.000           0.1  0.943214\n",
              "4     10.000           0.1  0.978160\n",
              "..       ...           ...       ...\n",
              "65     0.100           1.0  0.939448\n",
              "66     1.000           1.0  0.985691\n",
              "67    10.000           1.0  0.989469\n",
              "68   100.000           1.0  0.988470\n",
              "69  1000.000           1.0  0.988470\n",
              "\n",
              "[70 rows x 3 columns]"
            ]
          },
          "metadata": {
            "tags": []
          },
          "execution_count": 68
        }
      ]
    },
    {
      "cell_type": "markdown",
      "metadata": {
        "id": "whkY1mtfxhIk",
        "colab_type": "text"
      },
      "source": [
        "Chose C =10 and gamma = 1.0 for Species label"
      ]
    },
    {
      "cell_type": "code",
      "metadata": {
        "id": "1Ky9s1LcNGEV",
        "colab_type": "code",
        "outputId": "eedb695c-8e73-4968-e9e1-5333aa2e9448",
        "colab": {
          "base_uri": "https://localhost:8080/",
          "height": 80
        }
      },
      "source": [
        "C_gamma_selector_species[C_gamma_selector_species['Species']==max(lbl3_score)]"
      ],
      "execution_count": 0,
      "outputs": [
        {
          "output_type": "execute_result",
          "data": {
            "text/html": [
              "<div>\n",
              "<style scoped>\n",
              "    .dataframe tbody tr th:only-of-type {\n",
              "        vertical-align: middle;\n",
              "    }\n",
              "\n",
              "    .dataframe tbody tr th {\n",
              "        vertical-align: top;\n",
              "    }\n",
              "\n",
              "    .dataframe thead th {\n",
              "        text-align: right;\n",
              "    }\n",
              "</style>\n",
              "<table border=\"1\" class=\"dataframe\">\n",
              "  <thead>\n",
              "    <tr style=\"text-align: right;\">\n",
              "      <th></th>\n",
              "      <th>C-values</th>\n",
              "      <th>Gamma values</th>\n",
              "      <th>Species</th>\n",
              "    </tr>\n",
              "  </thead>\n",
              "  <tbody>\n",
              "    <tr>\n",
              "      <th>67</th>\n",
              "      <td>10.0</td>\n",
              "      <td>1.0</td>\n",
              "      <td>0.989469</td>\n",
              "    </tr>\n",
              "  </tbody>\n",
              "</table>\n",
              "</div>"
            ],
            "text/plain": [
              "    C-values  Gamma values   Species\n",
              "67      10.0           1.0  0.989469"
            ]
          },
          "metadata": {
            "tags": []
          },
          "execution_count": 69
        }
      ]
    },
    {
      "cell_type": "markdown",
      "metadata": {
        "id": "TDuDHYD8x4nC",
        "colab_type": "text"
      },
      "source": [
        "Retraining the gaussian kernelized SVM for family label with chosen C and gamma and computing hamming loss and exact match score for the same .\n",
        "\n",
        "Hamming loss :0.006947660954145438 <br>\n",
        "Exact Match : 0.9930523390458545"
      ]
    },
    {
      "cell_type": "code",
      "metadata": {
        "id": "7yVt3NIs8T7Z",
        "colab_type": "code",
        "outputId": "a95d2a70-2d8e-40f8-d032-47e0e6f54206",
        "colab": {
          "base_uri": "https://localhost:8080/",
          "height": 51
        }
      },
      "source": [
        "from sklearn.metrics import hamming_loss\n",
        "mdl=svm.SVC(C=100,gamma=0.9,decision_function_shape='ovr')\n",
        "mdl=mdl.fit(train_x,label_1_train)\n",
        "preds1=mdl.predict(test_x)\n",
        "hm_loss_family=hamming_loss(label_1_test,preds1)\n",
        "exact_match_family=mdl.score(test_x,label_1_test)\n",
        "print(hm_loss_family)\n",
        "print(exact_match_family)"
      ],
      "execution_count": 0,
      "outputs": [
        {
          "output_type": "stream",
          "text": [
            "0.006947660954145438\n",
            "0.9930523390458545\n"
          ],
          "name": "stdout"
        }
      ]
    },
    {
      "cell_type": "markdown",
      "metadata": {
        "id": "aRtSsnVLyQ2c",
        "colab_type": "text"
      },
      "source": [
        "Retraining the gaussian kernelized SVM for Genus label with chosen C and gamma and computing hamming loss and exact match score for the same .\n",
        "\n",
        "Hamming loss :0.007874015748031496 <br>\n",
        "Exact match : 0.9921259842519685"
      ]
    },
    {
      "cell_type": "code",
      "metadata": {
        "id": "BAjVkA4_Dpot",
        "colab_type": "code",
        "outputId": "a2c5137e-b176-4476-bae4-e504988bfbed",
        "colab": {
          "base_uri": "https://localhost:8080/",
          "height": 51
        }
      },
      "source": [
        "from sklearn.metrics import hamming_loss\n",
        "mdl=svm.SVC(C=100,gamma=1.0,decision_function_shape='ovr')\n",
        "mdl=mdl.fit(train_x,label_2_train)\n",
        "preds2=mdl.predict(test_x)\n",
        "hm_loss_genus=hamming_loss(label_2_test,preds2)\n",
        "exact_match_genus=mdl.score(test_x,label_2_test)\n",
        "print(hm_loss_genus)\n",
        "print(exact_match_genus)"
      ],
      "execution_count": 0,
      "outputs": [
        {
          "output_type": "stream",
          "text": [
            "0.007874015748031496\n",
            "0.9921259842519685\n"
          ],
          "name": "stdout"
        }
      ]
    },
    {
      "cell_type": "markdown",
      "metadata": {
        "id": "1ziQ6qUVyeUv",
        "colab_type": "text"
      },
      "source": [
        "Retraining the gaussian kernelized SVM for Species label with chosen C and gamma and computing hamming loss and exact match score for the same .\n",
        "\n",
        "Hamming loss :0.010653080129689671 <br>\n",
        "Exact Match : 0.9893469198703103"
      ]
    },
    {
      "cell_type": "code",
      "metadata": {
        "id": "aHZbkJc5Ilux",
        "colab_type": "code",
        "outputId": "022f9898-7a4c-43be-ce6a-91a6d3780e23",
        "colab": {
          "base_uri": "https://localhost:8080/",
          "height": 51
        }
      },
      "source": [
        "from sklearn.metrics import hamming_loss\n",
        "mdl=svm.SVC(C=10,gamma=1.0,decision_function_shape='ovr')\n",
        "mdl=mdl.fit(train_x,label_3_train)\n",
        "preds3=mdl.predict(test_x)\n",
        "hm_loss_species=hamming_loss(label_3_test,preds3)\n",
        "exact_match_species=mdl.score(test_x,label_3_test)\n",
        "print(hm_loss_species)\n",
        "print(exact_match_species)"
      ],
      "execution_count": 0,
      "outputs": [
        {
          "output_type": "stream",
          "text": [
            "0.010653080129689671\n",
            "0.9893469198703103\n"
          ],
          "name": "stdout"
        }
      ]
    },
    {
      "cell_type": "markdown",
      "metadata": {
        "id": "uWJ0NkXgzLON",
        "colab_type": "text"
      },
      "source": [
        "Overall hamming loss and exact match computed <br>\n",
        "\n",
        "The overall hamming loss is calculated by : <br>\n",
        "\n",
        "sum(not_equal(test_y_overall, preds_overall))/test_y_overall_size\n",
        "\n",
        "The overall exact match score is computed when the predicted value and actual value match for all the 3 labels in the same given row  \n",
        "\n",
        "Overall hamming loss : 0.008491585610622202 <br>\n",
        "Overall exact match : 0.9856415006947661\n"
      ]
    },
    {
      "cell_type": "code",
      "metadata": {
        "id": "FB4QdFYxNrtU",
        "colab_type": "code",
        "colab": {}
      },
      "source": [
        "import numpy as np\n",
        "preds_overall= np.concatenate((preds1.reshape(-1,1),preds2.reshape(-1,1),preds3.reshape(-1,1)),axis=1)\n",
        "test_y_overall= np.concatenate((np.array(label_1_test).reshape(-1,1),np.array(label_2_test).reshape(-1,1),np.array(label_3_test).reshape(-1,1)),axis=1)"
      ],
      "execution_count": 0,
      "outputs": []
    },
    {
      "cell_type": "code",
      "metadata": {
        "id": "12uiuc5jWpD4",
        "colab_type": "code",
        "outputId": "536068d1-4c90-4fbf-a4f9-4b0b397bd29a",
        "colab": {
          "base_uri": "https://localhost:8080/",
          "height": 34
        }
      },
      "source": [
        "test_y_overall_size=float(test_y_overall.size)\n",
        "total_hamming_loss = np.sum(np.not_equal(test_y_overall, preds_overall))/test_y_overall_size\n",
        "print(total_hamming_loss)"
      ],
      "execution_count": 0,
      "outputs": [
        {
          "output_type": "stream",
          "text": [
            "0.008491585610622202\n"
          ],
          "name": "stdout"
        }
      ]
    },
    {
      "cell_type": "code",
      "metadata": {
        "id": "BCL0ZGV2dRGA",
        "colab_type": "code",
        "outputId": "c12a9fd9-80d9-43bc-8a00-05dd0d870c79",
        "colab": {
          "base_uri": "https://localhost:8080/",
          "height": 34
        }
      },
      "source": [
        "t=0\n",
        "for i in range(0,len(preds_overall)):\n",
        "  if(preds1[i]==label_1_test.iloc[i,] and preds2[i]==label_2_test.iloc[i,] and preds3[i]==label_3_test.iloc[i,]):\n",
        "    t=t+1\n",
        "t=t/len(preds_overall)\n",
        "print(t)"
      ],
      "execution_count": 0,
      "outputs": [
        {
          "output_type": "stream",
          "text": [
            "0.9856415006947661\n"
          ],
          "name": "stdout"
        }
      ]
    },
    {
      "cell_type": "markdown",
      "metadata": {
        "id": "AXoskHq20Ufj",
        "colab_type": "text"
      },
      "source": [
        "# (1)(b)(iii) \n",
        "\n",
        "Computed the cross validation score on 3 separate L1 penalized linear SVM classifiers . One that has family as train_y , second that has genus as train_y and third that has species as train_y and then selected the value of C corresponding to the maximum cross val score for each of these classifiers and then fit our linear support vector classifier for different labels as train_y and used the C values that gave me the highest cross validation score for the classifier corresponding to that label ."
      ]
    },
    {
      "cell_type": "code",
      "metadata": {
        "id": "jldqxvLAijbi",
        "colab_type": "code",
        "colab": {}
      },
      "source": [
        "from sklearn.svm import LinearSVC\n",
        "lbl1_l1svm_score=list()\n",
        "lbl2_l1svm_score=list()\n",
        "lbl3_l1svm_score=list()\n",
        "\n",
        "\n"
      ],
      "execution_count": 0,
      "outputs": []
    },
    {
      "cell_type": "markdown",
      "metadata": {
        "id": "UH2TY4fl2O_5",
        "colab_type": "text"
      },
      "source": [
        "Standardized the features due to the presence of the L-1 penalty ."
      ]
    },
    {
      "cell_type": "code",
      "metadata": {
        "id": "CP9MGgMchbsZ",
        "colab_type": "code",
        "colab": {}
      },
      "source": [
        "from sklearn.preprocessing import StandardScaler\n",
        "\n",
        "sc = StandardScaler()\n",
        "train_x = sc.fit_transform(train_x)\n",
        "test_x = sc.transform(test_x)"
      ],
      "execution_count": 0,
      "outputs": []
    },
    {
      "cell_type": "code",
      "metadata": {
        "id": "kBtvYpOllHr9",
        "colab_type": "code",
        "outputId": "4c8d7d6a-1c92-47ed-d918-70735a6e160b",
        "colab": {
          "base_uri": "https://localhost:8080/",
          "height": 1000
        }
      },
      "source": [
        "C_vals=[0.001,0.01,0.1,1,10,100,1000]\n",
        "C1_list=[]\n",
        "\n",
        "for k in C_vals:\n",
        "    C1_list.append(k)\n",
        "    mdl = LinearSVC(C=k,penalty='l1',dual=False)\n",
        "    lbl1_l1svm_score.append(cross_val_score(mdl,train_x,label_1_train,cv=10).mean())\n",
        "    lbl2_l1svm_score.append(cross_val_score(mdl,train_x,label_2_train,cv=10).mean())\n",
        "    lbl3_l1svm_score.append(cross_val_score(mdl,train_x,label_3_train,cv=10).mean())"
      ],
      "execution_count": 0,
      "outputs": [
        {
          "output_type": "stream",
          "text": [
            "/usr/local/lib/python3.6/dist-packages/sklearn/svm/base.py:929: ConvergenceWarning: Liblinear failed to converge, increase the number of iterations.\n",
            "  \"the number of iterations.\", ConvergenceWarning)\n",
            "/usr/local/lib/python3.6/dist-packages/sklearn/svm/base.py:929: ConvergenceWarning: Liblinear failed to converge, increase the number of iterations.\n",
            "  \"the number of iterations.\", ConvergenceWarning)\n",
            "/usr/local/lib/python3.6/dist-packages/sklearn/svm/base.py:929: ConvergenceWarning: Liblinear failed to converge, increase the number of iterations.\n",
            "  \"the number of iterations.\", ConvergenceWarning)\n",
            "/usr/local/lib/python3.6/dist-packages/sklearn/svm/base.py:929: ConvergenceWarning: Liblinear failed to converge, increase the number of iterations.\n",
            "  \"the number of iterations.\", ConvergenceWarning)\n",
            "/usr/local/lib/python3.6/dist-packages/sklearn/svm/base.py:929: ConvergenceWarning: Liblinear failed to converge, increase the number of iterations.\n",
            "  \"the number of iterations.\", ConvergenceWarning)\n",
            "/usr/local/lib/python3.6/dist-packages/sklearn/svm/base.py:929: ConvergenceWarning: Liblinear failed to converge, increase the number of iterations.\n",
            "  \"the number of iterations.\", ConvergenceWarning)\n",
            "/usr/local/lib/python3.6/dist-packages/sklearn/svm/base.py:929: ConvergenceWarning: Liblinear failed to converge, increase the number of iterations.\n",
            "  \"the number of iterations.\", ConvergenceWarning)\n",
            "/usr/local/lib/python3.6/dist-packages/sklearn/svm/base.py:929: ConvergenceWarning: Liblinear failed to converge, increase the number of iterations.\n",
            "  \"the number of iterations.\", ConvergenceWarning)\n",
            "/usr/local/lib/python3.6/dist-packages/sklearn/svm/base.py:929: ConvergenceWarning: Liblinear failed to converge, increase the number of iterations.\n",
            "  \"the number of iterations.\", ConvergenceWarning)\n",
            "/usr/local/lib/python3.6/dist-packages/sklearn/svm/base.py:929: ConvergenceWarning: Liblinear failed to converge, increase the number of iterations.\n",
            "  \"the number of iterations.\", ConvergenceWarning)\n",
            "/usr/local/lib/python3.6/dist-packages/sklearn/svm/base.py:929: ConvergenceWarning: Liblinear failed to converge, increase the number of iterations.\n",
            "  \"the number of iterations.\", ConvergenceWarning)\n",
            "/usr/local/lib/python3.6/dist-packages/sklearn/svm/base.py:929: ConvergenceWarning: Liblinear failed to converge, increase the number of iterations.\n",
            "  \"the number of iterations.\", ConvergenceWarning)\n",
            "/usr/local/lib/python3.6/dist-packages/sklearn/svm/base.py:929: ConvergenceWarning: Liblinear failed to converge, increase the number of iterations.\n",
            "  \"the number of iterations.\", ConvergenceWarning)\n",
            "/usr/local/lib/python3.6/dist-packages/sklearn/svm/base.py:929: ConvergenceWarning: Liblinear failed to converge, increase the number of iterations.\n",
            "  \"the number of iterations.\", ConvergenceWarning)\n",
            "/usr/local/lib/python3.6/dist-packages/sklearn/svm/base.py:929: ConvergenceWarning: Liblinear failed to converge, increase the number of iterations.\n",
            "  \"the number of iterations.\", ConvergenceWarning)\n",
            "/usr/local/lib/python3.6/dist-packages/sklearn/svm/base.py:929: ConvergenceWarning: Liblinear failed to converge, increase the number of iterations.\n",
            "  \"the number of iterations.\", ConvergenceWarning)\n",
            "/usr/local/lib/python3.6/dist-packages/sklearn/svm/base.py:929: ConvergenceWarning: Liblinear failed to converge, increase the number of iterations.\n",
            "  \"the number of iterations.\", ConvergenceWarning)\n",
            "/usr/local/lib/python3.6/dist-packages/sklearn/svm/base.py:929: ConvergenceWarning: Liblinear failed to converge, increase the number of iterations.\n",
            "  \"the number of iterations.\", ConvergenceWarning)\n",
            "/usr/local/lib/python3.6/dist-packages/sklearn/svm/base.py:929: ConvergenceWarning: Liblinear failed to converge, increase the number of iterations.\n",
            "  \"the number of iterations.\", ConvergenceWarning)\n",
            "/usr/local/lib/python3.6/dist-packages/sklearn/svm/base.py:929: ConvergenceWarning: Liblinear failed to converge, increase the number of iterations.\n",
            "  \"the number of iterations.\", ConvergenceWarning)\n",
            "/usr/local/lib/python3.6/dist-packages/sklearn/svm/base.py:929: ConvergenceWarning: Liblinear failed to converge, increase the number of iterations.\n",
            "  \"the number of iterations.\", ConvergenceWarning)\n",
            "/usr/local/lib/python3.6/dist-packages/sklearn/svm/base.py:929: ConvergenceWarning: Liblinear failed to converge, increase the number of iterations.\n",
            "  \"the number of iterations.\", ConvergenceWarning)\n",
            "/usr/local/lib/python3.6/dist-packages/sklearn/svm/base.py:929: ConvergenceWarning: Liblinear failed to converge, increase the number of iterations.\n",
            "  \"the number of iterations.\", ConvergenceWarning)\n",
            "/usr/local/lib/python3.6/dist-packages/sklearn/svm/base.py:929: ConvergenceWarning: Liblinear failed to converge, increase the number of iterations.\n",
            "  \"the number of iterations.\", ConvergenceWarning)\n",
            "/usr/local/lib/python3.6/dist-packages/sklearn/svm/base.py:929: ConvergenceWarning: Liblinear failed to converge, increase the number of iterations.\n",
            "  \"the number of iterations.\", ConvergenceWarning)\n",
            "/usr/local/lib/python3.6/dist-packages/sklearn/svm/base.py:929: ConvergenceWarning: Liblinear failed to converge, increase the number of iterations.\n",
            "  \"the number of iterations.\", ConvergenceWarning)\n",
            "/usr/local/lib/python3.6/dist-packages/sklearn/svm/base.py:929: ConvergenceWarning: Liblinear failed to converge, increase the number of iterations.\n",
            "  \"the number of iterations.\", ConvergenceWarning)\n",
            "/usr/local/lib/python3.6/dist-packages/sklearn/svm/base.py:929: ConvergenceWarning: Liblinear failed to converge, increase the number of iterations.\n",
            "  \"the number of iterations.\", ConvergenceWarning)\n",
            "/usr/local/lib/python3.6/dist-packages/sklearn/svm/base.py:929: ConvergenceWarning: Liblinear failed to converge, increase the number of iterations.\n",
            "  \"the number of iterations.\", ConvergenceWarning)\n",
            "/usr/local/lib/python3.6/dist-packages/sklearn/svm/base.py:929: ConvergenceWarning: Liblinear failed to converge, increase the number of iterations.\n",
            "  \"the number of iterations.\", ConvergenceWarning)\n",
            "/usr/local/lib/python3.6/dist-packages/sklearn/svm/base.py:929: ConvergenceWarning: Liblinear failed to converge, increase the number of iterations.\n",
            "  \"the number of iterations.\", ConvergenceWarning)\n",
            "/usr/local/lib/python3.6/dist-packages/sklearn/svm/base.py:929: ConvergenceWarning: Liblinear failed to converge, increase the number of iterations.\n",
            "  \"the number of iterations.\", ConvergenceWarning)\n",
            "/usr/local/lib/python3.6/dist-packages/sklearn/svm/base.py:929: ConvergenceWarning: Liblinear failed to converge, increase the number of iterations.\n",
            "  \"the number of iterations.\", ConvergenceWarning)\n",
            "/usr/local/lib/python3.6/dist-packages/sklearn/svm/base.py:929: ConvergenceWarning: Liblinear failed to converge, increase the number of iterations.\n",
            "  \"the number of iterations.\", ConvergenceWarning)\n",
            "/usr/local/lib/python3.6/dist-packages/sklearn/svm/base.py:929: ConvergenceWarning: Liblinear failed to converge, increase the number of iterations.\n",
            "  \"the number of iterations.\", ConvergenceWarning)\n",
            "/usr/local/lib/python3.6/dist-packages/sklearn/svm/base.py:929: ConvergenceWarning: Liblinear failed to converge, increase the number of iterations.\n",
            "  \"the number of iterations.\", ConvergenceWarning)\n",
            "/usr/local/lib/python3.6/dist-packages/sklearn/svm/base.py:929: ConvergenceWarning: Liblinear failed to converge, increase the number of iterations.\n",
            "  \"the number of iterations.\", ConvergenceWarning)\n",
            "/usr/local/lib/python3.6/dist-packages/sklearn/svm/base.py:929: ConvergenceWarning: Liblinear failed to converge, increase the number of iterations.\n",
            "  \"the number of iterations.\", ConvergenceWarning)\n",
            "/usr/local/lib/python3.6/dist-packages/sklearn/svm/base.py:929: ConvergenceWarning: Liblinear failed to converge, increase the number of iterations.\n",
            "  \"the number of iterations.\", ConvergenceWarning)\n",
            "/usr/local/lib/python3.6/dist-packages/sklearn/svm/base.py:929: ConvergenceWarning: Liblinear failed to converge, increase the number of iterations.\n",
            "  \"the number of iterations.\", ConvergenceWarning)\n",
            "/usr/local/lib/python3.6/dist-packages/sklearn/svm/base.py:929: ConvergenceWarning: Liblinear failed to converge, increase the number of iterations.\n",
            "  \"the number of iterations.\", ConvergenceWarning)\n",
            "/usr/local/lib/python3.6/dist-packages/sklearn/svm/base.py:929: ConvergenceWarning: Liblinear failed to converge, increase the number of iterations.\n",
            "  \"the number of iterations.\", ConvergenceWarning)\n",
            "/usr/local/lib/python3.6/dist-packages/sklearn/svm/base.py:929: ConvergenceWarning: Liblinear failed to converge, increase the number of iterations.\n",
            "  \"the number of iterations.\", ConvergenceWarning)\n",
            "/usr/local/lib/python3.6/dist-packages/sklearn/svm/base.py:929: ConvergenceWarning: Liblinear failed to converge, increase the number of iterations.\n",
            "  \"the number of iterations.\", ConvergenceWarning)\n",
            "/usr/local/lib/python3.6/dist-packages/sklearn/svm/base.py:929: ConvergenceWarning: Liblinear failed to converge, increase the number of iterations.\n",
            "  \"the number of iterations.\", ConvergenceWarning)\n",
            "/usr/local/lib/python3.6/dist-packages/sklearn/svm/base.py:929: ConvergenceWarning: Liblinear failed to converge, increase the number of iterations.\n",
            "  \"the number of iterations.\", ConvergenceWarning)\n",
            "/usr/local/lib/python3.6/dist-packages/sklearn/svm/base.py:929: ConvergenceWarning: Liblinear failed to converge, increase the number of iterations.\n",
            "  \"the number of iterations.\", ConvergenceWarning)\n",
            "/usr/local/lib/python3.6/dist-packages/sklearn/svm/base.py:929: ConvergenceWarning: Liblinear failed to converge, increase the number of iterations.\n",
            "  \"the number of iterations.\", ConvergenceWarning)\n",
            "/usr/local/lib/python3.6/dist-packages/sklearn/svm/base.py:929: ConvergenceWarning: Liblinear failed to converge, increase the number of iterations.\n",
            "  \"the number of iterations.\", ConvergenceWarning)\n",
            "/usr/local/lib/python3.6/dist-packages/sklearn/svm/base.py:929: ConvergenceWarning: Liblinear failed to converge, increase the number of iterations.\n",
            "  \"the number of iterations.\", ConvergenceWarning)\n",
            "/usr/local/lib/python3.6/dist-packages/sklearn/svm/base.py:929: ConvergenceWarning: Liblinear failed to converge, increase the number of iterations.\n",
            "  \"the number of iterations.\", ConvergenceWarning)\n",
            "/usr/local/lib/python3.6/dist-packages/sklearn/svm/base.py:929: ConvergenceWarning: Liblinear failed to converge, increase the number of iterations.\n",
            "  \"the number of iterations.\", ConvergenceWarning)\n",
            "/usr/local/lib/python3.6/dist-packages/sklearn/svm/base.py:929: ConvergenceWarning: Liblinear failed to converge, increase the number of iterations.\n",
            "  \"the number of iterations.\", ConvergenceWarning)\n",
            "/usr/local/lib/python3.6/dist-packages/sklearn/svm/base.py:929: ConvergenceWarning: Liblinear failed to converge, increase the number of iterations.\n",
            "  \"the number of iterations.\", ConvergenceWarning)\n",
            "/usr/local/lib/python3.6/dist-packages/sklearn/svm/base.py:929: ConvergenceWarning: Liblinear failed to converge, increase the number of iterations.\n",
            "  \"the number of iterations.\", ConvergenceWarning)\n",
            "/usr/local/lib/python3.6/dist-packages/sklearn/svm/base.py:929: ConvergenceWarning: Liblinear failed to converge, increase the number of iterations.\n",
            "  \"the number of iterations.\", ConvergenceWarning)\n",
            "/usr/local/lib/python3.6/dist-packages/sklearn/svm/base.py:929: ConvergenceWarning: Liblinear failed to converge, increase the number of iterations.\n",
            "  \"the number of iterations.\", ConvergenceWarning)\n",
            "/usr/local/lib/python3.6/dist-packages/sklearn/svm/base.py:929: ConvergenceWarning: Liblinear failed to converge, increase the number of iterations.\n",
            "  \"the number of iterations.\", ConvergenceWarning)\n",
            "/usr/local/lib/python3.6/dist-packages/sklearn/svm/base.py:929: ConvergenceWarning: Liblinear failed to converge, increase the number of iterations.\n",
            "  \"the number of iterations.\", ConvergenceWarning)\n",
            "/usr/local/lib/python3.6/dist-packages/sklearn/svm/base.py:929: ConvergenceWarning: Liblinear failed to converge, increase the number of iterations.\n",
            "  \"the number of iterations.\", ConvergenceWarning)\n",
            "/usr/local/lib/python3.6/dist-packages/sklearn/svm/base.py:929: ConvergenceWarning: Liblinear failed to converge, increase the number of iterations.\n",
            "  \"the number of iterations.\", ConvergenceWarning)\n",
            "/usr/local/lib/python3.6/dist-packages/sklearn/svm/base.py:929: ConvergenceWarning: Liblinear failed to converge, increase the number of iterations.\n",
            "  \"the number of iterations.\", ConvergenceWarning)\n",
            "/usr/local/lib/python3.6/dist-packages/sklearn/svm/base.py:929: ConvergenceWarning: Liblinear failed to converge, increase the number of iterations.\n",
            "  \"the number of iterations.\", ConvergenceWarning)\n",
            "/usr/local/lib/python3.6/dist-packages/sklearn/svm/base.py:929: ConvergenceWarning: Liblinear failed to converge, increase the number of iterations.\n",
            "  \"the number of iterations.\", ConvergenceWarning)\n",
            "/usr/local/lib/python3.6/dist-packages/sklearn/svm/base.py:929: ConvergenceWarning: Liblinear failed to converge, increase the number of iterations.\n",
            "  \"the number of iterations.\", ConvergenceWarning)\n",
            "/usr/local/lib/python3.6/dist-packages/sklearn/svm/base.py:929: ConvergenceWarning: Liblinear failed to converge, increase the number of iterations.\n",
            "  \"the number of iterations.\", ConvergenceWarning)\n",
            "/usr/local/lib/python3.6/dist-packages/sklearn/svm/base.py:929: ConvergenceWarning: Liblinear failed to converge, increase the number of iterations.\n",
            "  \"the number of iterations.\", ConvergenceWarning)\n",
            "/usr/local/lib/python3.6/dist-packages/sklearn/svm/base.py:929: ConvergenceWarning: Liblinear failed to converge, increase the number of iterations.\n",
            "  \"the number of iterations.\", ConvergenceWarning)\n",
            "/usr/local/lib/python3.6/dist-packages/sklearn/svm/base.py:929: ConvergenceWarning: Liblinear failed to converge, increase the number of iterations.\n",
            "  \"the number of iterations.\", ConvergenceWarning)\n",
            "/usr/local/lib/python3.6/dist-packages/sklearn/svm/base.py:929: ConvergenceWarning: Liblinear failed to converge, increase the number of iterations.\n",
            "  \"the number of iterations.\", ConvergenceWarning)\n",
            "/usr/local/lib/python3.6/dist-packages/sklearn/svm/base.py:929: ConvergenceWarning: Liblinear failed to converge, increase the number of iterations.\n",
            "  \"the number of iterations.\", ConvergenceWarning)\n",
            "/usr/local/lib/python3.6/dist-packages/sklearn/svm/base.py:929: ConvergenceWarning: Liblinear failed to converge, increase the number of iterations.\n",
            "  \"the number of iterations.\", ConvergenceWarning)\n",
            "/usr/local/lib/python3.6/dist-packages/sklearn/svm/base.py:929: ConvergenceWarning: Liblinear failed to converge, increase the number of iterations.\n",
            "  \"the number of iterations.\", ConvergenceWarning)\n",
            "/usr/local/lib/python3.6/dist-packages/sklearn/svm/base.py:929: ConvergenceWarning: Liblinear failed to converge, increase the number of iterations.\n",
            "  \"the number of iterations.\", ConvergenceWarning)\n",
            "/usr/local/lib/python3.6/dist-packages/sklearn/svm/base.py:929: ConvergenceWarning: Liblinear failed to converge, increase the number of iterations.\n",
            "  \"the number of iterations.\", ConvergenceWarning)\n",
            "/usr/local/lib/python3.6/dist-packages/sklearn/svm/base.py:929: ConvergenceWarning: Liblinear failed to converge, increase the number of iterations.\n",
            "  \"the number of iterations.\", ConvergenceWarning)\n",
            "/usr/local/lib/python3.6/dist-packages/sklearn/svm/base.py:929: ConvergenceWarning: Liblinear failed to converge, increase the number of iterations.\n",
            "  \"the number of iterations.\", ConvergenceWarning)\n",
            "/usr/local/lib/python3.6/dist-packages/sklearn/svm/base.py:929: ConvergenceWarning: Liblinear failed to converge, increase the number of iterations.\n",
            "  \"the number of iterations.\", ConvergenceWarning)\n",
            "/usr/local/lib/python3.6/dist-packages/sklearn/svm/base.py:929: ConvergenceWarning: Liblinear failed to converge, increase the number of iterations.\n",
            "  \"the number of iterations.\", ConvergenceWarning)\n",
            "/usr/local/lib/python3.6/dist-packages/sklearn/svm/base.py:929: ConvergenceWarning: Liblinear failed to converge, increase the number of iterations.\n",
            "  \"the number of iterations.\", ConvergenceWarning)\n",
            "/usr/local/lib/python3.6/dist-packages/sklearn/svm/base.py:929: ConvergenceWarning: Liblinear failed to converge, increase the number of iterations.\n",
            "  \"the number of iterations.\", ConvergenceWarning)\n",
            "/usr/local/lib/python3.6/dist-packages/sklearn/svm/base.py:929: ConvergenceWarning: Liblinear failed to converge, increase the number of iterations.\n",
            "  \"the number of iterations.\", ConvergenceWarning)\n",
            "/usr/local/lib/python3.6/dist-packages/sklearn/svm/base.py:929: ConvergenceWarning: Liblinear failed to converge, increase the number of iterations.\n",
            "  \"the number of iterations.\", ConvergenceWarning)\n",
            "/usr/local/lib/python3.6/dist-packages/sklearn/svm/base.py:929: ConvergenceWarning: Liblinear failed to converge, increase the number of iterations.\n",
            "  \"the number of iterations.\", ConvergenceWarning)\n",
            "/usr/local/lib/python3.6/dist-packages/sklearn/svm/base.py:929: ConvergenceWarning: Liblinear failed to converge, increase the number of iterations.\n",
            "  \"the number of iterations.\", ConvergenceWarning)\n",
            "/usr/local/lib/python3.6/dist-packages/sklearn/svm/base.py:929: ConvergenceWarning: Liblinear failed to converge, increase the number of iterations.\n",
            "  \"the number of iterations.\", ConvergenceWarning)\n",
            "/usr/local/lib/python3.6/dist-packages/sklearn/svm/base.py:929: ConvergenceWarning: Liblinear failed to converge, increase the number of iterations.\n",
            "  \"the number of iterations.\", ConvergenceWarning)\n",
            "/usr/local/lib/python3.6/dist-packages/sklearn/svm/base.py:929: ConvergenceWarning: Liblinear failed to converge, increase the number of iterations.\n",
            "  \"the number of iterations.\", ConvergenceWarning)\n",
            "/usr/local/lib/python3.6/dist-packages/sklearn/svm/base.py:929: ConvergenceWarning: Liblinear failed to converge, increase the number of iterations.\n",
            "  \"the number of iterations.\", ConvergenceWarning)\n",
            "/usr/local/lib/python3.6/dist-packages/sklearn/svm/base.py:929: ConvergenceWarning: Liblinear failed to converge, increase the number of iterations.\n",
            "  \"the number of iterations.\", ConvergenceWarning)\n",
            "/usr/local/lib/python3.6/dist-packages/sklearn/svm/base.py:929: ConvergenceWarning: Liblinear failed to converge, increase the number of iterations.\n",
            "  \"the number of iterations.\", ConvergenceWarning)\n",
            "/usr/local/lib/python3.6/dist-packages/sklearn/svm/base.py:929: ConvergenceWarning: Liblinear failed to converge, increase the number of iterations.\n",
            "  \"the number of iterations.\", ConvergenceWarning)\n",
            "/usr/local/lib/python3.6/dist-packages/sklearn/svm/base.py:929: ConvergenceWarning: Liblinear failed to converge, increase the number of iterations.\n",
            "  \"the number of iterations.\", ConvergenceWarning)\n",
            "/usr/local/lib/python3.6/dist-packages/sklearn/svm/base.py:929: ConvergenceWarning: Liblinear failed to converge, increase the number of iterations.\n",
            "  \"the number of iterations.\", ConvergenceWarning)\n",
            "/usr/local/lib/python3.6/dist-packages/sklearn/svm/base.py:929: ConvergenceWarning: Liblinear failed to converge, increase the number of iterations.\n",
            "  \"the number of iterations.\", ConvergenceWarning)\n",
            "/usr/local/lib/python3.6/dist-packages/sklearn/svm/base.py:929: ConvergenceWarning: Liblinear failed to converge, increase the number of iterations.\n",
            "  \"the number of iterations.\", ConvergenceWarning)\n",
            "/usr/local/lib/python3.6/dist-packages/sklearn/svm/base.py:929: ConvergenceWarning: Liblinear failed to converge, increase the number of iterations.\n",
            "  \"the number of iterations.\", ConvergenceWarning)\n",
            "/usr/local/lib/python3.6/dist-packages/sklearn/svm/base.py:929: ConvergenceWarning: Liblinear failed to converge, increase the number of iterations.\n",
            "  \"the number of iterations.\", ConvergenceWarning)\n",
            "/usr/local/lib/python3.6/dist-packages/sklearn/svm/base.py:929: ConvergenceWarning: Liblinear failed to converge, increase the number of iterations.\n",
            "  \"the number of iterations.\", ConvergenceWarning)\n",
            "/usr/local/lib/python3.6/dist-packages/sklearn/svm/base.py:929: ConvergenceWarning: Liblinear failed to converge, increase the number of iterations.\n",
            "  \"the number of iterations.\", ConvergenceWarning)\n",
            "/usr/local/lib/python3.6/dist-packages/sklearn/svm/base.py:929: ConvergenceWarning: Liblinear failed to converge, increase the number of iterations.\n",
            "  \"the number of iterations.\", ConvergenceWarning)\n",
            "/usr/local/lib/python3.6/dist-packages/sklearn/svm/base.py:929: ConvergenceWarning: Liblinear failed to converge, increase the number of iterations.\n",
            "  \"the number of iterations.\", ConvergenceWarning)\n",
            "/usr/local/lib/python3.6/dist-packages/sklearn/svm/base.py:929: ConvergenceWarning: Liblinear failed to converge, increase the number of iterations.\n",
            "  \"the number of iterations.\", ConvergenceWarning)\n",
            "/usr/local/lib/python3.6/dist-packages/sklearn/svm/base.py:929: ConvergenceWarning: Liblinear failed to converge, increase the number of iterations.\n",
            "  \"the number of iterations.\", ConvergenceWarning)\n",
            "/usr/local/lib/python3.6/dist-packages/sklearn/svm/base.py:929: ConvergenceWarning: Liblinear failed to converge, increase the number of iterations.\n",
            "  \"the number of iterations.\", ConvergenceWarning)\n",
            "/usr/local/lib/python3.6/dist-packages/sklearn/svm/base.py:929: ConvergenceWarning: Liblinear failed to converge, increase the number of iterations.\n",
            "  \"the number of iterations.\", ConvergenceWarning)\n",
            "/usr/local/lib/python3.6/dist-packages/sklearn/svm/base.py:929: ConvergenceWarning: Liblinear failed to converge, increase the number of iterations.\n",
            "  \"the number of iterations.\", ConvergenceWarning)\n",
            "/usr/local/lib/python3.6/dist-packages/sklearn/svm/base.py:929: ConvergenceWarning: Liblinear failed to converge, increase the number of iterations.\n",
            "  \"the number of iterations.\", ConvergenceWarning)\n",
            "/usr/local/lib/python3.6/dist-packages/sklearn/svm/base.py:929: ConvergenceWarning: Liblinear failed to converge, increase the number of iterations.\n",
            "  \"the number of iterations.\", ConvergenceWarning)\n",
            "/usr/local/lib/python3.6/dist-packages/sklearn/svm/base.py:929: ConvergenceWarning: Liblinear failed to converge, increase the number of iterations.\n",
            "  \"the number of iterations.\", ConvergenceWarning)\n",
            "/usr/local/lib/python3.6/dist-packages/sklearn/svm/base.py:929: ConvergenceWarning: Liblinear failed to converge, increase the number of iterations.\n",
            "  \"the number of iterations.\", ConvergenceWarning)\n",
            "/usr/local/lib/python3.6/dist-packages/sklearn/svm/base.py:929: ConvergenceWarning: Liblinear failed to converge, increase the number of iterations.\n",
            "  \"the number of iterations.\", ConvergenceWarning)\n",
            "/usr/local/lib/python3.6/dist-packages/sklearn/svm/base.py:929: ConvergenceWarning: Liblinear failed to converge, increase the number of iterations.\n",
            "  \"the number of iterations.\", ConvergenceWarning)\n",
            "/usr/local/lib/python3.6/dist-packages/sklearn/svm/base.py:929: ConvergenceWarning: Liblinear failed to converge, increase the number of iterations.\n",
            "  \"the number of iterations.\", ConvergenceWarning)\n",
            "/usr/local/lib/python3.6/dist-packages/sklearn/svm/base.py:929: ConvergenceWarning: Liblinear failed to converge, increase the number of iterations.\n",
            "  \"the number of iterations.\", ConvergenceWarning)\n",
            "/usr/local/lib/python3.6/dist-packages/sklearn/svm/base.py:929: ConvergenceWarning: Liblinear failed to converge, increase the number of iterations.\n",
            "  \"the number of iterations.\", ConvergenceWarning)\n",
            "/usr/local/lib/python3.6/dist-packages/sklearn/svm/base.py:929: ConvergenceWarning: Liblinear failed to converge, increase the number of iterations.\n",
            "  \"the number of iterations.\", ConvergenceWarning)\n",
            "/usr/local/lib/python3.6/dist-packages/sklearn/svm/base.py:929: ConvergenceWarning: Liblinear failed to converge, increase the number of iterations.\n",
            "  \"the number of iterations.\", ConvergenceWarning)\n",
            "/usr/local/lib/python3.6/dist-packages/sklearn/svm/base.py:929: ConvergenceWarning: Liblinear failed to converge, increase the number of iterations.\n",
            "  \"the number of iterations.\", ConvergenceWarning)\n",
            "/usr/local/lib/python3.6/dist-packages/sklearn/svm/base.py:929: ConvergenceWarning: Liblinear failed to converge, increase the number of iterations.\n",
            "  \"the number of iterations.\", ConvergenceWarning)\n",
            "/usr/local/lib/python3.6/dist-packages/sklearn/svm/base.py:929: ConvergenceWarning: Liblinear failed to converge, increase the number of iterations.\n",
            "  \"the number of iterations.\", ConvergenceWarning)\n",
            "/usr/local/lib/python3.6/dist-packages/sklearn/svm/base.py:929: ConvergenceWarning: Liblinear failed to converge, increase the number of iterations.\n",
            "  \"the number of iterations.\", ConvergenceWarning)\n",
            "/usr/local/lib/python3.6/dist-packages/sklearn/svm/base.py:929: ConvergenceWarning: Liblinear failed to converge, increase the number of iterations.\n",
            "  \"the number of iterations.\", ConvergenceWarning)\n",
            "/usr/local/lib/python3.6/dist-packages/sklearn/svm/base.py:929: ConvergenceWarning: Liblinear failed to converge, increase the number of iterations.\n",
            "  \"the number of iterations.\", ConvergenceWarning)\n",
            "/usr/local/lib/python3.6/dist-packages/sklearn/svm/base.py:929: ConvergenceWarning: Liblinear failed to converge, increase the number of iterations.\n",
            "  \"the number of iterations.\", ConvergenceWarning)\n",
            "/usr/local/lib/python3.6/dist-packages/sklearn/svm/base.py:929: ConvergenceWarning: Liblinear failed to converge, increase the number of iterations.\n",
            "  \"the number of iterations.\", ConvergenceWarning)\n",
            "/usr/local/lib/python3.6/dist-packages/sklearn/svm/base.py:929: ConvergenceWarning: Liblinear failed to converge, increase the number of iterations.\n",
            "  \"the number of iterations.\", ConvergenceWarning)\n",
            "/usr/local/lib/python3.6/dist-packages/sklearn/svm/base.py:929: ConvergenceWarning: Liblinear failed to converge, increase the number of iterations.\n",
            "  \"the number of iterations.\", ConvergenceWarning)\n",
            "/usr/local/lib/python3.6/dist-packages/sklearn/svm/base.py:929: ConvergenceWarning: Liblinear failed to converge, increase the number of iterations.\n",
            "  \"the number of iterations.\", ConvergenceWarning)\n",
            "/usr/local/lib/python3.6/dist-packages/sklearn/svm/base.py:929: ConvergenceWarning: Liblinear failed to converge, increase the number of iterations.\n",
            "  \"the number of iterations.\", ConvergenceWarning)\n",
            "/usr/local/lib/python3.6/dist-packages/sklearn/svm/base.py:929: ConvergenceWarning: Liblinear failed to converge, increase the number of iterations.\n",
            "  \"the number of iterations.\", ConvergenceWarning)\n",
            "/usr/local/lib/python3.6/dist-packages/sklearn/svm/base.py:929: ConvergenceWarning: Liblinear failed to converge, increase the number of iterations.\n",
            "  \"the number of iterations.\", ConvergenceWarning)\n",
            "/usr/local/lib/python3.6/dist-packages/sklearn/svm/base.py:929: ConvergenceWarning: Liblinear failed to converge, increase the number of iterations.\n",
            "  \"the number of iterations.\", ConvergenceWarning)\n",
            "/usr/local/lib/python3.6/dist-packages/sklearn/svm/base.py:929: ConvergenceWarning: Liblinear failed to converge, increase the number of iterations.\n",
            "  \"the number of iterations.\", ConvergenceWarning)\n",
            "/usr/local/lib/python3.6/dist-packages/sklearn/svm/base.py:929: ConvergenceWarning: Liblinear failed to converge, increase the number of iterations.\n",
            "  \"the number of iterations.\", ConvergenceWarning)\n",
            "/usr/local/lib/python3.6/dist-packages/sklearn/svm/base.py:929: ConvergenceWarning: Liblinear failed to converge, increase the number of iterations.\n",
            "  \"the number of iterations.\", ConvergenceWarning)\n",
            "/usr/local/lib/python3.6/dist-packages/sklearn/svm/base.py:929: ConvergenceWarning: Liblinear failed to converge, increase the number of iterations.\n",
            "  \"the number of iterations.\", ConvergenceWarning)\n",
            "/usr/local/lib/python3.6/dist-packages/sklearn/svm/base.py:929: ConvergenceWarning: Liblinear failed to converge, increase the number of iterations.\n",
            "  \"the number of iterations.\", ConvergenceWarning)\n"
          ],
          "name": "stderr"
        }
      ]
    },
    {
      "cell_type": "markdown",
      "metadata": {
        "id": "sK6xWmjn3swf",
        "colab_type": "text"
      },
      "source": [
        "C values corresponding to their respective cross validation scores as a table with family label"
      ]
    },
    {
      "cell_type": "code",
      "metadata": {
        "id": "MR5YB6PQmcP6",
        "colab_type": "code",
        "outputId": "5dcd3daf-df8a-4da6-ff78-dae0002e24c0",
        "colab": {
          "base_uri": "https://localhost:8080/",
          "height": 266
        }
      },
      "source": [
        "C_l1_selector_family = pd.DataFrame({\"C-values\":C1_list,\"Family\":lbl1_l1svm_score})\n",
        "C_l1_selector_family    "
      ],
      "execution_count": 0,
      "outputs": [
        {
          "output_type": "execute_result",
          "data": {
            "text/html": [
              "<div>\n",
              "<style scoped>\n",
              "    .dataframe tbody tr th:only-of-type {\n",
              "        vertical-align: middle;\n",
              "    }\n",
              "\n",
              "    .dataframe tbody tr th {\n",
              "        vertical-align: top;\n",
              "    }\n",
              "\n",
              "    .dataframe thead th {\n",
              "        text-align: right;\n",
              "    }\n",
              "</style>\n",
              "<table border=\"1\" class=\"dataframe\">\n",
              "  <thead>\n",
              "    <tr style=\"text-align: right;\">\n",
              "      <th></th>\n",
              "      <th>C-values</th>\n",
              "      <th>Family</th>\n",
              "    </tr>\n",
              "  </thead>\n",
              "  <tbody>\n",
              "    <tr>\n",
              "      <th>0</th>\n",
              "      <td>0.001</td>\n",
              "      <td>0.852855</td>\n",
              "    </tr>\n",
              "    <tr>\n",
              "      <th>1</th>\n",
              "      <td>0.010</td>\n",
              "      <td>0.929516</td>\n",
              "    </tr>\n",
              "    <tr>\n",
              "      <th>2</th>\n",
              "      <td>0.100</td>\n",
              "      <td>0.938056</td>\n",
              "    </tr>\n",
              "    <tr>\n",
              "      <th>3</th>\n",
              "      <td>1.000</td>\n",
              "      <td>0.940632</td>\n",
              "    </tr>\n",
              "    <tr>\n",
              "      <th>4</th>\n",
              "      <td>10.000</td>\n",
              "      <td>0.940433</td>\n",
              "    </tr>\n",
              "    <tr>\n",
              "      <th>5</th>\n",
              "      <td>100.000</td>\n",
              "      <td>0.940235</td>\n",
              "    </tr>\n",
              "    <tr>\n",
              "      <th>6</th>\n",
              "      <td>1000.000</td>\n",
              "      <td>0.940235</td>\n",
              "    </tr>\n",
              "  </tbody>\n",
              "</table>\n",
              "</div>"
            ],
            "text/plain": [
              "   C-values    Family\n",
              "0     0.001  0.852855\n",
              "1     0.010  0.929516\n",
              "2     0.100  0.938056\n",
              "3     1.000  0.940632\n",
              "4    10.000  0.940433\n",
              "5   100.000  0.940235\n",
              "6  1000.000  0.940235"
            ]
          },
          "metadata": {
            "tags": []
          },
          "execution_count": 88
        }
      ]
    },
    {
      "cell_type": "markdown",
      "metadata": {
        "id": "7XCx64Ln346Z",
        "colab_type": "text"
      },
      "source": [
        "Chose C =1 for Family label"
      ]
    },
    {
      "cell_type": "code",
      "metadata": {
        "id": "Lj4XnFa2nHhP",
        "colab_type": "code",
        "outputId": "06f711cd-85c8-4a23-8cd5-6ced16d758be",
        "colab": {
          "base_uri": "https://localhost:8080/",
          "height": 80
        }
      },
      "source": [
        "C_l1_selector_family[C_l1_selector_family['Family']==max(lbl1_l1svm_score)]"
      ],
      "execution_count": 0,
      "outputs": [
        {
          "output_type": "execute_result",
          "data": {
            "text/html": [
              "<div>\n",
              "<style scoped>\n",
              "    .dataframe tbody tr th:only-of-type {\n",
              "        vertical-align: middle;\n",
              "    }\n",
              "\n",
              "    .dataframe tbody tr th {\n",
              "        vertical-align: top;\n",
              "    }\n",
              "\n",
              "    .dataframe thead th {\n",
              "        text-align: right;\n",
              "    }\n",
              "</style>\n",
              "<table border=\"1\" class=\"dataframe\">\n",
              "  <thead>\n",
              "    <tr style=\"text-align: right;\">\n",
              "      <th></th>\n",
              "      <th>C-values</th>\n",
              "      <th>Family</th>\n",
              "    </tr>\n",
              "  </thead>\n",
              "  <tbody>\n",
              "    <tr>\n",
              "      <th>3</th>\n",
              "      <td>1.0</td>\n",
              "      <td>0.940632</td>\n",
              "    </tr>\n",
              "  </tbody>\n",
              "</table>\n",
              "</div>"
            ],
            "text/plain": [
              "   C-values    Family\n",
              "3       1.0  0.940632"
            ]
          },
          "metadata": {
            "tags": []
          },
          "execution_count": 89
        }
      ]
    },
    {
      "cell_type": "markdown",
      "metadata": {
        "id": "P9HTh4wlA07s",
        "colab_type": "text"
      },
      "source": [
        "C values corresponding to their respective cross validation scores as a table with Genus label"
      ]
    },
    {
      "cell_type": "code",
      "metadata": {
        "id": "1OszJqFunQov",
        "colab_type": "code",
        "outputId": "17a7a3f8-2125-4dfa-8bad-3ce08c2ff75b",
        "colab": {
          "base_uri": "https://localhost:8080/",
          "height": 266
        }
      },
      "source": [
        "C_l1_selector_genus = pd.DataFrame({\"C-values\":C1_list,\"Genus\":lbl2_l1svm_score})\n",
        "C_l1_selector_genus    "
      ],
      "execution_count": 0,
      "outputs": [
        {
          "output_type": "execute_result",
          "data": {
            "text/html": [
              "<div>\n",
              "<style scoped>\n",
              "    .dataframe tbody tr th:only-of-type {\n",
              "        vertical-align: middle;\n",
              "    }\n",
              "\n",
              "    .dataframe tbody tr th {\n",
              "        vertical-align: top;\n",
              "    }\n",
              "\n",
              "    .dataframe thead th {\n",
              "        text-align: right;\n",
              "    }\n",
              "</style>\n",
              "<table border=\"1\" class=\"dataframe\">\n",
              "  <thead>\n",
              "    <tr style=\"text-align: right;\">\n",
              "      <th></th>\n",
              "      <th>C-values</th>\n",
              "      <th>Genus</th>\n",
              "    </tr>\n",
              "  </thead>\n",
              "  <tbody>\n",
              "    <tr>\n",
              "      <th>0</th>\n",
              "      <td>0.001</td>\n",
              "      <td>0.823683</td>\n",
              "    </tr>\n",
              "    <tr>\n",
              "      <th>1</th>\n",
              "      <td>0.010</td>\n",
              "      <td>0.913818</td>\n",
              "    </tr>\n",
              "    <tr>\n",
              "      <th>2</th>\n",
              "      <td>0.100</td>\n",
              "      <td>0.942619</td>\n",
              "    </tr>\n",
              "    <tr>\n",
              "      <th>3</th>\n",
              "      <td>1.000</td>\n",
              "      <td>0.950956</td>\n",
              "    </tr>\n",
              "    <tr>\n",
              "      <th>4</th>\n",
              "      <td>10.000</td>\n",
              "      <td>0.952751</td>\n",
              "    </tr>\n",
              "    <tr>\n",
              "      <th>5</th>\n",
              "      <td>100.000</td>\n",
              "      <td>0.952948</td>\n",
              "    </tr>\n",
              "    <tr>\n",
              "      <th>6</th>\n",
              "      <td>1000.000</td>\n",
              "      <td>0.952948</td>\n",
              "    </tr>\n",
              "  </tbody>\n",
              "</table>\n",
              "</div>"
            ],
            "text/plain": [
              "   C-values     Genus\n",
              "0     0.001  0.823683\n",
              "1     0.010  0.913818\n",
              "2     0.100  0.942619\n",
              "3     1.000  0.950956\n",
              "4    10.000  0.952751\n",
              "5   100.000  0.952948\n",
              "6  1000.000  0.952948"
            ]
          },
          "metadata": {
            "tags": []
          },
          "execution_count": 90
        }
      ]
    },
    {
      "cell_type": "markdown",
      "metadata": {
        "id": "jXvYHNFwA55q",
        "colab_type": "text"
      },
      "source": [
        "Chose C =100 for Genus label"
      ]
    },
    {
      "cell_type": "code",
      "metadata": {
        "id": "5N_QUylXnV1T",
        "colab_type": "code",
        "outputId": "b5442917-38be-4bae-f40a-389c1e95d30d",
        "colab": {
          "base_uri": "https://localhost:8080/",
          "height": 111
        }
      },
      "source": [
        "C_l1_selector_genus[C_l1_selector_genus['Genus']==max(lbl2_l1svm_score)]"
      ],
      "execution_count": 0,
      "outputs": [
        {
          "output_type": "execute_result",
          "data": {
            "text/html": [
              "<div>\n",
              "<style scoped>\n",
              "    .dataframe tbody tr th:only-of-type {\n",
              "        vertical-align: middle;\n",
              "    }\n",
              "\n",
              "    .dataframe tbody tr th {\n",
              "        vertical-align: top;\n",
              "    }\n",
              "\n",
              "    .dataframe thead th {\n",
              "        text-align: right;\n",
              "    }\n",
              "</style>\n",
              "<table border=\"1\" class=\"dataframe\">\n",
              "  <thead>\n",
              "    <tr style=\"text-align: right;\">\n",
              "      <th></th>\n",
              "      <th>C-values</th>\n",
              "      <th>Genus</th>\n",
              "    </tr>\n",
              "  </thead>\n",
              "  <tbody>\n",
              "    <tr>\n",
              "      <th>5</th>\n",
              "      <td>100.0</td>\n",
              "      <td>0.952948</td>\n",
              "    </tr>\n",
              "    <tr>\n",
              "      <th>6</th>\n",
              "      <td>1000.0</td>\n",
              "      <td>0.952948</td>\n",
              "    </tr>\n",
              "  </tbody>\n",
              "</table>\n",
              "</div>"
            ],
            "text/plain": [
              "   C-values     Genus\n",
              "5     100.0  0.952948\n",
              "6    1000.0  0.952948"
            ]
          },
          "metadata": {
            "tags": []
          },
          "execution_count": 91
        }
      ]
    },
    {
      "cell_type": "markdown",
      "metadata": {
        "id": "-jw-ksb2BCWZ",
        "colab_type": "text"
      },
      "source": [
        "C values corresponding to their respective cross validation scores as a table with Species label"
      ]
    },
    {
      "cell_type": "code",
      "metadata": {
        "id": "94iem9cNnfRK",
        "colab_type": "code",
        "outputId": "ff7bd137-1493-401e-9c11-d63724700445",
        "colab": {
          "base_uri": "https://localhost:8080/",
          "height": 266
        }
      },
      "source": [
        "C_l1_selector_species = pd.DataFrame({\"C-values\":C1_list,\"Species\":lbl3_l1svm_score})\n",
        "C_l1_selector_species"
      ],
      "execution_count": 0,
      "outputs": [
        {
          "output_type": "execute_result",
          "data": {
            "text/html": [
              "<div>\n",
              "<style scoped>\n",
              "    .dataframe tbody tr th:only-of-type {\n",
              "        vertical-align: middle;\n",
              "    }\n",
              "\n",
              "    .dataframe tbody tr th {\n",
              "        vertical-align: top;\n",
              "    }\n",
              "\n",
              "    .dataframe thead th {\n",
              "        text-align: right;\n",
              "    }\n",
              "</style>\n",
              "<table border=\"1\" class=\"dataframe\">\n",
              "  <thead>\n",
              "    <tr style=\"text-align: right;\">\n",
              "      <th></th>\n",
              "      <th>C-values</th>\n",
              "      <th>Species</th>\n",
              "    </tr>\n",
              "  </thead>\n",
              "  <tbody>\n",
              "    <tr>\n",
              "      <th>0</th>\n",
              "      <td>0.001</td>\n",
              "      <td>0.786936</td>\n",
              "    </tr>\n",
              "    <tr>\n",
              "      <th>1</th>\n",
              "      <td>0.010</td>\n",
              "      <td>0.915013</td>\n",
              "    </tr>\n",
              "    <tr>\n",
              "      <th>2</th>\n",
              "      <td>0.100</td>\n",
              "      <td>0.949755</td>\n",
              "    </tr>\n",
              "    <tr>\n",
              "      <th>3</th>\n",
              "      <td>1.000</td>\n",
              "      <td>0.960684</td>\n",
              "    </tr>\n",
              "    <tr>\n",
              "      <th>4</th>\n",
              "      <td>10.000</td>\n",
              "      <td>0.960483</td>\n",
              "    </tr>\n",
              "    <tr>\n",
              "      <th>5</th>\n",
              "      <td>100.000</td>\n",
              "      <td>0.960285</td>\n",
              "    </tr>\n",
              "    <tr>\n",
              "      <th>6</th>\n",
              "      <td>1000.000</td>\n",
              "      <td>0.960285</td>\n",
              "    </tr>\n",
              "  </tbody>\n",
              "</table>\n",
              "</div>"
            ],
            "text/plain": [
              "   C-values   Species\n",
              "0     0.001  0.786936\n",
              "1     0.010  0.915013\n",
              "2     0.100  0.949755\n",
              "3     1.000  0.960684\n",
              "4    10.000  0.960483\n",
              "5   100.000  0.960285\n",
              "6  1000.000  0.960285"
            ]
          },
          "metadata": {
            "tags": []
          },
          "execution_count": 92
        }
      ]
    },
    {
      "cell_type": "markdown",
      "metadata": {
        "id": "8ll5_XGiBwk-",
        "colab_type": "text"
      },
      "source": [
        "Chose C =1 for Genus label"
      ]
    },
    {
      "cell_type": "code",
      "metadata": {
        "id": "IUdCvbl4noSO",
        "colab_type": "code",
        "outputId": "3c4560ef-7323-4561-8219-343ff29f41fa",
        "colab": {
          "base_uri": "https://localhost:8080/",
          "height": 80
        }
      },
      "source": [
        "C_l1_selector_species[C_l1_selector_species['Species']==max(lbl3_l1svm_score)]"
      ],
      "execution_count": 0,
      "outputs": [
        {
          "output_type": "execute_result",
          "data": {
            "text/html": [
              "<div>\n",
              "<style scoped>\n",
              "    .dataframe tbody tr th:only-of-type {\n",
              "        vertical-align: middle;\n",
              "    }\n",
              "\n",
              "    .dataframe tbody tr th {\n",
              "        vertical-align: top;\n",
              "    }\n",
              "\n",
              "    .dataframe thead th {\n",
              "        text-align: right;\n",
              "    }\n",
              "</style>\n",
              "<table border=\"1\" class=\"dataframe\">\n",
              "  <thead>\n",
              "    <tr style=\"text-align: right;\">\n",
              "      <th></th>\n",
              "      <th>C-values</th>\n",
              "      <th>Species</th>\n",
              "    </tr>\n",
              "  </thead>\n",
              "  <tbody>\n",
              "    <tr>\n",
              "      <th>3</th>\n",
              "      <td>1.0</td>\n",
              "      <td>0.960684</td>\n",
              "    </tr>\n",
              "  </tbody>\n",
              "</table>\n",
              "</div>"
            ],
            "text/plain": [
              "   C-values   Species\n",
              "3       1.0  0.960684"
            ]
          },
          "metadata": {
            "tags": []
          },
          "execution_count": 93
        }
      ]
    },
    {
      "cell_type": "markdown",
      "metadata": {
        "id": "Ll50KFYwBzhP",
        "colab_type": "text"
      },
      "source": [
        "Retraining the L-1 penalized linear SVC for family label with chosen C and computing hamming loss and exact match score for the same .\n",
        "\n",
        "Hamming loss :0.07132931912922649 <br>\n",
        "Exact Match : 0.9286706808707735"
      ]
    },
    {
      "cell_type": "code",
      "metadata": {
        "id": "Lq_b07Smnwik",
        "colab_type": "code",
        "outputId": "87c74857-133d-492c-f844-efea16d0aff5",
        "colab": {
          "base_uri": "https://localhost:8080/",
          "height": 85
        }
      },
      "source": [
        "from sklearn.metrics import hamming_loss\n",
        "mdl = LinearSVC(C=1,penalty='l1',dual=False)\n",
        "mdl=mdl.fit(train_x,label_1_train)\n",
        "preds1=mdl.predict(test_x)\n",
        "hm_loss_family=hamming_loss(label_1_test,preds1)\n",
        "exact_match_family=mdl.score(test_x,label_1_test)\n",
        "print(hm_loss_family)\n",
        "print(exact_match_family)"
      ],
      "execution_count": 0,
      "outputs": [
        {
          "output_type": "stream",
          "text": [
            "0.07132931912922649\n",
            "0.9286706808707735\n"
          ],
          "name": "stdout"
        },
        {
          "output_type": "stream",
          "text": [
            "/usr/local/lib/python3.6/dist-packages/sklearn/svm/base.py:929: ConvergenceWarning: Liblinear failed to converge, increase the number of iterations.\n",
            "  \"the number of iterations.\", ConvergenceWarning)\n"
          ],
          "name": "stderr"
        }
      ]
    },
    {
      "cell_type": "markdown",
      "metadata": {
        "id": "yUN3aFBnCSJe",
        "colab_type": "text"
      },
      "source": [
        "Retraining the L-1 penalized linear SVC for Genus label with chosen C and computing hamming loss and exact match score for the same .\n",
        "\n",
        "Hamming loss :0.058360352014821676 <br>\n",
        "Exact Match : 0.9416396479851783"
      ]
    },
    {
      "cell_type": "code",
      "metadata": {
        "id": "wftl8SHMoCwA",
        "colab_type": "code",
        "outputId": "d90b7d24-0be1-43c9-e302-c38133131651",
        "colab": {
          "base_uri": "https://localhost:8080/",
          "height": 85
        }
      },
      "source": [
        "from sklearn.metrics import hamming_loss\n",
        "mdl = LinearSVC(C=100,penalty='l1',dual=False)\n",
        "mdl=mdl.fit(train_x,label_2_train)\n",
        "preds2=mdl.predict(test_x)\n",
        "hm_loss_genus=hamming_loss(label_2_test,preds2)\n",
        "exact_match_genus=mdl.score(test_x,label_2_test)\n",
        "print(hm_loss_genus)\n",
        "print(exact_match_genus)"
      ],
      "execution_count": 0,
      "outputs": [
        {
          "output_type": "stream",
          "text": [
            "0.058360352014821676\n",
            "0.9416396479851783\n"
          ],
          "name": "stdout"
        },
        {
          "output_type": "stream",
          "text": [
            "/usr/local/lib/python3.6/dist-packages/sklearn/svm/base.py:929: ConvergenceWarning: Liblinear failed to converge, increase the number of iterations.\n",
            "  \"the number of iterations.\", ConvergenceWarning)\n"
          ],
          "name": "stderr"
        }
      ]
    },
    {
      "cell_type": "markdown",
      "metadata": {
        "id": "9tq9KjmECet4",
        "colab_type": "text"
      },
      "source": [
        "Retraining the L-1 penalized linear SVC for Species label with chosen C and computing hamming loss and exact match score for the same .\n",
        "\n",
        "Hamming loss :0.041222788327929596 <br>\n",
        "Exact Match : 0.9587772116720704"
      ]
    },
    {
      "cell_type": "code",
      "metadata": {
        "id": "Z7iLVxGtoSOd",
        "colab_type": "code",
        "outputId": "9e851eb3-6fc2-4a0b-bf29-422f6e6b8a13",
        "colab": {
          "base_uri": "https://localhost:8080/",
          "height": 85
        }
      },
      "source": [
        "from sklearn.metrics import hamming_loss\n",
        "mdl = LinearSVC(C=1,penalty='l1',dual=False)\n",
        "mdl=mdl.fit(train_x,label_3_train)\n",
        "preds3=mdl.predict(test_x)\n",
        "hm_loss_species=hamming_loss(label_3_test,preds3)\n",
        "exact_match_species=mdl.score(test_x,label_3_test)\n",
        "print(hm_loss_species)\n",
        "print(exact_match_species)"
      ],
      "execution_count": 0,
      "outputs": [
        {
          "output_type": "stream",
          "text": [
            "0.041222788327929596\n",
            "0.9587772116720704\n"
          ],
          "name": "stdout"
        },
        {
          "output_type": "stream",
          "text": [
            "/usr/local/lib/python3.6/dist-packages/sklearn/svm/base.py:929: ConvergenceWarning: Liblinear failed to converge, increase the number of iterations.\n",
            "  \"the number of iterations.\", ConvergenceWarning)\n"
          ],
          "name": "stderr"
        }
      ]
    },
    {
      "cell_type": "markdown",
      "metadata": {
        "id": "LFBv46WVCtb2",
        "colab_type": "text"
      },
      "source": [
        "Overall hamming loss and exact match computed <br>\n",
        "\n",
        "The overall hamming loss is calculated by : <br>\n",
        "\n",
        "sum(not_equal(test_y_overall, preds_overall))/test_y_overall_size\n",
        "\n",
        "The overall exact match score is computed when the predicted value and actual value match for all the 3 labels in the same given row  \n",
        "\n",
        "Overall hamming loss : 0.05697081982399259 <br>\n",
        "Overall exact match : 0.9133858267716536"
      ]
    },
    {
      "cell_type": "code",
      "metadata": {
        "id": "93c93NsApE19",
        "colab_type": "code",
        "colab": {}
      },
      "source": [
        "import numpy as np\n",
        "preds_overall_l1= np.concatenate((preds1.reshape(-1,1),preds2.reshape(-1,1),preds3.reshape(-1,1)),axis=1)\n",
        "test_y_overall_l1= np.concatenate((np.array(label_1_test).reshape(-1,1),np.array(label_2_test).reshape(-1,1),np.array(label_3_test).reshape(-1,1)),axis=1)"
      ],
      "execution_count": 0,
      "outputs": []
    },
    {
      "cell_type": "code",
      "metadata": {
        "id": "Q8R0q72lpSVl",
        "colab_type": "code",
        "outputId": "3fd6e8ad-509d-445a-cd51-45cdf6e5975c",
        "colab": {
          "base_uri": "https://localhost:8080/",
          "height": 34
        }
      },
      "source": [
        "test_y_overall_l1_size=float(test_y_overall_l1.size)\n",
        "total_hamming_loss_l1 = np.sum(np.not_equal(test_y_overall_l1, preds_overall_l1))/test_y_overall_l1_size\n",
        "print(total_hamming_loss_l1)"
      ],
      "execution_count": 0,
      "outputs": [
        {
          "output_type": "stream",
          "text": [
            "0.05697081982399259\n"
          ],
          "name": "stdout"
        }
      ]
    },
    {
      "cell_type": "code",
      "metadata": {
        "id": "xNFm5nRmptUN",
        "colab_type": "code",
        "outputId": "fe52a89e-5e6a-418b-c532-17a370975c44",
        "colab": {
          "base_uri": "https://localhost:8080/",
          "height": 34
        }
      },
      "source": [
        "t=0\n",
        "for i in range(0,len(preds_overall_l1)):\n",
        "  if(preds1[i]==label_1_test.iloc[i,] and preds2[i]==label_2_test.iloc[i,] and preds3[i]==label_3_test.iloc[i,]):\n",
        "    t=t+1\n",
        "t=t/len(preds_overall_l1)\n",
        "print(t)"
      ],
      "execution_count": 0,
      "outputs": [
        {
          "output_type": "stream",
          "text": [
            "0.9133858267716536\n"
          ],
          "name": "stdout"
        }
      ]
    },
    {
      "cell_type": "markdown",
      "metadata": {
        "id": "e50reDv8DEnB",
        "colab_type": "text"
      },
      "source": [
        "# (1)(b)(iv)\n",
        "\n",
        "Computed the cross validation score on 3 separate L1 penalized linear SVM classifiers . One that has family as train_y , second that has genus as train_y and third that has species as train_y and then selected the value of C corresponding to the maximum cross val score for each of these classifiers and then fit our linear support vector classifier for different labels as train_y and used the C values that gave me the highest cross validation score for the classifier corresponding to that label ."
      ]
    },
    {
      "cell_type": "markdown",
      "metadata": {
        "id": "IsYOmZ5GD0hU",
        "colab_type": "text"
      },
      "source": [
        "Remove the class imbalance using SMOTE ( synthetic minority oversampling technique) and then use the data sampled using SMOTE in order to fit the L1 penalized linear SVC classifier"
      ]
    },
    {
      "cell_type": "code",
      "metadata": {
        "id": "twbgyrfmp_vn",
        "colab_type": "code",
        "colab": {}
      },
      "source": [
        "from imblearn.over_sampling import SMOTE \n",
        "sampling=SMOTE(kind='svm',k_neighbors=5)\n",
        "\n"
      ],
      "execution_count": 0,
      "outputs": []
    },
    {
      "cell_type": "code",
      "metadata": {
        "id": "S0gUtVbNrP8S",
        "colab_type": "code",
        "colab": {}
      },
      "source": [
        "smote_tx_lbl1,smote_ty_lbl1=sampling.fit_sample(train_x,label_1_train)\n",
        "smote_tx_lbl2,smote_ty_lbl2=sampling.fit_sample(train_x,label_2_train)\n",
        "smote_tx_lbl3,smote_ty_lbl3=sampling.fit_sample(train_x,label_3_train)"
      ],
      "execution_count": 0,
      "outputs": []
    },
    {
      "cell_type": "code",
      "metadata": {
        "id": "2VYh0Sq3rZHu",
        "colab_type": "code",
        "colab": {}
      },
      "source": [
        "lbl1_smsvm_score=list()\n",
        "lbl2_smsvm_score=list()\n",
        "lbl3_smsvm_score=list()"
      ],
      "execution_count": 0,
      "outputs": []
    },
    {
      "cell_type": "code",
      "metadata": {
        "id": "XAaLPy4ItMaO",
        "colab_type": "code",
        "outputId": "2256b01f-e156-4d6a-9055-aaf9e4dc2322",
        "colab": {
          "base_uri": "https://localhost:8080/",
          "height": 1000
        }
      },
      "source": [
        "C_vals=[0.001,0.01,0.1,1,10,100,1000]\n",
        "C2_list=[]\n",
        "\n",
        "for k in C_vals:\n",
        "    C2_list.append(k)\n",
        "    mdl = LinearSVC(C=k,penalty='l1',dual=False)\n",
        "    lbl1_smsvm_score.append(cross_val_score(mdl,smote_tx_lbl1,smote_ty_lbl1,cv=10).mean())\n",
        "    lbl2_smsvm_score.append(cross_val_score(mdl,smote_tx_lbl2,smote_ty_lbl2,cv=10).mean())\n",
        "    lbl3_smsvm_score.append(cross_val_score(mdl,smote_tx_lbl3,smote_ty_lbl3,cv=10).mean())"
      ],
      "execution_count": 0,
      "outputs": [
        {
          "output_type": "stream",
          "text": [
            "/usr/local/lib/python3.6/dist-packages/sklearn/svm/base.py:929: ConvergenceWarning: Liblinear failed to converge, increase the number of iterations.\n",
            "  \"the number of iterations.\", ConvergenceWarning)\n",
            "/usr/local/lib/python3.6/dist-packages/sklearn/svm/base.py:929: ConvergenceWarning: Liblinear failed to converge, increase the number of iterations.\n",
            "  \"the number of iterations.\", ConvergenceWarning)\n",
            "/usr/local/lib/python3.6/dist-packages/sklearn/svm/base.py:929: ConvergenceWarning: Liblinear failed to converge, increase the number of iterations.\n",
            "  \"the number of iterations.\", ConvergenceWarning)\n",
            "/usr/local/lib/python3.6/dist-packages/sklearn/svm/base.py:929: ConvergenceWarning: Liblinear failed to converge, increase the number of iterations.\n",
            "  \"the number of iterations.\", ConvergenceWarning)\n",
            "/usr/local/lib/python3.6/dist-packages/sklearn/svm/base.py:929: ConvergenceWarning: Liblinear failed to converge, increase the number of iterations.\n",
            "  \"the number of iterations.\", ConvergenceWarning)\n",
            "/usr/local/lib/python3.6/dist-packages/sklearn/svm/base.py:929: ConvergenceWarning: Liblinear failed to converge, increase the number of iterations.\n",
            "  \"the number of iterations.\", ConvergenceWarning)\n",
            "/usr/local/lib/python3.6/dist-packages/sklearn/svm/base.py:929: ConvergenceWarning: Liblinear failed to converge, increase the number of iterations.\n",
            "  \"the number of iterations.\", ConvergenceWarning)\n",
            "/usr/local/lib/python3.6/dist-packages/sklearn/svm/base.py:929: ConvergenceWarning: Liblinear failed to converge, increase the number of iterations.\n",
            "  \"the number of iterations.\", ConvergenceWarning)\n",
            "/usr/local/lib/python3.6/dist-packages/sklearn/svm/base.py:929: ConvergenceWarning: Liblinear failed to converge, increase the number of iterations.\n",
            "  \"the number of iterations.\", ConvergenceWarning)\n",
            "/usr/local/lib/python3.6/dist-packages/sklearn/svm/base.py:929: ConvergenceWarning: Liblinear failed to converge, increase the number of iterations.\n",
            "  \"the number of iterations.\", ConvergenceWarning)\n",
            "/usr/local/lib/python3.6/dist-packages/sklearn/svm/base.py:929: ConvergenceWarning: Liblinear failed to converge, increase the number of iterations.\n",
            "  \"the number of iterations.\", ConvergenceWarning)\n",
            "/usr/local/lib/python3.6/dist-packages/sklearn/svm/base.py:929: ConvergenceWarning: Liblinear failed to converge, increase the number of iterations.\n",
            "  \"the number of iterations.\", ConvergenceWarning)\n",
            "/usr/local/lib/python3.6/dist-packages/sklearn/svm/base.py:929: ConvergenceWarning: Liblinear failed to converge, increase the number of iterations.\n",
            "  \"the number of iterations.\", ConvergenceWarning)\n",
            "/usr/local/lib/python3.6/dist-packages/sklearn/svm/base.py:929: ConvergenceWarning: Liblinear failed to converge, increase the number of iterations.\n",
            "  \"the number of iterations.\", ConvergenceWarning)\n",
            "/usr/local/lib/python3.6/dist-packages/sklearn/svm/base.py:929: ConvergenceWarning: Liblinear failed to converge, increase the number of iterations.\n",
            "  \"the number of iterations.\", ConvergenceWarning)\n",
            "/usr/local/lib/python3.6/dist-packages/sklearn/svm/base.py:929: ConvergenceWarning: Liblinear failed to converge, increase the number of iterations.\n",
            "  \"the number of iterations.\", ConvergenceWarning)\n",
            "/usr/local/lib/python3.6/dist-packages/sklearn/svm/base.py:929: ConvergenceWarning: Liblinear failed to converge, increase the number of iterations.\n",
            "  \"the number of iterations.\", ConvergenceWarning)\n",
            "/usr/local/lib/python3.6/dist-packages/sklearn/svm/base.py:929: ConvergenceWarning: Liblinear failed to converge, increase the number of iterations.\n",
            "  \"the number of iterations.\", ConvergenceWarning)\n",
            "/usr/local/lib/python3.6/dist-packages/sklearn/svm/base.py:929: ConvergenceWarning: Liblinear failed to converge, increase the number of iterations.\n",
            "  \"the number of iterations.\", ConvergenceWarning)\n",
            "/usr/local/lib/python3.6/dist-packages/sklearn/svm/base.py:929: ConvergenceWarning: Liblinear failed to converge, increase the number of iterations.\n",
            "  \"the number of iterations.\", ConvergenceWarning)\n",
            "/usr/local/lib/python3.6/dist-packages/sklearn/svm/base.py:929: ConvergenceWarning: Liblinear failed to converge, increase the number of iterations.\n",
            "  \"the number of iterations.\", ConvergenceWarning)\n",
            "/usr/local/lib/python3.6/dist-packages/sklearn/svm/base.py:929: ConvergenceWarning: Liblinear failed to converge, increase the number of iterations.\n",
            "  \"the number of iterations.\", ConvergenceWarning)\n",
            "/usr/local/lib/python3.6/dist-packages/sklearn/svm/base.py:929: ConvergenceWarning: Liblinear failed to converge, increase the number of iterations.\n",
            "  \"the number of iterations.\", ConvergenceWarning)\n",
            "/usr/local/lib/python3.6/dist-packages/sklearn/svm/base.py:929: ConvergenceWarning: Liblinear failed to converge, increase the number of iterations.\n",
            "  \"the number of iterations.\", ConvergenceWarning)\n",
            "/usr/local/lib/python3.6/dist-packages/sklearn/svm/base.py:929: ConvergenceWarning: Liblinear failed to converge, increase the number of iterations.\n",
            "  \"the number of iterations.\", ConvergenceWarning)\n",
            "/usr/local/lib/python3.6/dist-packages/sklearn/svm/base.py:929: ConvergenceWarning: Liblinear failed to converge, increase the number of iterations.\n",
            "  \"the number of iterations.\", ConvergenceWarning)\n",
            "/usr/local/lib/python3.6/dist-packages/sklearn/svm/base.py:929: ConvergenceWarning: Liblinear failed to converge, increase the number of iterations.\n",
            "  \"the number of iterations.\", ConvergenceWarning)\n",
            "/usr/local/lib/python3.6/dist-packages/sklearn/svm/base.py:929: ConvergenceWarning: Liblinear failed to converge, increase the number of iterations.\n",
            "  \"the number of iterations.\", ConvergenceWarning)\n",
            "/usr/local/lib/python3.6/dist-packages/sklearn/svm/base.py:929: ConvergenceWarning: Liblinear failed to converge, increase the number of iterations.\n",
            "  \"the number of iterations.\", ConvergenceWarning)\n",
            "/usr/local/lib/python3.6/dist-packages/sklearn/svm/base.py:929: ConvergenceWarning: Liblinear failed to converge, increase the number of iterations.\n",
            "  \"the number of iterations.\", ConvergenceWarning)\n",
            "/usr/local/lib/python3.6/dist-packages/sklearn/svm/base.py:929: ConvergenceWarning: Liblinear failed to converge, increase the number of iterations.\n",
            "  \"the number of iterations.\", ConvergenceWarning)\n",
            "/usr/local/lib/python3.6/dist-packages/sklearn/svm/base.py:929: ConvergenceWarning: Liblinear failed to converge, increase the number of iterations.\n",
            "  \"the number of iterations.\", ConvergenceWarning)\n",
            "/usr/local/lib/python3.6/dist-packages/sklearn/svm/base.py:929: ConvergenceWarning: Liblinear failed to converge, increase the number of iterations.\n",
            "  \"the number of iterations.\", ConvergenceWarning)\n",
            "/usr/local/lib/python3.6/dist-packages/sklearn/svm/base.py:929: ConvergenceWarning: Liblinear failed to converge, increase the number of iterations.\n",
            "  \"the number of iterations.\", ConvergenceWarning)\n",
            "/usr/local/lib/python3.6/dist-packages/sklearn/svm/base.py:929: ConvergenceWarning: Liblinear failed to converge, increase the number of iterations.\n",
            "  \"the number of iterations.\", ConvergenceWarning)\n",
            "/usr/local/lib/python3.6/dist-packages/sklearn/svm/base.py:929: ConvergenceWarning: Liblinear failed to converge, increase the number of iterations.\n",
            "  \"the number of iterations.\", ConvergenceWarning)\n",
            "/usr/local/lib/python3.6/dist-packages/sklearn/svm/base.py:929: ConvergenceWarning: Liblinear failed to converge, increase the number of iterations.\n",
            "  \"the number of iterations.\", ConvergenceWarning)\n",
            "/usr/local/lib/python3.6/dist-packages/sklearn/svm/base.py:929: ConvergenceWarning: Liblinear failed to converge, increase the number of iterations.\n",
            "  \"the number of iterations.\", ConvergenceWarning)\n",
            "/usr/local/lib/python3.6/dist-packages/sklearn/svm/base.py:929: ConvergenceWarning: Liblinear failed to converge, increase the number of iterations.\n",
            "  \"the number of iterations.\", ConvergenceWarning)\n",
            "/usr/local/lib/python3.6/dist-packages/sklearn/svm/base.py:929: ConvergenceWarning: Liblinear failed to converge, increase the number of iterations.\n",
            "  \"the number of iterations.\", ConvergenceWarning)\n",
            "/usr/local/lib/python3.6/dist-packages/sklearn/svm/base.py:929: ConvergenceWarning: Liblinear failed to converge, increase the number of iterations.\n",
            "  \"the number of iterations.\", ConvergenceWarning)\n",
            "/usr/local/lib/python3.6/dist-packages/sklearn/svm/base.py:929: ConvergenceWarning: Liblinear failed to converge, increase the number of iterations.\n",
            "  \"the number of iterations.\", ConvergenceWarning)\n",
            "/usr/local/lib/python3.6/dist-packages/sklearn/svm/base.py:929: ConvergenceWarning: Liblinear failed to converge, increase the number of iterations.\n",
            "  \"the number of iterations.\", ConvergenceWarning)\n",
            "/usr/local/lib/python3.6/dist-packages/sklearn/svm/base.py:929: ConvergenceWarning: Liblinear failed to converge, increase the number of iterations.\n",
            "  \"the number of iterations.\", ConvergenceWarning)\n",
            "/usr/local/lib/python3.6/dist-packages/sklearn/svm/base.py:929: ConvergenceWarning: Liblinear failed to converge, increase the number of iterations.\n",
            "  \"the number of iterations.\", ConvergenceWarning)\n",
            "/usr/local/lib/python3.6/dist-packages/sklearn/svm/base.py:929: ConvergenceWarning: Liblinear failed to converge, increase the number of iterations.\n",
            "  \"the number of iterations.\", ConvergenceWarning)\n",
            "/usr/local/lib/python3.6/dist-packages/sklearn/svm/base.py:929: ConvergenceWarning: Liblinear failed to converge, increase the number of iterations.\n",
            "  \"the number of iterations.\", ConvergenceWarning)\n",
            "/usr/local/lib/python3.6/dist-packages/sklearn/svm/base.py:929: ConvergenceWarning: Liblinear failed to converge, increase the number of iterations.\n",
            "  \"the number of iterations.\", ConvergenceWarning)\n",
            "/usr/local/lib/python3.6/dist-packages/sklearn/svm/base.py:929: ConvergenceWarning: Liblinear failed to converge, increase the number of iterations.\n",
            "  \"the number of iterations.\", ConvergenceWarning)\n",
            "/usr/local/lib/python3.6/dist-packages/sklearn/svm/base.py:929: ConvergenceWarning: Liblinear failed to converge, increase the number of iterations.\n",
            "  \"the number of iterations.\", ConvergenceWarning)\n",
            "/usr/local/lib/python3.6/dist-packages/sklearn/svm/base.py:929: ConvergenceWarning: Liblinear failed to converge, increase the number of iterations.\n",
            "  \"the number of iterations.\", ConvergenceWarning)\n",
            "/usr/local/lib/python3.6/dist-packages/sklearn/svm/base.py:929: ConvergenceWarning: Liblinear failed to converge, increase the number of iterations.\n",
            "  \"the number of iterations.\", ConvergenceWarning)\n",
            "/usr/local/lib/python3.6/dist-packages/sklearn/svm/base.py:929: ConvergenceWarning: Liblinear failed to converge, increase the number of iterations.\n",
            "  \"the number of iterations.\", ConvergenceWarning)\n",
            "/usr/local/lib/python3.6/dist-packages/sklearn/svm/base.py:929: ConvergenceWarning: Liblinear failed to converge, increase the number of iterations.\n",
            "  \"the number of iterations.\", ConvergenceWarning)\n",
            "/usr/local/lib/python3.6/dist-packages/sklearn/svm/base.py:929: ConvergenceWarning: Liblinear failed to converge, increase the number of iterations.\n",
            "  \"the number of iterations.\", ConvergenceWarning)\n",
            "/usr/local/lib/python3.6/dist-packages/sklearn/svm/base.py:929: ConvergenceWarning: Liblinear failed to converge, increase the number of iterations.\n",
            "  \"the number of iterations.\", ConvergenceWarning)\n",
            "/usr/local/lib/python3.6/dist-packages/sklearn/svm/base.py:929: ConvergenceWarning: Liblinear failed to converge, increase the number of iterations.\n",
            "  \"the number of iterations.\", ConvergenceWarning)\n",
            "/usr/local/lib/python3.6/dist-packages/sklearn/svm/base.py:929: ConvergenceWarning: Liblinear failed to converge, increase the number of iterations.\n",
            "  \"the number of iterations.\", ConvergenceWarning)\n",
            "/usr/local/lib/python3.6/dist-packages/sklearn/svm/base.py:929: ConvergenceWarning: Liblinear failed to converge, increase the number of iterations.\n",
            "  \"the number of iterations.\", ConvergenceWarning)\n",
            "/usr/local/lib/python3.6/dist-packages/sklearn/svm/base.py:929: ConvergenceWarning: Liblinear failed to converge, increase the number of iterations.\n",
            "  \"the number of iterations.\", ConvergenceWarning)\n",
            "/usr/local/lib/python3.6/dist-packages/sklearn/svm/base.py:929: ConvergenceWarning: Liblinear failed to converge, increase the number of iterations.\n",
            "  \"the number of iterations.\", ConvergenceWarning)\n",
            "/usr/local/lib/python3.6/dist-packages/sklearn/svm/base.py:929: ConvergenceWarning: Liblinear failed to converge, increase the number of iterations.\n",
            "  \"the number of iterations.\", ConvergenceWarning)\n",
            "/usr/local/lib/python3.6/dist-packages/sklearn/svm/base.py:929: ConvergenceWarning: Liblinear failed to converge, increase the number of iterations.\n",
            "  \"the number of iterations.\", ConvergenceWarning)\n",
            "/usr/local/lib/python3.6/dist-packages/sklearn/svm/base.py:929: ConvergenceWarning: Liblinear failed to converge, increase the number of iterations.\n",
            "  \"the number of iterations.\", ConvergenceWarning)\n",
            "/usr/local/lib/python3.6/dist-packages/sklearn/svm/base.py:929: ConvergenceWarning: Liblinear failed to converge, increase the number of iterations.\n",
            "  \"the number of iterations.\", ConvergenceWarning)\n",
            "/usr/local/lib/python3.6/dist-packages/sklearn/svm/base.py:929: ConvergenceWarning: Liblinear failed to converge, increase the number of iterations.\n",
            "  \"the number of iterations.\", ConvergenceWarning)\n",
            "/usr/local/lib/python3.6/dist-packages/sklearn/svm/base.py:929: ConvergenceWarning: Liblinear failed to converge, increase the number of iterations.\n",
            "  \"the number of iterations.\", ConvergenceWarning)\n",
            "/usr/local/lib/python3.6/dist-packages/sklearn/svm/base.py:929: ConvergenceWarning: Liblinear failed to converge, increase the number of iterations.\n",
            "  \"the number of iterations.\", ConvergenceWarning)\n",
            "/usr/local/lib/python3.6/dist-packages/sklearn/svm/base.py:929: ConvergenceWarning: Liblinear failed to converge, increase the number of iterations.\n",
            "  \"the number of iterations.\", ConvergenceWarning)\n",
            "/usr/local/lib/python3.6/dist-packages/sklearn/svm/base.py:929: ConvergenceWarning: Liblinear failed to converge, increase the number of iterations.\n",
            "  \"the number of iterations.\", ConvergenceWarning)\n",
            "/usr/local/lib/python3.6/dist-packages/sklearn/svm/base.py:929: ConvergenceWarning: Liblinear failed to converge, increase the number of iterations.\n",
            "  \"the number of iterations.\", ConvergenceWarning)\n",
            "/usr/local/lib/python3.6/dist-packages/sklearn/svm/base.py:929: ConvergenceWarning: Liblinear failed to converge, increase the number of iterations.\n",
            "  \"the number of iterations.\", ConvergenceWarning)\n",
            "/usr/local/lib/python3.6/dist-packages/sklearn/svm/base.py:929: ConvergenceWarning: Liblinear failed to converge, increase the number of iterations.\n",
            "  \"the number of iterations.\", ConvergenceWarning)\n",
            "/usr/local/lib/python3.6/dist-packages/sklearn/svm/base.py:929: ConvergenceWarning: Liblinear failed to converge, increase the number of iterations.\n",
            "  \"the number of iterations.\", ConvergenceWarning)\n",
            "/usr/local/lib/python3.6/dist-packages/sklearn/svm/base.py:929: ConvergenceWarning: Liblinear failed to converge, increase the number of iterations.\n",
            "  \"the number of iterations.\", ConvergenceWarning)\n",
            "/usr/local/lib/python3.6/dist-packages/sklearn/svm/base.py:929: ConvergenceWarning: Liblinear failed to converge, increase the number of iterations.\n",
            "  \"the number of iterations.\", ConvergenceWarning)\n",
            "/usr/local/lib/python3.6/dist-packages/sklearn/svm/base.py:929: ConvergenceWarning: Liblinear failed to converge, increase the number of iterations.\n",
            "  \"the number of iterations.\", ConvergenceWarning)\n",
            "/usr/local/lib/python3.6/dist-packages/sklearn/svm/base.py:929: ConvergenceWarning: Liblinear failed to converge, increase the number of iterations.\n",
            "  \"the number of iterations.\", ConvergenceWarning)\n",
            "/usr/local/lib/python3.6/dist-packages/sklearn/svm/base.py:929: ConvergenceWarning: Liblinear failed to converge, increase the number of iterations.\n",
            "  \"the number of iterations.\", ConvergenceWarning)\n",
            "/usr/local/lib/python3.6/dist-packages/sklearn/svm/base.py:929: ConvergenceWarning: Liblinear failed to converge, increase the number of iterations.\n",
            "  \"the number of iterations.\", ConvergenceWarning)\n",
            "/usr/local/lib/python3.6/dist-packages/sklearn/svm/base.py:929: ConvergenceWarning: Liblinear failed to converge, increase the number of iterations.\n",
            "  \"the number of iterations.\", ConvergenceWarning)\n",
            "/usr/local/lib/python3.6/dist-packages/sklearn/svm/base.py:929: ConvergenceWarning: Liblinear failed to converge, increase the number of iterations.\n",
            "  \"the number of iterations.\", ConvergenceWarning)\n",
            "/usr/local/lib/python3.6/dist-packages/sklearn/svm/base.py:929: ConvergenceWarning: Liblinear failed to converge, increase the number of iterations.\n",
            "  \"the number of iterations.\", ConvergenceWarning)\n",
            "/usr/local/lib/python3.6/dist-packages/sklearn/svm/base.py:929: ConvergenceWarning: Liblinear failed to converge, increase the number of iterations.\n",
            "  \"the number of iterations.\", ConvergenceWarning)\n",
            "/usr/local/lib/python3.6/dist-packages/sklearn/svm/base.py:929: ConvergenceWarning: Liblinear failed to converge, increase the number of iterations.\n",
            "  \"the number of iterations.\", ConvergenceWarning)\n",
            "/usr/local/lib/python3.6/dist-packages/sklearn/svm/base.py:929: ConvergenceWarning: Liblinear failed to converge, increase the number of iterations.\n",
            "  \"the number of iterations.\", ConvergenceWarning)\n",
            "/usr/local/lib/python3.6/dist-packages/sklearn/svm/base.py:929: ConvergenceWarning: Liblinear failed to converge, increase the number of iterations.\n",
            "  \"the number of iterations.\", ConvergenceWarning)\n",
            "/usr/local/lib/python3.6/dist-packages/sklearn/svm/base.py:929: ConvergenceWarning: Liblinear failed to converge, increase the number of iterations.\n",
            "  \"the number of iterations.\", ConvergenceWarning)\n",
            "/usr/local/lib/python3.6/dist-packages/sklearn/svm/base.py:929: ConvergenceWarning: Liblinear failed to converge, increase the number of iterations.\n",
            "  \"the number of iterations.\", ConvergenceWarning)\n",
            "/usr/local/lib/python3.6/dist-packages/sklearn/svm/base.py:929: ConvergenceWarning: Liblinear failed to converge, increase the number of iterations.\n",
            "  \"the number of iterations.\", ConvergenceWarning)\n",
            "/usr/local/lib/python3.6/dist-packages/sklearn/svm/base.py:929: ConvergenceWarning: Liblinear failed to converge, increase the number of iterations.\n",
            "  \"the number of iterations.\", ConvergenceWarning)\n",
            "/usr/local/lib/python3.6/dist-packages/sklearn/svm/base.py:929: ConvergenceWarning: Liblinear failed to converge, increase the number of iterations.\n",
            "  \"the number of iterations.\", ConvergenceWarning)\n",
            "/usr/local/lib/python3.6/dist-packages/sklearn/svm/base.py:929: ConvergenceWarning: Liblinear failed to converge, increase the number of iterations.\n",
            "  \"the number of iterations.\", ConvergenceWarning)\n",
            "/usr/local/lib/python3.6/dist-packages/sklearn/svm/base.py:929: ConvergenceWarning: Liblinear failed to converge, increase the number of iterations.\n",
            "  \"the number of iterations.\", ConvergenceWarning)\n",
            "/usr/local/lib/python3.6/dist-packages/sklearn/svm/base.py:929: ConvergenceWarning: Liblinear failed to converge, increase the number of iterations.\n",
            "  \"the number of iterations.\", ConvergenceWarning)\n",
            "/usr/local/lib/python3.6/dist-packages/sklearn/svm/base.py:929: ConvergenceWarning: Liblinear failed to converge, increase the number of iterations.\n",
            "  \"the number of iterations.\", ConvergenceWarning)\n",
            "/usr/local/lib/python3.6/dist-packages/sklearn/svm/base.py:929: ConvergenceWarning: Liblinear failed to converge, increase the number of iterations.\n",
            "  \"the number of iterations.\", ConvergenceWarning)\n",
            "/usr/local/lib/python3.6/dist-packages/sklearn/svm/base.py:929: ConvergenceWarning: Liblinear failed to converge, increase the number of iterations.\n",
            "  \"the number of iterations.\", ConvergenceWarning)\n",
            "/usr/local/lib/python3.6/dist-packages/sklearn/svm/base.py:929: ConvergenceWarning: Liblinear failed to converge, increase the number of iterations.\n",
            "  \"the number of iterations.\", ConvergenceWarning)\n",
            "/usr/local/lib/python3.6/dist-packages/sklearn/svm/base.py:929: ConvergenceWarning: Liblinear failed to converge, increase the number of iterations.\n",
            "  \"the number of iterations.\", ConvergenceWarning)\n",
            "/usr/local/lib/python3.6/dist-packages/sklearn/svm/base.py:929: ConvergenceWarning: Liblinear failed to converge, increase the number of iterations.\n",
            "  \"the number of iterations.\", ConvergenceWarning)\n",
            "/usr/local/lib/python3.6/dist-packages/sklearn/svm/base.py:929: ConvergenceWarning: Liblinear failed to converge, increase the number of iterations.\n",
            "  \"the number of iterations.\", ConvergenceWarning)\n",
            "/usr/local/lib/python3.6/dist-packages/sklearn/svm/base.py:929: ConvergenceWarning: Liblinear failed to converge, increase the number of iterations.\n",
            "  \"the number of iterations.\", ConvergenceWarning)\n",
            "/usr/local/lib/python3.6/dist-packages/sklearn/svm/base.py:929: ConvergenceWarning: Liblinear failed to converge, increase the number of iterations.\n",
            "  \"the number of iterations.\", ConvergenceWarning)\n",
            "/usr/local/lib/python3.6/dist-packages/sklearn/svm/base.py:929: ConvergenceWarning: Liblinear failed to converge, increase the number of iterations.\n",
            "  \"the number of iterations.\", ConvergenceWarning)\n",
            "/usr/local/lib/python3.6/dist-packages/sklearn/svm/base.py:929: ConvergenceWarning: Liblinear failed to converge, increase the number of iterations.\n",
            "  \"the number of iterations.\", ConvergenceWarning)\n",
            "/usr/local/lib/python3.6/dist-packages/sklearn/svm/base.py:929: ConvergenceWarning: Liblinear failed to converge, increase the number of iterations.\n",
            "  \"the number of iterations.\", ConvergenceWarning)\n",
            "/usr/local/lib/python3.6/dist-packages/sklearn/svm/base.py:929: ConvergenceWarning: Liblinear failed to converge, increase the number of iterations.\n",
            "  \"the number of iterations.\", ConvergenceWarning)\n",
            "/usr/local/lib/python3.6/dist-packages/sklearn/svm/base.py:929: ConvergenceWarning: Liblinear failed to converge, increase the number of iterations.\n",
            "  \"the number of iterations.\", ConvergenceWarning)\n",
            "/usr/local/lib/python3.6/dist-packages/sklearn/svm/base.py:929: ConvergenceWarning: Liblinear failed to converge, increase the number of iterations.\n",
            "  \"the number of iterations.\", ConvergenceWarning)\n",
            "/usr/local/lib/python3.6/dist-packages/sklearn/svm/base.py:929: ConvergenceWarning: Liblinear failed to converge, increase the number of iterations.\n",
            "  \"the number of iterations.\", ConvergenceWarning)\n",
            "/usr/local/lib/python3.6/dist-packages/sklearn/svm/base.py:929: ConvergenceWarning: Liblinear failed to converge, increase the number of iterations.\n",
            "  \"the number of iterations.\", ConvergenceWarning)\n",
            "/usr/local/lib/python3.6/dist-packages/sklearn/svm/base.py:929: ConvergenceWarning: Liblinear failed to converge, increase the number of iterations.\n",
            "  \"the number of iterations.\", ConvergenceWarning)\n",
            "/usr/local/lib/python3.6/dist-packages/sklearn/svm/base.py:929: ConvergenceWarning: Liblinear failed to converge, increase the number of iterations.\n",
            "  \"the number of iterations.\", ConvergenceWarning)\n",
            "/usr/local/lib/python3.6/dist-packages/sklearn/svm/base.py:929: ConvergenceWarning: Liblinear failed to converge, increase the number of iterations.\n",
            "  \"the number of iterations.\", ConvergenceWarning)\n",
            "/usr/local/lib/python3.6/dist-packages/sklearn/svm/base.py:929: ConvergenceWarning: Liblinear failed to converge, increase the number of iterations.\n",
            "  \"the number of iterations.\", ConvergenceWarning)\n",
            "/usr/local/lib/python3.6/dist-packages/sklearn/svm/base.py:929: ConvergenceWarning: Liblinear failed to converge, increase the number of iterations.\n",
            "  \"the number of iterations.\", ConvergenceWarning)\n",
            "/usr/local/lib/python3.6/dist-packages/sklearn/svm/base.py:929: ConvergenceWarning: Liblinear failed to converge, increase the number of iterations.\n",
            "  \"the number of iterations.\", ConvergenceWarning)\n",
            "/usr/local/lib/python3.6/dist-packages/sklearn/svm/base.py:929: ConvergenceWarning: Liblinear failed to converge, increase the number of iterations.\n",
            "  \"the number of iterations.\", ConvergenceWarning)\n",
            "/usr/local/lib/python3.6/dist-packages/sklearn/svm/base.py:929: ConvergenceWarning: Liblinear failed to converge, increase the number of iterations.\n",
            "  \"the number of iterations.\", ConvergenceWarning)\n",
            "/usr/local/lib/python3.6/dist-packages/sklearn/svm/base.py:929: ConvergenceWarning: Liblinear failed to converge, increase the number of iterations.\n",
            "  \"the number of iterations.\", ConvergenceWarning)\n",
            "/usr/local/lib/python3.6/dist-packages/sklearn/svm/base.py:929: ConvergenceWarning: Liblinear failed to converge, increase the number of iterations.\n",
            "  \"the number of iterations.\", ConvergenceWarning)\n",
            "/usr/local/lib/python3.6/dist-packages/sklearn/svm/base.py:929: ConvergenceWarning: Liblinear failed to converge, increase the number of iterations.\n",
            "  \"the number of iterations.\", ConvergenceWarning)\n",
            "/usr/local/lib/python3.6/dist-packages/sklearn/svm/base.py:929: ConvergenceWarning: Liblinear failed to converge, increase the number of iterations.\n",
            "  \"the number of iterations.\", ConvergenceWarning)\n",
            "/usr/local/lib/python3.6/dist-packages/sklearn/svm/base.py:929: ConvergenceWarning: Liblinear failed to converge, increase the number of iterations.\n",
            "  \"the number of iterations.\", ConvergenceWarning)\n",
            "/usr/local/lib/python3.6/dist-packages/sklearn/svm/base.py:929: ConvergenceWarning: Liblinear failed to converge, increase the number of iterations.\n",
            "  \"the number of iterations.\", ConvergenceWarning)\n",
            "/usr/local/lib/python3.6/dist-packages/sklearn/svm/base.py:929: ConvergenceWarning: Liblinear failed to converge, increase the number of iterations.\n",
            "  \"the number of iterations.\", ConvergenceWarning)\n",
            "/usr/local/lib/python3.6/dist-packages/sklearn/svm/base.py:929: ConvergenceWarning: Liblinear failed to converge, increase the number of iterations.\n",
            "  \"the number of iterations.\", ConvergenceWarning)\n",
            "/usr/local/lib/python3.6/dist-packages/sklearn/svm/base.py:929: ConvergenceWarning: Liblinear failed to converge, increase the number of iterations.\n",
            "  \"the number of iterations.\", ConvergenceWarning)\n",
            "/usr/local/lib/python3.6/dist-packages/sklearn/svm/base.py:929: ConvergenceWarning: Liblinear failed to converge, increase the number of iterations.\n",
            "  \"the number of iterations.\", ConvergenceWarning)\n",
            "/usr/local/lib/python3.6/dist-packages/sklearn/svm/base.py:929: ConvergenceWarning: Liblinear failed to converge, increase the number of iterations.\n",
            "  \"the number of iterations.\", ConvergenceWarning)\n",
            "/usr/local/lib/python3.6/dist-packages/sklearn/svm/base.py:929: ConvergenceWarning: Liblinear failed to converge, increase the number of iterations.\n",
            "  \"the number of iterations.\", ConvergenceWarning)\n",
            "/usr/local/lib/python3.6/dist-packages/sklearn/svm/base.py:929: ConvergenceWarning: Liblinear failed to converge, increase the number of iterations.\n",
            "  \"the number of iterations.\", ConvergenceWarning)\n",
            "/usr/local/lib/python3.6/dist-packages/sklearn/svm/base.py:929: ConvergenceWarning: Liblinear failed to converge, increase the number of iterations.\n",
            "  \"the number of iterations.\", ConvergenceWarning)\n",
            "/usr/local/lib/python3.6/dist-packages/sklearn/svm/base.py:929: ConvergenceWarning: Liblinear failed to converge, increase the number of iterations.\n",
            "  \"the number of iterations.\", ConvergenceWarning)\n",
            "/usr/local/lib/python3.6/dist-packages/sklearn/svm/base.py:929: ConvergenceWarning: Liblinear failed to converge, increase the number of iterations.\n",
            "  \"the number of iterations.\", ConvergenceWarning)\n",
            "/usr/local/lib/python3.6/dist-packages/sklearn/svm/base.py:929: ConvergenceWarning: Liblinear failed to converge, increase the number of iterations.\n",
            "  \"the number of iterations.\", ConvergenceWarning)\n",
            "/usr/local/lib/python3.6/dist-packages/sklearn/svm/base.py:929: ConvergenceWarning: Liblinear failed to converge, increase the number of iterations.\n",
            "  \"the number of iterations.\", ConvergenceWarning)\n",
            "/usr/local/lib/python3.6/dist-packages/sklearn/svm/base.py:929: ConvergenceWarning: Liblinear failed to converge, increase the number of iterations.\n",
            "  \"the number of iterations.\", ConvergenceWarning)\n",
            "/usr/local/lib/python3.6/dist-packages/sklearn/svm/base.py:929: ConvergenceWarning: Liblinear failed to converge, increase the number of iterations.\n",
            "  \"the number of iterations.\", ConvergenceWarning)\n",
            "/usr/local/lib/python3.6/dist-packages/sklearn/svm/base.py:929: ConvergenceWarning: Liblinear failed to converge, increase the number of iterations.\n",
            "  \"the number of iterations.\", ConvergenceWarning)\n",
            "/usr/local/lib/python3.6/dist-packages/sklearn/svm/base.py:929: ConvergenceWarning: Liblinear failed to converge, increase the number of iterations.\n",
            "  \"the number of iterations.\", ConvergenceWarning)\n",
            "/usr/local/lib/python3.6/dist-packages/sklearn/svm/base.py:929: ConvergenceWarning: Liblinear failed to converge, increase the number of iterations.\n",
            "  \"the number of iterations.\", ConvergenceWarning)\n",
            "/usr/local/lib/python3.6/dist-packages/sklearn/svm/base.py:929: ConvergenceWarning: Liblinear failed to converge, increase the number of iterations.\n",
            "  \"the number of iterations.\", ConvergenceWarning)\n",
            "/usr/local/lib/python3.6/dist-packages/sklearn/svm/base.py:929: ConvergenceWarning: Liblinear failed to converge, increase the number of iterations.\n",
            "  \"the number of iterations.\", ConvergenceWarning)\n",
            "/usr/local/lib/python3.6/dist-packages/sklearn/svm/base.py:929: ConvergenceWarning: Liblinear failed to converge, increase the number of iterations.\n",
            "  \"the number of iterations.\", ConvergenceWarning)\n",
            "/usr/local/lib/python3.6/dist-packages/sklearn/svm/base.py:929: ConvergenceWarning: Liblinear failed to converge, increase the number of iterations.\n",
            "  \"the number of iterations.\", ConvergenceWarning)\n",
            "/usr/local/lib/python3.6/dist-packages/sklearn/svm/base.py:929: ConvergenceWarning: Liblinear failed to converge, increase the number of iterations.\n",
            "  \"the number of iterations.\", ConvergenceWarning)\n",
            "/usr/local/lib/python3.6/dist-packages/sklearn/svm/base.py:929: ConvergenceWarning: Liblinear failed to converge, increase the number of iterations.\n",
            "  \"the number of iterations.\", ConvergenceWarning)\n",
            "/usr/local/lib/python3.6/dist-packages/sklearn/svm/base.py:929: ConvergenceWarning: Liblinear failed to converge, increase the number of iterations.\n",
            "  \"the number of iterations.\", ConvergenceWarning)\n",
            "/usr/local/lib/python3.6/dist-packages/sklearn/svm/base.py:929: ConvergenceWarning: Liblinear failed to converge, increase the number of iterations.\n",
            "  \"the number of iterations.\", ConvergenceWarning)\n"
          ],
          "name": "stderr"
        }
      ]
    },
    {
      "cell_type": "code",
      "metadata": {
        "id": "_EDjYINctrWT",
        "colab_type": "code",
        "colab": {}
      },
      "source": [
        "C_sm_selector_family = pd.DataFrame({\"C-values\":C2_list,\"Family\":lbl1_smsvm_score})"
      ],
      "execution_count": 0,
      "outputs": []
    },
    {
      "cell_type": "markdown",
      "metadata": {
        "id": "Bn4zZmWWEF1b",
        "colab_type": "text"
      },
      "source": [
        "Chose C =10 for Family label"
      ]
    },
    {
      "cell_type": "code",
      "metadata": {
        "id": "-tMbiKqftwtH",
        "colab_type": "code",
        "outputId": "8ab0f679-93c6-4da4-9531-d79663ed897d",
        "colab": {
          "base_uri": "https://localhost:8080/",
          "height": 142
        }
      },
      "source": [
        "C_sm_selector_family[C_sm_selector_family['Family']==max(lbl1_smsvm_score)]"
      ],
      "execution_count": 0,
      "outputs": [
        {
          "output_type": "execute_result",
          "data": {
            "text/html": [
              "<div>\n",
              "<style scoped>\n",
              "    .dataframe tbody tr th:only-of-type {\n",
              "        vertical-align: middle;\n",
              "    }\n",
              "\n",
              "    .dataframe tbody tr th {\n",
              "        vertical-align: top;\n",
              "    }\n",
              "\n",
              "    .dataframe thead th {\n",
              "        text-align: right;\n",
              "    }\n",
              "</style>\n",
              "<table border=\"1\" class=\"dataframe\">\n",
              "  <thead>\n",
              "    <tr style=\"text-align: right;\">\n",
              "      <th></th>\n",
              "      <th>C-values</th>\n",
              "      <th>Family</th>\n",
              "    </tr>\n",
              "  </thead>\n",
              "  <tbody>\n",
              "    <tr>\n",
              "      <th>4</th>\n",
              "      <td>10.0</td>\n",
              "      <td>0.894783</td>\n",
              "    </tr>\n",
              "    <tr>\n",
              "      <th>5</th>\n",
              "      <td>100.0</td>\n",
              "      <td>0.894783</td>\n",
              "    </tr>\n",
              "    <tr>\n",
              "      <th>6</th>\n",
              "      <td>1000.0</td>\n",
              "      <td>0.894783</td>\n",
              "    </tr>\n",
              "  </tbody>\n",
              "</table>\n",
              "</div>"
            ],
            "text/plain": [
              "   C-values    Family\n",
              "4      10.0  0.894783\n",
              "5     100.0  0.894783\n",
              "6    1000.0  0.894783"
            ]
          },
          "metadata": {
            "tags": []
          },
          "execution_count": 105
        }
      ]
    },
    {
      "cell_type": "code",
      "metadata": {
        "id": "7x0k-1lvt-1y",
        "colab_type": "code",
        "colab": {}
      },
      "source": [
        "C_sm_selector_genus = pd.DataFrame({\"C-values\":C2_list,\"Genus\":lbl2_smsvm_score})"
      ],
      "execution_count": 0,
      "outputs": []
    },
    {
      "cell_type": "markdown",
      "metadata": {
        "id": "bxS7LaPiEmMI",
        "colab_type": "text"
      },
      "source": [
        "Chose C =10 for Genus label"
      ]
    },
    {
      "cell_type": "code",
      "metadata": {
        "id": "to5o3p8muElv",
        "colab_type": "code",
        "outputId": "fa8b0801-ee91-4bd1-a2df-9e88f7c007a3",
        "colab": {
          "base_uri": "https://localhost:8080/",
          "height": 80
        }
      },
      "source": [
        "C_sm_selector_genus[C_sm_selector_genus['Genus']==max(lbl2_smsvm_score)]"
      ],
      "execution_count": 0,
      "outputs": [
        {
          "output_type": "execute_result",
          "data": {
            "text/html": [
              "<div>\n",
              "<style scoped>\n",
              "    .dataframe tbody tr th:only-of-type {\n",
              "        vertical-align: middle;\n",
              "    }\n",
              "\n",
              "    .dataframe tbody tr th {\n",
              "        vertical-align: top;\n",
              "    }\n",
              "\n",
              "    .dataframe thead th {\n",
              "        text-align: right;\n",
              "    }\n",
              "</style>\n",
              "<table border=\"1\" class=\"dataframe\">\n",
              "  <thead>\n",
              "    <tr style=\"text-align: right;\">\n",
              "      <th></th>\n",
              "      <th>C-values</th>\n",
              "      <th>Genus</th>\n",
              "    </tr>\n",
              "  </thead>\n",
              "  <tbody>\n",
              "    <tr>\n",
              "      <th>4</th>\n",
              "      <td>10.0</td>\n",
              "      <td>0.909306</td>\n",
              "    </tr>\n",
              "  </tbody>\n",
              "</table>\n",
              "</div>"
            ],
            "text/plain": [
              "   C-values     Genus\n",
              "4      10.0  0.909306"
            ]
          },
          "metadata": {
            "tags": []
          },
          "execution_count": 107
        }
      ]
    },
    {
      "cell_type": "code",
      "metadata": {
        "id": "p24rUN4VuLqa",
        "colab_type": "code",
        "colab": {}
      },
      "source": [
        "C_sm_selector_species = pd.DataFrame({\"C-values\":C2_list,\"Species\":lbl3_smsvm_score})"
      ],
      "execution_count": 0,
      "outputs": []
    },
    {
      "cell_type": "markdown",
      "metadata": {
        "id": "oD9czGH9EqMJ",
        "colab_type": "text"
      },
      "source": [
        "Chose C =10 for Species label"
      ]
    },
    {
      "cell_type": "code",
      "metadata": {
        "id": "r4XYanWTuRMC",
        "colab_type": "code",
        "outputId": "f99776e2-a798-4922-d183-cd163bf0adfc",
        "colab": {
          "base_uri": "https://localhost:8080/",
          "height": 80
        }
      },
      "source": [
        "C_sm_selector_species[C_sm_selector_species['Species']==max(lbl3_smsvm_score)]"
      ],
      "execution_count": 0,
      "outputs": [
        {
          "output_type": "execute_result",
          "data": {
            "text/html": [
              "<div>\n",
              "<style scoped>\n",
              "    .dataframe tbody tr th:only-of-type {\n",
              "        vertical-align: middle;\n",
              "    }\n",
              "\n",
              "    .dataframe tbody tr th {\n",
              "        vertical-align: top;\n",
              "    }\n",
              "\n",
              "    .dataframe thead th {\n",
              "        text-align: right;\n",
              "    }\n",
              "</style>\n",
              "<table border=\"1\" class=\"dataframe\">\n",
              "  <thead>\n",
              "    <tr style=\"text-align: right;\">\n",
              "      <th></th>\n",
              "      <th>C-values</th>\n",
              "      <th>Species</th>\n",
              "    </tr>\n",
              "  </thead>\n",
              "  <tbody>\n",
              "    <tr>\n",
              "      <th>4</th>\n",
              "      <td>10.0</td>\n",
              "      <td>0.89872</td>\n",
              "    </tr>\n",
              "  </tbody>\n",
              "</table>\n",
              "</div>"
            ],
            "text/plain": [
              "   C-values  Species\n",
              "4      10.0  0.89872"
            ]
          },
          "metadata": {
            "tags": []
          },
          "execution_count": 109
        }
      ]
    },
    {
      "cell_type": "markdown",
      "metadata": {
        "id": "Jx5scL6gExVM",
        "colab_type": "text"
      },
      "source": [
        "Retraining the L-1 penalized linear SVC for Family label with chosen C and computing hamming loss and exact match score for the same .\n",
        "\n",
        "Hamming loss :0.11718388142658638 <br>\n",
        "Exact Match : 0.8828161185734136"
      ]
    },
    {
      "cell_type": "code",
      "metadata": {
        "id": "RtvMC6oCuZY7",
        "colab_type": "code",
        "outputId": "97414a91-b1cf-4972-f1ba-a53a054debd6",
        "colab": {
          "base_uri": "https://localhost:8080/",
          "height": 85
        }
      },
      "source": [
        "from sklearn.metrics import hamming_loss\n",
        "mdl = LinearSVC(C=10,penalty='l1',dual=False)\n",
        "mdl=mdl.fit(smote_tx_lbl1,smote_ty_lbl1)\n",
        "preds1=mdl.predict(test_x)\n",
        "hm_loss_family=hamming_loss(label_1_test,preds1)\n",
        "exact_match_family=mdl.score(test_x,label_1_test)\n",
        "print(hm_loss_family)\n",
        "print(exact_match_family)"
      ],
      "execution_count": 0,
      "outputs": [
        {
          "output_type": "stream",
          "text": [
            "0.11718388142658638\n",
            "0.8828161185734136\n"
          ],
          "name": "stdout"
        },
        {
          "output_type": "stream",
          "text": [
            "/usr/local/lib/python3.6/dist-packages/sklearn/svm/base.py:929: ConvergenceWarning: Liblinear failed to converge, increase the number of iterations.\n",
            "  \"the number of iterations.\", ConvergenceWarning)\n"
          ],
          "name": "stderr"
        }
      ]
    },
    {
      "cell_type": "markdown",
      "metadata": {
        "id": "hvt_MJMoFCv1",
        "colab_type": "text"
      },
      "source": [
        "Retraining the L-1 penalized linear SVC for Genus label with chosen C and computing hamming loss and exact match score for the same .\n",
        "\n",
        "Hamming loss :0.14173228346456693 <br>\n",
        "Exact Match : 0.8582677165354331"
      ]
    },
    {
      "cell_type": "code",
      "metadata": {
        "id": "Xr0CLSpjuk3z",
        "colab_type": "code",
        "outputId": "1e3a654a-df8a-4f5d-fd2a-71eeece602a1",
        "colab": {
          "base_uri": "https://localhost:8080/",
          "height": 85
        }
      },
      "source": [
        "from sklearn.metrics import hamming_loss\n",
        "mdl = LinearSVC(C=10,penalty='l1',dual=False)\n",
        "mdl=mdl.fit(smote_tx_lbl2,smote_ty_lbl2)\n",
        "preds2=mdl.predict(test_x)\n",
        "hm_loss_genus=hamming_loss(label_2_test,preds2)\n",
        "exact_match_genus=mdl.score(test_x,label_2_test)\n",
        "print(hm_loss_genus)\n",
        "print(exact_match_genus)"
      ],
      "execution_count": 0,
      "outputs": [
        {
          "output_type": "stream",
          "text": [
            "0.14173228346456693\n",
            "0.8582677165354331\n"
          ],
          "name": "stdout"
        },
        {
          "output_type": "stream",
          "text": [
            "/usr/local/lib/python3.6/dist-packages/sklearn/svm/base.py:929: ConvergenceWarning: Liblinear failed to converge, increase the number of iterations.\n",
            "  \"the number of iterations.\", ConvergenceWarning)\n"
          ],
          "name": "stderr"
        }
      ]
    },
    {
      "cell_type": "markdown",
      "metadata": {
        "id": "DelS_ZEXFSet",
        "colab_type": "text"
      },
      "source": [
        "Retraining the L-1 penalized linear SVC for Species label with chosen C and computing hamming loss and exact match score for the same .\n",
        "\n",
        "Hamming loss :0.06947660954145438 <br> \n",
        "Exact Match : 0.9305233904585456"
      ]
    },
    {
      "cell_type": "code",
      "metadata": {
        "id": "gmM6Ro8Vu2pm",
        "colab_type": "code",
        "outputId": "48d1c85d-dcdd-473d-dabd-20460d35add2",
        "colab": {
          "base_uri": "https://localhost:8080/",
          "height": 85
        }
      },
      "source": [
        "from sklearn.metrics import hamming_loss\n",
        "mdl = LinearSVC(C=10,penalty='l1',dual=False)\n",
        "mdl=mdl.fit(smote_tx_lbl3,smote_ty_lbl3)\n",
        "preds3=mdl.predict(test_x)\n",
        "hm_loss_species=hamming_loss(label_3_test,preds3)\n",
        "exact_match_species=mdl.score(test_x,label_3_test)\n",
        "print(hm_loss_species)\n",
        "print(exact_match_species)"
      ],
      "execution_count": 0,
      "outputs": [
        {
          "output_type": "stream",
          "text": [
            "0.06947660954145438\n",
            "0.9305233904585456\n"
          ],
          "name": "stdout"
        },
        {
          "output_type": "stream",
          "text": [
            "/usr/local/lib/python3.6/dist-packages/sklearn/svm/base.py:929: ConvergenceWarning: Liblinear failed to converge, increase the number of iterations.\n",
            "  \"the number of iterations.\", ConvergenceWarning)\n"
          ],
          "name": "stderr"
        }
      ]
    },
    {
      "cell_type": "markdown",
      "metadata": {
        "id": "XLYxDL1zFrSV",
        "colab_type": "text"
      },
      "source": [
        "Overall hamming loss and exact match computed <br>\n",
        "\n",
        "The overall hamming loss is calculated by : <br>\n",
        "\n",
        "sum(not_equal(test_y_overall, preds_overall))/test_y_overall_size\n",
        "\n",
        "The overall exact match score is computed when the predicted value and actual value match for all the 3 labels in the same given row  \n",
        "\n",
        "Overall hamming loss : 0.10946425814420256 <br>\n",
        "Overall exact match : 0.8012968967114404"
      ]
    },
    {
      "cell_type": "code",
      "metadata": {
        "id": "Vmwj17AwvcIe",
        "colab_type": "code",
        "colab": {}
      },
      "source": [
        "import numpy as np\n",
        "preds_overall_sm= np.concatenate((preds1.reshape(-1,1),preds2.reshape(-1,1),preds3.reshape(-1,1)),axis=1)\n",
        "test_y_overall_sm= np.concatenate((np.array(label_1_test).reshape(-1,1),np.array(label_2_test).reshape(-1,1),np.array(label_3_test).reshape(-1,1)),axis=1)"
      ],
      "execution_count": 0,
      "outputs": []
    },
    {
      "cell_type": "code",
      "metadata": {
        "id": "FhJzqguEvrTD",
        "colab_type": "code",
        "outputId": "d111d2bb-cbb6-4d37-b59a-f36451cd122c",
        "colab": {
          "base_uri": "https://localhost:8080/",
          "height": 34
        }
      },
      "source": [
        "test_y_overall_sm_size=float(test_y_overall_sm.size)\n",
        "total_hamming_loss_sm = np.sum(np.not_equal(test_y_overall_sm, preds_overall_sm))/test_y_overall_sm_size\n",
        "print(total_hamming_loss_sm)"
      ],
      "execution_count": 0,
      "outputs": [
        {
          "output_type": "stream",
          "text": [
            "0.10946425814420256\n"
          ],
          "name": "stdout"
        }
      ]
    },
    {
      "cell_type": "code",
      "metadata": {
        "id": "1hNXiW9Ev3IH",
        "colab_type": "code",
        "outputId": "6fd22d55-76e1-4559-9ab1-66d8ece4f135",
        "colab": {
          "base_uri": "https://localhost:8080/",
          "height": 34
        }
      },
      "source": [
        "t=0\n",
        "for i in range(0,len(preds_overall_sm)):\n",
        "  if(preds1[i]==label_1_test.iloc[i,] and preds2[i]==label_2_test.iloc[i,] and preds3[i]==label_3_test.iloc[i,]):\n",
        "    t=t+1\n",
        "t=t/len(preds_overall_sm)\n",
        "print(t)"
      ],
      "execution_count": 0,
      "outputs": [
        {
          "output_type": "stream",
          "text": [
            "0.8012968967114404\n"
          ],
          "name": "stdout"
        }
      ]
    },
    {
      "cell_type": "markdown",
      "metadata": {
        "id": "34N89u-DF6vh",
        "colab_type": "text"
      },
      "source": [
        "**Conclusions about the classifiers trained** <br>\n",
        "\n",
        "\n",
        "             Hamming Loss   Exact Match Score \n",
        "Gaussian :  \t  0.008491\t      0.985641 <br>\n",
        "\n",
        "---\n",
        "\n",
        "\n",
        "l1 penalty SVM :\t0.056970\t     0.913385 <br>\n",
        "\n",
        "---\n",
        "\n",
        "\n",
        "resampled l1 SVM\t0.109464\t    0.801296<br>\n",
        "\n",
        "\n",
        "When our data points aren't linearly separable in 2 dimensions we want to be able to transform them to a higher dimension for separability by kernelization . This is successfully achieved using a RBF kernelized SVM and we obtain the highest exact match score and lowest hamming loss when compared to the other two methods . \n",
        "\n",
        "This is mainly because the data points in the anuran calls dataset are not exactly linearly separable . Thus kernelized SVM gives us the better performance amongst these 3 methods ."
      ]
    },
    {
      "cell_type": "markdown",
      "metadata": {
        "id": "Yg2tSn7BwUpw",
        "colab_type": "text"
      },
      "source": [
        "Mounted google drive into colab workspace"
      ]
    },
    {
      "cell_type": "code",
      "metadata": {
        "id": "q7tgQJNyyNNd",
        "colab_type": "code",
        "outputId": "b797fbd6-de3f-4d42-d21f-d3a76ea59aa5",
        "colab": {
          "base_uri": "https://localhost:8080/",
          "height": 122
        }
      },
      "source": [
        "from google.colab import drive\n",
        "drive.mount('/gdrive')"
      ],
      "execution_count": 0,
      "outputs": [
        {
          "output_type": "stream",
          "text": [
            "Go to this URL in a browser: https://accounts.google.com/o/oauth2/auth?client_id=947318989803-6bn6qk8qdgf4n4g3pfee6491hc0brc4i.apps.googleusercontent.com&redirect_uri=urn%3Aietf%3Awg%3Aoauth%3A2.0%3Aoob&scope=email%20https%3A%2F%2Fwww.googleapis.com%2Fauth%2Fdocs.test%20https%3A%2F%2Fwww.googleapis.com%2Fauth%2Fdrive%20https%3A%2F%2Fwww.googleapis.com%2Fauth%2Fdrive.photos.readonly%20https%3A%2F%2Fwww.googleapis.com%2Fauth%2Fpeopleapi.readonly&response_type=code\n",
            "\n",
            "Enter your authorization code:\n",
            "··········\n",
            "Mounted at /gdrive\n"
          ],
          "name": "stdout"
        }
      ]
    },
    {
      "cell_type": "markdown",
      "metadata": {
        "id": "_8dW80vIwe0P",
        "colab_type": "text"
      },
      "source": [
        "Created a dataframe by loading the anuran calls dataset from the drive"
      ]
    },
    {
      "cell_type": "code",
      "metadata": {
        "id": "DpO9BY48yZ0q",
        "colab_type": "code",
        "outputId": "662fbf47-6294-4c90-c207-08498d385c85",
        "colab": {
          "base_uri": "https://localhost:8080/",
          "height": 241
        }
      },
      "source": [
        "import pandas as pd\n",
        "df=pd.read_csv('/gdrive/My Drive/Homeworks/hw5/Frogs_MFCCs.csv',usecols=range(0,25))\n",
        "df.head()"
      ],
      "execution_count": 0,
      "outputs": [
        {
          "output_type": "execute_result",
          "data": {
            "text/html": [
              "<div>\n",
              "<style scoped>\n",
              "    .dataframe tbody tr th:only-of-type {\n",
              "        vertical-align: middle;\n",
              "    }\n",
              "\n",
              "    .dataframe tbody tr th {\n",
              "        vertical-align: top;\n",
              "    }\n",
              "\n",
              "    .dataframe thead th {\n",
              "        text-align: right;\n",
              "    }\n",
              "</style>\n",
              "<table border=\"1\" class=\"dataframe\">\n",
              "  <thead>\n",
              "    <tr style=\"text-align: right;\">\n",
              "      <th></th>\n",
              "      <th>MFCCs_ 1</th>\n",
              "      <th>MFCCs_ 2</th>\n",
              "      <th>MFCCs_ 3</th>\n",
              "      <th>MFCCs_ 4</th>\n",
              "      <th>MFCCs_ 5</th>\n",
              "      <th>MFCCs_ 6</th>\n",
              "      <th>MFCCs_ 7</th>\n",
              "      <th>MFCCs_ 8</th>\n",
              "      <th>MFCCs_ 9</th>\n",
              "      <th>MFCCs_10</th>\n",
              "      <th>MFCCs_11</th>\n",
              "      <th>MFCCs_12</th>\n",
              "      <th>MFCCs_13</th>\n",
              "      <th>MFCCs_14</th>\n",
              "      <th>MFCCs_15</th>\n",
              "      <th>MFCCs_16</th>\n",
              "      <th>MFCCs_17</th>\n",
              "      <th>MFCCs_18</th>\n",
              "      <th>MFCCs_19</th>\n",
              "      <th>MFCCs_20</th>\n",
              "      <th>MFCCs_21</th>\n",
              "      <th>MFCCs_22</th>\n",
              "      <th>Family</th>\n",
              "      <th>Genus</th>\n",
              "      <th>Species</th>\n",
              "    </tr>\n",
              "  </thead>\n",
              "  <tbody>\n",
              "    <tr>\n",
              "      <th>0</th>\n",
              "      <td>1.0</td>\n",
              "      <td>0.152936</td>\n",
              "      <td>-0.105586</td>\n",
              "      <td>0.200722</td>\n",
              "      <td>0.317201</td>\n",
              "      <td>0.260764</td>\n",
              "      <td>0.100945</td>\n",
              "      <td>-0.150063</td>\n",
              "      <td>-0.171128</td>\n",
              "      <td>0.124676</td>\n",
              "      <td>0.188654</td>\n",
              "      <td>-0.075622</td>\n",
              "      <td>-0.156436</td>\n",
              "      <td>0.082245</td>\n",
              "      <td>0.135752</td>\n",
              "      <td>-0.024017</td>\n",
              "      <td>-0.108351</td>\n",
              "      <td>-0.077623</td>\n",
              "      <td>-0.009568</td>\n",
              "      <td>0.057684</td>\n",
              "      <td>0.118680</td>\n",
              "      <td>0.014038</td>\n",
              "      <td>Leptodactylidae</td>\n",
              "      <td>Adenomera</td>\n",
              "      <td>AdenomeraAndre</td>\n",
              "    </tr>\n",
              "    <tr>\n",
              "      <th>1</th>\n",
              "      <td>1.0</td>\n",
              "      <td>0.171534</td>\n",
              "      <td>-0.098975</td>\n",
              "      <td>0.268425</td>\n",
              "      <td>0.338672</td>\n",
              "      <td>0.268353</td>\n",
              "      <td>0.060835</td>\n",
              "      <td>-0.222475</td>\n",
              "      <td>-0.207693</td>\n",
              "      <td>0.170883</td>\n",
              "      <td>0.270958</td>\n",
              "      <td>-0.095004</td>\n",
              "      <td>-0.254341</td>\n",
              "      <td>0.022786</td>\n",
              "      <td>0.163320</td>\n",
              "      <td>0.012022</td>\n",
              "      <td>-0.090974</td>\n",
              "      <td>-0.056510</td>\n",
              "      <td>-0.035303</td>\n",
              "      <td>0.020140</td>\n",
              "      <td>0.082263</td>\n",
              "      <td>0.029056</td>\n",
              "      <td>Leptodactylidae</td>\n",
              "      <td>Adenomera</td>\n",
              "      <td>AdenomeraAndre</td>\n",
              "    </tr>\n",
              "    <tr>\n",
              "      <th>2</th>\n",
              "      <td>1.0</td>\n",
              "      <td>0.152317</td>\n",
              "      <td>-0.082973</td>\n",
              "      <td>0.287128</td>\n",
              "      <td>0.276014</td>\n",
              "      <td>0.189867</td>\n",
              "      <td>0.008714</td>\n",
              "      <td>-0.242234</td>\n",
              "      <td>-0.219153</td>\n",
              "      <td>0.232538</td>\n",
              "      <td>0.266064</td>\n",
              "      <td>-0.072827</td>\n",
              "      <td>-0.237384</td>\n",
              "      <td>0.050791</td>\n",
              "      <td>0.207338</td>\n",
              "      <td>0.083536</td>\n",
              "      <td>-0.050691</td>\n",
              "      <td>-0.023590</td>\n",
              "      <td>-0.066722</td>\n",
              "      <td>-0.025083</td>\n",
              "      <td>0.099108</td>\n",
              "      <td>0.077162</td>\n",
              "      <td>Leptodactylidae</td>\n",
              "      <td>Adenomera</td>\n",
              "      <td>AdenomeraAndre</td>\n",
              "    </tr>\n",
              "    <tr>\n",
              "      <th>3</th>\n",
              "      <td>1.0</td>\n",
              "      <td>0.224392</td>\n",
              "      <td>0.118985</td>\n",
              "      <td>0.329432</td>\n",
              "      <td>0.372088</td>\n",
              "      <td>0.361005</td>\n",
              "      <td>0.015501</td>\n",
              "      <td>-0.194347</td>\n",
              "      <td>-0.098181</td>\n",
              "      <td>0.270375</td>\n",
              "      <td>0.267279</td>\n",
              "      <td>-0.162258</td>\n",
              "      <td>-0.317084</td>\n",
              "      <td>-0.011567</td>\n",
              "      <td>0.100413</td>\n",
              "      <td>-0.050224</td>\n",
              "      <td>-0.136009</td>\n",
              "      <td>-0.177037</td>\n",
              "      <td>-0.130498</td>\n",
              "      <td>-0.054766</td>\n",
              "      <td>-0.018691</td>\n",
              "      <td>0.023954</td>\n",
              "      <td>Leptodactylidae</td>\n",
              "      <td>Adenomera</td>\n",
              "      <td>AdenomeraAndre</td>\n",
              "    </tr>\n",
              "    <tr>\n",
              "      <th>4</th>\n",
              "      <td>1.0</td>\n",
              "      <td>0.087817</td>\n",
              "      <td>-0.068345</td>\n",
              "      <td>0.306967</td>\n",
              "      <td>0.330923</td>\n",
              "      <td>0.249144</td>\n",
              "      <td>0.006884</td>\n",
              "      <td>-0.265423</td>\n",
              "      <td>-0.172700</td>\n",
              "      <td>0.266434</td>\n",
              "      <td>0.332695</td>\n",
              "      <td>-0.100749</td>\n",
              "      <td>-0.298524</td>\n",
              "      <td>0.037439</td>\n",
              "      <td>0.219153</td>\n",
              "      <td>0.062837</td>\n",
              "      <td>-0.048885</td>\n",
              "      <td>-0.053074</td>\n",
              "      <td>-0.088550</td>\n",
              "      <td>-0.031346</td>\n",
              "      <td>0.108610</td>\n",
              "      <td>0.079244</td>\n",
              "      <td>Leptodactylidae</td>\n",
              "      <td>Adenomera</td>\n",
              "      <td>AdenomeraAndre</td>\n",
              "    </tr>\n",
              "  </tbody>\n",
              "</table>\n",
              "</div>"
            ],
            "text/plain": [
              "   MFCCs_ 1  MFCCs_ 2  MFCCs_ 3  ...           Family      Genus         Species\n",
              "0       1.0  0.152936 -0.105586  ...  Leptodactylidae  Adenomera  AdenomeraAndre\n",
              "1       1.0  0.171534 -0.098975  ...  Leptodactylidae  Adenomera  AdenomeraAndre\n",
              "2       1.0  0.152317 -0.082973  ...  Leptodactylidae  Adenomera  AdenomeraAndre\n",
              "3       1.0  0.224392  0.118985  ...  Leptodactylidae  Adenomera  AdenomeraAndre\n",
              "4       1.0  0.087817 -0.068345  ...  Leptodactylidae  Adenomera  AdenomeraAndre\n",
              "\n",
              "[5 rows x 25 columns]"
            ]
          },
          "metadata": {
            "tags": []
          },
          "execution_count": 2
        }
      ]
    },
    {
      "cell_type": "code",
      "metadata": {
        "id": "rhiCRCQNzynM",
        "colab_type": "code",
        "colab": {}
      },
      "source": [
        "overall_hamming_loss=list()\n",
        "overall_hamming_score=list()"
      ],
      "execution_count": 0,
      "outputs": []
    },
    {
      "cell_type": "markdown",
      "metadata": {
        "id": "y8GkiDVfwmjo",
        "colab_type": "text"
      },
      "source": [
        "Segregated the features from the labels "
      ]
    },
    {
      "cell_type": "code",
      "metadata": {
        "id": "kd0hQwXLuFpt",
        "colab_type": "code",
        "colab": {}
      },
      "source": [
        "x = df.iloc[:,0:22]\n",
        "y = df.iloc[:,22:25]\n"
      ],
      "execution_count": 0,
      "outputs": []
    },
    {
      "cell_type": "code",
      "metadata": {
        "id": "C6MATd5euYTa",
        "colab_type": "code",
        "outputId": "2bd7cf69-d4a4-4e4b-a3d2-15875f2fb017",
        "colab": {
          "base_uri": "https://localhost:8080/",
          "height": 241
        }
      },
      "source": [
        "x.head()"
      ],
      "execution_count": 0,
      "outputs": [
        {
          "output_type": "execute_result",
          "data": {
            "text/html": [
              "<div>\n",
              "<style scoped>\n",
              "    .dataframe tbody tr th:only-of-type {\n",
              "        vertical-align: middle;\n",
              "    }\n",
              "\n",
              "    .dataframe tbody tr th {\n",
              "        vertical-align: top;\n",
              "    }\n",
              "\n",
              "    .dataframe thead th {\n",
              "        text-align: right;\n",
              "    }\n",
              "</style>\n",
              "<table border=\"1\" class=\"dataframe\">\n",
              "  <thead>\n",
              "    <tr style=\"text-align: right;\">\n",
              "      <th></th>\n",
              "      <th>MFCCs_ 1</th>\n",
              "      <th>MFCCs_ 2</th>\n",
              "      <th>MFCCs_ 3</th>\n",
              "      <th>MFCCs_ 4</th>\n",
              "      <th>MFCCs_ 5</th>\n",
              "      <th>MFCCs_ 6</th>\n",
              "      <th>MFCCs_ 7</th>\n",
              "      <th>MFCCs_ 8</th>\n",
              "      <th>MFCCs_ 9</th>\n",
              "      <th>MFCCs_10</th>\n",
              "      <th>MFCCs_11</th>\n",
              "      <th>MFCCs_12</th>\n",
              "      <th>MFCCs_13</th>\n",
              "      <th>MFCCs_14</th>\n",
              "      <th>MFCCs_15</th>\n",
              "      <th>MFCCs_16</th>\n",
              "      <th>MFCCs_17</th>\n",
              "      <th>MFCCs_18</th>\n",
              "      <th>MFCCs_19</th>\n",
              "      <th>MFCCs_20</th>\n",
              "      <th>MFCCs_21</th>\n",
              "      <th>MFCCs_22</th>\n",
              "    </tr>\n",
              "  </thead>\n",
              "  <tbody>\n",
              "    <tr>\n",
              "      <th>0</th>\n",
              "      <td>1.0</td>\n",
              "      <td>0.152936</td>\n",
              "      <td>-0.105586</td>\n",
              "      <td>0.200722</td>\n",
              "      <td>0.317201</td>\n",
              "      <td>0.260764</td>\n",
              "      <td>0.100945</td>\n",
              "      <td>-0.150063</td>\n",
              "      <td>-0.171128</td>\n",
              "      <td>0.124676</td>\n",
              "      <td>0.188654</td>\n",
              "      <td>-0.075622</td>\n",
              "      <td>-0.156436</td>\n",
              "      <td>0.082245</td>\n",
              "      <td>0.135752</td>\n",
              "      <td>-0.024017</td>\n",
              "      <td>-0.108351</td>\n",
              "      <td>-0.077623</td>\n",
              "      <td>-0.009568</td>\n",
              "      <td>0.057684</td>\n",
              "      <td>0.118680</td>\n",
              "      <td>0.014038</td>\n",
              "    </tr>\n",
              "    <tr>\n",
              "      <th>1</th>\n",
              "      <td>1.0</td>\n",
              "      <td>0.171534</td>\n",
              "      <td>-0.098975</td>\n",
              "      <td>0.268425</td>\n",
              "      <td>0.338672</td>\n",
              "      <td>0.268353</td>\n",
              "      <td>0.060835</td>\n",
              "      <td>-0.222475</td>\n",
              "      <td>-0.207693</td>\n",
              "      <td>0.170883</td>\n",
              "      <td>0.270958</td>\n",
              "      <td>-0.095004</td>\n",
              "      <td>-0.254341</td>\n",
              "      <td>0.022786</td>\n",
              "      <td>0.163320</td>\n",
              "      <td>0.012022</td>\n",
              "      <td>-0.090974</td>\n",
              "      <td>-0.056510</td>\n",
              "      <td>-0.035303</td>\n",
              "      <td>0.020140</td>\n",
              "      <td>0.082263</td>\n",
              "      <td>0.029056</td>\n",
              "    </tr>\n",
              "    <tr>\n",
              "      <th>2</th>\n",
              "      <td>1.0</td>\n",
              "      <td>0.152317</td>\n",
              "      <td>-0.082973</td>\n",
              "      <td>0.287128</td>\n",
              "      <td>0.276014</td>\n",
              "      <td>0.189867</td>\n",
              "      <td>0.008714</td>\n",
              "      <td>-0.242234</td>\n",
              "      <td>-0.219153</td>\n",
              "      <td>0.232538</td>\n",
              "      <td>0.266064</td>\n",
              "      <td>-0.072827</td>\n",
              "      <td>-0.237384</td>\n",
              "      <td>0.050791</td>\n",
              "      <td>0.207338</td>\n",
              "      <td>0.083536</td>\n",
              "      <td>-0.050691</td>\n",
              "      <td>-0.023590</td>\n",
              "      <td>-0.066722</td>\n",
              "      <td>-0.025083</td>\n",
              "      <td>0.099108</td>\n",
              "      <td>0.077162</td>\n",
              "    </tr>\n",
              "    <tr>\n",
              "      <th>3</th>\n",
              "      <td>1.0</td>\n",
              "      <td>0.224392</td>\n",
              "      <td>0.118985</td>\n",
              "      <td>0.329432</td>\n",
              "      <td>0.372088</td>\n",
              "      <td>0.361005</td>\n",
              "      <td>0.015501</td>\n",
              "      <td>-0.194347</td>\n",
              "      <td>-0.098181</td>\n",
              "      <td>0.270375</td>\n",
              "      <td>0.267279</td>\n",
              "      <td>-0.162258</td>\n",
              "      <td>-0.317084</td>\n",
              "      <td>-0.011567</td>\n",
              "      <td>0.100413</td>\n",
              "      <td>-0.050224</td>\n",
              "      <td>-0.136009</td>\n",
              "      <td>-0.177037</td>\n",
              "      <td>-0.130498</td>\n",
              "      <td>-0.054766</td>\n",
              "      <td>-0.018691</td>\n",
              "      <td>0.023954</td>\n",
              "    </tr>\n",
              "    <tr>\n",
              "      <th>4</th>\n",
              "      <td>1.0</td>\n",
              "      <td>0.087817</td>\n",
              "      <td>-0.068345</td>\n",
              "      <td>0.306967</td>\n",
              "      <td>0.330923</td>\n",
              "      <td>0.249144</td>\n",
              "      <td>0.006884</td>\n",
              "      <td>-0.265423</td>\n",
              "      <td>-0.172700</td>\n",
              "      <td>0.266434</td>\n",
              "      <td>0.332695</td>\n",
              "      <td>-0.100749</td>\n",
              "      <td>-0.298524</td>\n",
              "      <td>0.037439</td>\n",
              "      <td>0.219153</td>\n",
              "      <td>0.062837</td>\n",
              "      <td>-0.048885</td>\n",
              "      <td>-0.053074</td>\n",
              "      <td>-0.088550</td>\n",
              "      <td>-0.031346</td>\n",
              "      <td>0.108610</td>\n",
              "      <td>0.079244</td>\n",
              "    </tr>\n",
              "  </tbody>\n",
              "</table>\n",
              "</div>"
            ],
            "text/plain": [
              "   MFCCs_ 1  MFCCs_ 2  MFCCs_ 3  ...  MFCCs_20  MFCCs_21  MFCCs_22\n",
              "0       1.0  0.152936 -0.105586  ...  0.057684  0.118680  0.014038\n",
              "1       1.0  0.171534 -0.098975  ...  0.020140  0.082263  0.029056\n",
              "2       1.0  0.152317 -0.082973  ... -0.025083  0.099108  0.077162\n",
              "3       1.0  0.224392  0.118985  ... -0.054766 -0.018691  0.023954\n",
              "4       1.0  0.087817 -0.068345  ... -0.031346  0.108610  0.079244\n",
              "\n",
              "[5 rows x 22 columns]"
            ]
          },
          "metadata": {
            "tags": []
          },
          "execution_count": 5
        }
      ]
    },
    {
      "cell_type": "code",
      "metadata": {
        "id": "wevfKqTGualp",
        "colab_type": "code",
        "outputId": "f8d553c2-fa56-4753-c728-fd8701d8e654",
        "colab": {
          "base_uri": "https://localhost:8080/",
          "height": 204
        }
      },
      "source": [
        "y.head()"
      ],
      "execution_count": 0,
      "outputs": [
        {
          "output_type": "execute_result",
          "data": {
            "text/html": [
              "<div>\n",
              "<style scoped>\n",
              "    .dataframe tbody tr th:only-of-type {\n",
              "        vertical-align: middle;\n",
              "    }\n",
              "\n",
              "    .dataframe tbody tr th {\n",
              "        vertical-align: top;\n",
              "    }\n",
              "\n",
              "    .dataframe thead th {\n",
              "        text-align: right;\n",
              "    }\n",
              "</style>\n",
              "<table border=\"1\" class=\"dataframe\">\n",
              "  <thead>\n",
              "    <tr style=\"text-align: right;\">\n",
              "      <th></th>\n",
              "      <th>Family</th>\n",
              "      <th>Genus</th>\n",
              "      <th>Species</th>\n",
              "    </tr>\n",
              "  </thead>\n",
              "  <tbody>\n",
              "    <tr>\n",
              "      <th>0</th>\n",
              "      <td>Leptodactylidae</td>\n",
              "      <td>Adenomera</td>\n",
              "      <td>AdenomeraAndre</td>\n",
              "    </tr>\n",
              "    <tr>\n",
              "      <th>1</th>\n",
              "      <td>Leptodactylidae</td>\n",
              "      <td>Adenomera</td>\n",
              "      <td>AdenomeraAndre</td>\n",
              "    </tr>\n",
              "    <tr>\n",
              "      <th>2</th>\n",
              "      <td>Leptodactylidae</td>\n",
              "      <td>Adenomera</td>\n",
              "      <td>AdenomeraAndre</td>\n",
              "    </tr>\n",
              "    <tr>\n",
              "      <th>3</th>\n",
              "      <td>Leptodactylidae</td>\n",
              "      <td>Adenomera</td>\n",
              "      <td>AdenomeraAndre</td>\n",
              "    </tr>\n",
              "    <tr>\n",
              "      <th>4</th>\n",
              "      <td>Leptodactylidae</td>\n",
              "      <td>Adenomera</td>\n",
              "      <td>AdenomeraAndre</td>\n",
              "    </tr>\n",
              "  </tbody>\n",
              "</table>\n",
              "</div>"
            ],
            "text/plain": [
              "            Family      Genus         Species\n",
              "0  Leptodactylidae  Adenomera  AdenomeraAndre\n",
              "1  Leptodactylidae  Adenomera  AdenomeraAndre\n",
              "2  Leptodactylidae  Adenomera  AdenomeraAndre\n",
              "3  Leptodactylidae  Adenomera  AdenomeraAndre\n",
              "4  Leptodactylidae  Adenomera  AdenomeraAndre"
            ]
          },
          "metadata": {
            "tags": []
          },
          "execution_count": 6
        }
      ]
    },
    {
      "cell_type": "markdown",
      "metadata": {
        "id": "rMpp2cfCKQgk",
        "colab_type": "text"
      },
      "source": [
        "# (2)(a) , (2)(b) , (2)(c)"
      ]
    },
    {
      "cell_type": "code",
      "metadata": {
        "id": "XfQs7sNz_7Lz",
        "colab_type": "code",
        "colab": {}
      },
      "source": [
        "family_majority={}\n",
        "genus_majority={}\n",
        "species_majority={}\n",
        "for  p in range(1,51):\n",
        "  family_majority[p]=list()\n",
        "  genus_majority[p]= list()\n",
        "  species_majority[p]=list()"
      ],
      "execution_count": 0,
      "outputs": []
    },
    {
      "cell_type": "markdown",
      "metadata": {
        "id": "NIoqffJjKYvj",
        "colab_type": "text"
      },
      "source": [
        "*   We have 2 nested for loops for monte carlo and kmeans.   \n",
        "\n",
        "*   Within the outer for loop we calculate the mean and standard deviation of the hamming distances\n",
        "\n",
        "*   To do this, we are predicting labels within the for loop and calculating hamming distances by comparing true labels and labels assigned by clusters\n",
        "\n",
        "*   So the inner for loop, predicts labels and calculates silhouette score accordingly and stores it.\n",
        "\n",
        "\n",
        "*   The outer one then checks for the max silhouette score and the k value that corresponds to it and performs a prediction for the label again.\n",
        "\n",
        "*   With this label we calculate the hamming distances and store it.\n",
        "\n",
        "*   Then we calculate the mean and standard deviations of the hamming distances\n",
        "\n",
        "*Some terminologies and their meanings :*\n",
        "\n",
        "\n",
        "\n",
        "1.   Hamming distance : Hamming distance is the no. of mismatches between 2 vectors <br>\n",
        "\n",
        "2.   Hamming score : Hamming score is the no. of matches between 2 vectors <br>\n",
        "     It can also be represented as  (1 - hamming loss)\n",
        "\n",
        "3.   Hamming loss : Average of the hamming distances is hamming loss <br>\n",
        "\n",
        "\n",
        "\n",
        "\n",
        "\n",
        "\n",
        "\n",
        "\n",
        "\n",
        "\n",
        "\n",
        "\n"
      ]
    },
    {
      "cell_type": "code",
      "metadata": {
        "id": "qrZ2Cj4R1OdV",
        "colab_type": "code",
        "colab": {}
      },
      "source": [
        "from sklearn import metrics\n",
        "from sklearn.cluster import KMeans\n",
        "from sklearn.metrics import hamming_loss\n",
        "import random\n",
        "import numpy as np\n",
        "\n",
        "\n",
        "for i in range(1,51):\n",
        "  silhouette_analysis = pd.DataFrame(columns=['K-value', 'Silhouette-score'])\n",
        "  for k in range(2,50):\n",
        "    mdl = KMeans(n_clusters=k,init='k-means++',random_state=random.randint(0, 800)).fit(x)\n",
        "    lbl = mdl.labels_\n",
        "    silhouette_analysis = silhouette_analysis.append({'K-value': k, 'Silhouette-score':metrics.silhouette_score(x, lbl)}, ignore_index=True)\n",
        "  chosen_k = silhouette_analysis['K-value'][silhouette_analysis['Silhouette-score']==max(silhouette_analysis['Silhouette-score'])]\n",
        "  chosen_k=int(chosen_k)\n",
        "  k_means_chosenk = KMeans(n_clusters=chosen_k, random_state=random.randint(0, 800)).fit(x)\n",
        "  cls_lbl = k_means_chosenk.labels_\n",
        "\n",
        "  cls = pd.concat([df,pd.DataFrame({'multi_class_labels':cls_lbl.tolist()})],axis = 1)\n",
        "  majority={}\n",
        "  for k_val in range(0,chosen_k):\n",
        "    majority[k_val]=list()\n",
        "\n",
        "  for k in range(0,chosen_k):\n",
        "    lbl_name = cls[cls['multi_class_labels']==k]\n",
        "    majority[k].append(lbl_name['Family'].value_counts().index[0])\n",
        "    family_majority[i].append(lbl_name['Family'].value_counts().index[0])\n",
        "    majority[k].append(lbl_name['Genus'].value_counts().index[0])\n",
        "    genus_majority[i].append(lbl_name['Genus'].value_counts().index[0])\n",
        "    majority[k].append(lbl_name['Species'].value_counts().index[0])\n",
        "    species_majority[i].append(lbl_name['Species'].value_counts().index[0])\n",
        "\n",
        "  cls['family_preds'] = ''\n",
        "  cls['genus_preds'] = ''\n",
        "  cls['species_preds'] = ''\n",
        "\n",
        "  for k in range(0,chosen_k):\n",
        "    cls['family_preds'] = np.where(cls['multi_class_labels']==k,majority[k][0],cls['family_preds'])\n",
        "    cls['genus_preds'] = np.where(cls['multi_class_labels']==k,majority[k][1],cls['genus_preds'])\n",
        "    cls['species_preds'] = np.where(cls['multi_class_labels']==k,majority[k][2],cls['species_preds'])\n",
        "\n",
        "    \n",
        "  hamming_family_loss=hamming_loss(cls['Family'],cls['family_preds'])\n",
        "  hamming_genus_loss=hamming_loss(cls['Genus'],cls['genus_preds'])\n",
        "  hamming_species_loss=hamming_loss(cls['Species'],cls['species_preds'])\n",
        "\n",
        "  \n",
        "  total_hamming_loss= (hamming_family_loss+hamming_genus_loss+hamming_species_loss)/3\n",
        "\n",
        "  overall_hamming_loss.append(total_hamming_loss)\n",
        "  overall_hamming_score.append(1-total_hamming_loss)\n",
        "\n"
      ],
      "execution_count": 0,
      "outputs": []
    },
    {
      "cell_type": "code",
      "metadata": {
        "id": "LMj9ORmLM9Qq",
        "colab_type": "code",
        "outputId": "d43aa157-ac7a-412c-b23a-3d8c609bb283",
        "colab": {
          "base_uri": "https://localhost:8080/",
          "height": 51
        }
      },
      "source": [
        "print(\"Mean of the hamming distances : \",np.mean(overall_hamming_loss))\n",
        "print(\"Std deviation of the hamming distances : \",np.std(overall_hamming_loss))\n"
      ],
      "execution_count": 0,
      "outputs": [
        {
          "output_type": "stream",
          "text": [
            "Mean of the hamming distances :  0.22521380588371553\n",
            "Std deviation of the hamming distances :  0.00686636398271826\n"
          ],
          "name": "stdout"
        }
      ]
    },
    {
      "cell_type": "code",
      "metadata": {
        "id": "YYrubXmeOD-e",
        "colab_type": "code",
        "colab": {}
      },
      "source": [
        "m =list(zip(list(family_majority.values()),list(genus_majority.values()),list(species_majority.values())))"
      ],
      "execution_count": 0,
      "outputs": []
    },
    {
      "cell_type": "code",
      "metadata": {
        "id": "1JrZRm7mWL5N",
        "colab_type": "code",
        "colab": {}
      },
      "source": [
        "majority=dict()\n",
        "for j in range(0,50):\n",
        "    majority[j]=list(zip(m[j][0],m[j][1],m[j][2]))"
      ],
      "execution_count": 0,
      "outputs": []
    },
    {
      "cell_type": "markdown",
      "metadata": {
        "id": "825Bwo_ZMf9T",
        "colab_type": "text"
      },
      "source": [
        "Table summarizing the Optimal_K chosen using silhouette score , Hamming_score, hamming_loss and majority_label_triplet that has been achieved over 50 iterations of the monte carlo simulation "
      ]
    },
    {
      "cell_type": "code",
      "metadata": {
        "id": "k7rM0G7edepc",
        "colab_type": "code",
        "outputId": "72a1af66-a02c-45fa-bff5-4fc979246a6b",
        "colab": {
          "base_uri": "https://localhost:8080/",
          "height": 1000
        }
      },
      "source": [
        "Monte_carlo_simulation=pd.DataFrame({\"Optimal K\":chosen_k,\"Hamming Score\":overall_hamming_score,\"Hamming Loss\" : overall_hamming_loss,\"Majority label triplet\":list(majority.values())})\n",
        "Monte_carlo_simulation"
      ],
      "execution_count": 0,
      "outputs": [
        {
          "output_type": "execute_result",
          "data": {
            "text/html": [
              "<div>\n",
              "<style scoped>\n",
              "    .dataframe tbody tr th:only-of-type {\n",
              "        vertical-align: middle;\n",
              "    }\n",
              "\n",
              "    .dataframe tbody tr th {\n",
              "        vertical-align: top;\n",
              "    }\n",
              "\n",
              "    .dataframe thead th {\n",
              "        text-align: right;\n",
              "    }\n",
              "</style>\n",
              "<table border=\"1\" class=\"dataframe\">\n",
              "  <thead>\n",
              "    <tr style=\"text-align: right;\">\n",
              "      <th></th>\n",
              "      <th>Optimal K</th>\n",
              "      <th>Hamming Score</th>\n",
              "      <th>Hamming Loss</th>\n",
              "      <th>Majority label triplet</th>\n",
              "    </tr>\n",
              "  </thead>\n",
              "  <tbody>\n",
              "    <tr>\n",
              "      <th>0</th>\n",
              "      <td>4</td>\n",
              "      <td>0.784248</td>\n",
              "      <td>0.215752</td>\n",
              "      <td>[(Leptodactylidae, Adenomera, AdenomeraHylaeda...</td>\n",
              "    </tr>\n",
              "    <tr>\n",
              "      <th>1</th>\n",
              "      <td>4</td>\n",
              "      <td>0.766644</td>\n",
              "      <td>0.233356</td>\n",
              "      <td>[(Hylidae, Hypsiboas, HypsiboasCordobae), (Lep...</td>\n",
              "    </tr>\n",
              "    <tr>\n",
              "      <th>2</th>\n",
              "      <td>4</td>\n",
              "      <td>0.777577</td>\n",
              "      <td>0.222423</td>\n",
              "      <td>[(Hylidae, Hypsiboas, HypsiboasCinerascens), (...</td>\n",
              "    </tr>\n",
              "    <tr>\n",
              "      <th>3</th>\n",
              "      <td>4</td>\n",
              "      <td>0.754876</td>\n",
              "      <td>0.245124</td>\n",
              "      <td>[(Leptodactylidae, Adenomera, AdenomeraHylaeda...</td>\n",
              "    </tr>\n",
              "    <tr>\n",
              "      <th>4</th>\n",
              "      <td>4</td>\n",
              "      <td>0.777577</td>\n",
              "      <td>0.222423</td>\n",
              "      <td>[(Hylidae, Hypsiboas, HypsiboasCordobae), (Lep...</td>\n",
              "    </tr>\n",
              "    <tr>\n",
              "      <th>5</th>\n",
              "      <td>4</td>\n",
              "      <td>0.777577</td>\n",
              "      <td>0.222423</td>\n",
              "      <td>[(Hylidae, Hypsiboas, HypsiboasCinerascens), (...</td>\n",
              "    </tr>\n",
              "    <tr>\n",
              "      <th>6</th>\n",
              "      <td>4</td>\n",
              "      <td>0.777577</td>\n",
              "      <td>0.222423</td>\n",
              "      <td>[(Hylidae, Hypsiboas, HypsiboasCinerascens), (...</td>\n",
              "    </tr>\n",
              "    <tr>\n",
              "      <th>7</th>\n",
              "      <td>4</td>\n",
              "      <td>0.777577</td>\n",
              "      <td>0.222423</td>\n",
              "      <td>[(Leptodactylidae, Adenomera, AdenomeraHylaeda...</td>\n",
              "    </tr>\n",
              "    <tr>\n",
              "      <th>8</th>\n",
              "      <td>4</td>\n",
              "      <td>0.766644</td>\n",
              "      <td>0.233356</td>\n",
              "      <td>[(Leptodactylidae, Adenomera, AdenomeraAndre),...</td>\n",
              "    </tr>\n",
              "    <tr>\n",
              "      <th>9</th>\n",
              "      <td>4</td>\n",
              "      <td>0.777716</td>\n",
              "      <td>0.222284</td>\n",
              "      <td>[(Leptodactylidae, Adenomera, AdenomeraHylaeda...</td>\n",
              "    </tr>\n",
              "    <tr>\n",
              "      <th>10</th>\n",
              "      <td>4</td>\n",
              "      <td>0.766366</td>\n",
              "      <td>0.233634</td>\n",
              "      <td>[(Hylidae, Hypsiboas, HypsiboasCordobae), (Lep...</td>\n",
              "    </tr>\n",
              "    <tr>\n",
              "      <th>11</th>\n",
              "      <td>4</td>\n",
              "      <td>0.777577</td>\n",
              "      <td>0.222423</td>\n",
              "      <td>[(Hylidae, Hypsiboas, HypsiboasCordobae), (Hyl...</td>\n",
              "    </tr>\n",
              "    <tr>\n",
              "      <th>12</th>\n",
              "      <td>4</td>\n",
              "      <td>0.777577</td>\n",
              "      <td>0.222423</td>\n",
              "      <td>[(Leptodactylidae, Adenomera, AdenomeraHylaeda...</td>\n",
              "    </tr>\n",
              "    <tr>\n",
              "      <th>13</th>\n",
              "      <td>4</td>\n",
              "      <td>0.777577</td>\n",
              "      <td>0.222423</td>\n",
              "      <td>[(Hylidae, Hypsiboas, HypsiboasCinerascens), (...</td>\n",
              "    </tr>\n",
              "    <tr>\n",
              "      <th>14</th>\n",
              "      <td>4</td>\n",
              "      <td>0.777577</td>\n",
              "      <td>0.222423</td>\n",
              "      <td>[(Dendrobatidae, Ameerega, Ameeregatrivittata)...</td>\n",
              "    </tr>\n",
              "    <tr>\n",
              "      <th>15</th>\n",
              "      <td>4</td>\n",
              "      <td>0.754737</td>\n",
              "      <td>0.245263</td>\n",
              "      <td>[(Leptodactylidae, Adenomera, AdenomeraHylaeda...</td>\n",
              "    </tr>\n",
              "    <tr>\n",
              "      <th>16</th>\n",
              "      <td>4</td>\n",
              "      <td>0.777577</td>\n",
              "      <td>0.222423</td>\n",
              "      <td>[(Leptodactylidae, Adenomera, AdenomeraHylaeda...</td>\n",
              "    </tr>\n",
              "    <tr>\n",
              "      <th>17</th>\n",
              "      <td>4</td>\n",
              "      <td>0.777577</td>\n",
              "      <td>0.222423</td>\n",
              "      <td>[(Leptodactylidae, Adenomera, AdenomeraHylaeda...</td>\n",
              "    </tr>\n",
              "    <tr>\n",
              "      <th>18</th>\n",
              "      <td>4</td>\n",
              "      <td>0.777577</td>\n",
              "      <td>0.222423</td>\n",
              "      <td>[(Dendrobatidae, Ameerega, Ameeregatrivittata)...</td>\n",
              "    </tr>\n",
              "    <tr>\n",
              "      <th>19</th>\n",
              "      <td>4</td>\n",
              "      <td>0.777577</td>\n",
              "      <td>0.222423</td>\n",
              "      <td>[(Leptodactylidae, Adenomera, AdenomeraHylaeda...</td>\n",
              "    </tr>\n",
              "    <tr>\n",
              "      <th>20</th>\n",
              "      <td>4</td>\n",
              "      <td>0.777577</td>\n",
              "      <td>0.222423</td>\n",
              "      <td>[(Dendrobatidae, Ameerega, Ameeregatrivittata)...</td>\n",
              "    </tr>\n",
              "    <tr>\n",
              "      <th>21</th>\n",
              "      <td>4</td>\n",
              "      <td>0.777531</td>\n",
              "      <td>0.222469</td>\n",
              "      <td>[(Hylidae, Hypsiboas, HypsiboasCinerascens), (...</td>\n",
              "    </tr>\n",
              "    <tr>\n",
              "      <th>22</th>\n",
              "      <td>4</td>\n",
              "      <td>0.777577</td>\n",
              "      <td>0.222423</td>\n",
              "      <td>[(Dendrobatidae, Ameerega, Ameeregatrivittata)...</td>\n",
              "    </tr>\n",
              "    <tr>\n",
              "      <th>23</th>\n",
              "      <td>4</td>\n",
              "      <td>0.765949</td>\n",
              "      <td>0.234051</td>\n",
              "      <td>[(Leptodactylidae, Adenomera, AdenomeraHylaeda...</td>\n",
              "    </tr>\n",
              "    <tr>\n",
              "      <th>24</th>\n",
              "      <td>4</td>\n",
              "      <td>0.777577</td>\n",
              "      <td>0.222423</td>\n",
              "      <td>[(Leptodactylidae, Adenomera, AdenomeraHylaeda...</td>\n",
              "    </tr>\n",
              "    <tr>\n",
              "      <th>25</th>\n",
              "      <td>4</td>\n",
              "      <td>0.777577</td>\n",
              "      <td>0.222423</td>\n",
              "      <td>[(Hylidae, Hypsiboas, HypsiboasCordobae), (Lep...</td>\n",
              "    </tr>\n",
              "    <tr>\n",
              "      <th>26</th>\n",
              "      <td>4</td>\n",
              "      <td>0.777809</td>\n",
              "      <td>0.222191</td>\n",
              "      <td>[(Hylidae, Hypsiboas, HypsiboasCordobae), (Den...</td>\n",
              "    </tr>\n",
              "    <tr>\n",
              "      <th>27</th>\n",
              "      <td>4</td>\n",
              "      <td>0.777531</td>\n",
              "      <td>0.222469</td>\n",
              "      <td>[(Hylidae, Hypsiboas, HypsiboasCinerascens), (...</td>\n",
              "    </tr>\n",
              "    <tr>\n",
              "      <th>28</th>\n",
              "      <td>4</td>\n",
              "      <td>0.777577</td>\n",
              "      <td>0.222423</td>\n",
              "      <td>[(Hylidae, Hypsiboas, HypsiboasCinerascens), (...</td>\n",
              "    </tr>\n",
              "    <tr>\n",
              "      <th>29</th>\n",
              "      <td>4</td>\n",
              "      <td>0.777577</td>\n",
              "      <td>0.222423</td>\n",
              "      <td>[(Leptodactylidae, Adenomera, AdenomeraHylaeda...</td>\n",
              "    </tr>\n",
              "    <tr>\n",
              "      <th>30</th>\n",
              "      <td>4</td>\n",
              "      <td>0.754876</td>\n",
              "      <td>0.245124</td>\n",
              "      <td>[(Leptodactylidae, Adenomera, AdenomeraHylaeda...</td>\n",
              "    </tr>\n",
              "    <tr>\n",
              "      <th>31</th>\n",
              "      <td>4</td>\n",
              "      <td>0.754737</td>\n",
              "      <td>0.245263</td>\n",
              "      <td>[(Leptodactylidae, Adenomera, AdenomeraHylaeda...</td>\n",
              "    </tr>\n",
              "    <tr>\n",
              "      <th>32</th>\n",
              "      <td>4</td>\n",
              "      <td>0.777577</td>\n",
              "      <td>0.222423</td>\n",
              "      <td>[(Hylidae, Hypsiboas, HypsiboasCinerascens), (...</td>\n",
              "    </tr>\n",
              "    <tr>\n",
              "      <th>33</th>\n",
              "      <td>4</td>\n",
              "      <td>0.778226</td>\n",
              "      <td>0.221774</td>\n",
              "      <td>[(Hylidae, Hypsiboas, HypsiboasCordobae), (Lep...</td>\n",
              "    </tr>\n",
              "    <tr>\n",
              "      <th>34</th>\n",
              "      <td>4</td>\n",
              "      <td>0.777577</td>\n",
              "      <td>0.222423</td>\n",
              "      <td>[(Leptodactylidae, Adenomera, AdenomeraHylaeda...</td>\n",
              "    </tr>\n",
              "    <tr>\n",
              "      <th>35</th>\n",
              "      <td>4</td>\n",
              "      <td>0.777577</td>\n",
              "      <td>0.222423</td>\n",
              "      <td>[(Leptodactylidae, Adenomera, AdenomeraHylaeda...</td>\n",
              "    </tr>\n",
              "    <tr>\n",
              "      <th>36</th>\n",
              "      <td>4</td>\n",
              "      <td>0.777577</td>\n",
              "      <td>0.222423</td>\n",
              "      <td>[(Leptodactylidae, Adenomera, AdenomeraHylaeda...</td>\n",
              "    </tr>\n",
              "    <tr>\n",
              "      <th>37</th>\n",
              "      <td>4</td>\n",
              "      <td>0.766273</td>\n",
              "      <td>0.233727</td>\n",
              "      <td>[(Hylidae, Hypsiboas, HypsiboasCinerascens), (...</td>\n",
              "    </tr>\n",
              "    <tr>\n",
              "      <th>38</th>\n",
              "      <td>4</td>\n",
              "      <td>0.777577</td>\n",
              "      <td>0.222423</td>\n",
              "      <td>[(Leptodactylidae, Adenomera, AdenomeraHylaeda...</td>\n",
              "    </tr>\n",
              "    <tr>\n",
              "      <th>39</th>\n",
              "      <td>4</td>\n",
              "      <td>0.777577</td>\n",
              "      <td>0.222423</td>\n",
              "      <td>[(Leptodactylidae, Adenomera, AdenomeraHylaeda...</td>\n",
              "    </tr>\n",
              "    <tr>\n",
              "      <th>40</th>\n",
              "      <td>4</td>\n",
              "      <td>0.777577</td>\n",
              "      <td>0.222423</td>\n",
              "      <td>[(Dendrobatidae, Ameerega, Ameeregatrivittata)...</td>\n",
              "    </tr>\n",
              "    <tr>\n",
              "      <th>41</th>\n",
              "      <td>4</td>\n",
              "      <td>0.777577</td>\n",
              "      <td>0.222423</td>\n",
              "      <td>[(Hylidae, Hypsiboas, HypsiboasCordobae), (Lep...</td>\n",
              "    </tr>\n",
              "    <tr>\n",
              "      <th>42</th>\n",
              "      <td>4</td>\n",
              "      <td>0.777577</td>\n",
              "      <td>0.222423</td>\n",
              "      <td>[(Hylidae, Hypsiboas, HypsiboasCinerascens), (...</td>\n",
              "    </tr>\n",
              "    <tr>\n",
              "      <th>43</th>\n",
              "      <td>4</td>\n",
              "      <td>0.777577</td>\n",
              "      <td>0.222423</td>\n",
              "      <td>[(Hylidae, Hypsiboas, HypsiboasCordobae), (Den...</td>\n",
              "    </tr>\n",
              "    <tr>\n",
              "      <th>44</th>\n",
              "      <td>4</td>\n",
              "      <td>0.777531</td>\n",
              "      <td>0.222469</td>\n",
              "      <td>[(Dendrobatidae, Ameerega, Ameeregatrivittata)...</td>\n",
              "    </tr>\n",
              "    <tr>\n",
              "      <th>45</th>\n",
              "      <td>4</td>\n",
              "      <td>0.777577</td>\n",
              "      <td>0.222423</td>\n",
              "      <td>[(Hylidae, Hypsiboas, HypsiboasCordobae), (Lep...</td>\n",
              "    </tr>\n",
              "    <tr>\n",
              "      <th>46</th>\n",
              "      <td>4</td>\n",
              "      <td>0.777577</td>\n",
              "      <td>0.222423</td>\n",
              "      <td>[(Leptodactylidae, Adenomera, AdenomeraHylaeda...</td>\n",
              "    </tr>\n",
              "    <tr>\n",
              "      <th>47</th>\n",
              "      <td>4</td>\n",
              "      <td>0.777577</td>\n",
              "      <td>0.222423</td>\n",
              "      <td>[(Dendrobatidae, Ameerega, Ameeregatrivittata)...</td>\n",
              "    </tr>\n",
              "    <tr>\n",
              "      <th>48</th>\n",
              "      <td>4</td>\n",
              "      <td>0.777577</td>\n",
              "      <td>0.222423</td>\n",
              "      <td>[(Hylidae, Hypsiboas, HypsiboasCinerascens), (...</td>\n",
              "    </tr>\n",
              "    <tr>\n",
              "      <th>49</th>\n",
              "      <td>4</td>\n",
              "      <td>0.777577</td>\n",
              "      <td>0.222423</td>\n",
              "      <td>[(Hylidae, Hypsiboas, HypsiboasCordobae), (Lep...</td>\n",
              "    </tr>\n",
              "  </tbody>\n",
              "</table>\n",
              "</div>"
            ],
            "text/plain": [
              "    Optimal K  ...                             Majority label triplet\n",
              "0           4  ...  [(Leptodactylidae, Adenomera, AdenomeraHylaeda...\n",
              "1           4  ...  [(Hylidae, Hypsiboas, HypsiboasCordobae), (Lep...\n",
              "2           4  ...  [(Hylidae, Hypsiboas, HypsiboasCinerascens), (...\n",
              "3           4  ...  [(Leptodactylidae, Adenomera, AdenomeraHylaeda...\n",
              "4           4  ...  [(Hylidae, Hypsiboas, HypsiboasCordobae), (Lep...\n",
              "5           4  ...  [(Hylidae, Hypsiboas, HypsiboasCinerascens), (...\n",
              "6           4  ...  [(Hylidae, Hypsiboas, HypsiboasCinerascens), (...\n",
              "7           4  ...  [(Leptodactylidae, Adenomera, AdenomeraHylaeda...\n",
              "8           4  ...  [(Leptodactylidae, Adenomera, AdenomeraAndre),...\n",
              "9           4  ...  [(Leptodactylidae, Adenomera, AdenomeraHylaeda...\n",
              "10          4  ...  [(Hylidae, Hypsiboas, HypsiboasCordobae), (Lep...\n",
              "11          4  ...  [(Hylidae, Hypsiboas, HypsiboasCordobae), (Hyl...\n",
              "12          4  ...  [(Leptodactylidae, Adenomera, AdenomeraHylaeda...\n",
              "13          4  ...  [(Hylidae, Hypsiboas, HypsiboasCinerascens), (...\n",
              "14          4  ...  [(Dendrobatidae, Ameerega, Ameeregatrivittata)...\n",
              "15          4  ...  [(Leptodactylidae, Adenomera, AdenomeraHylaeda...\n",
              "16          4  ...  [(Leptodactylidae, Adenomera, AdenomeraHylaeda...\n",
              "17          4  ...  [(Leptodactylidae, Adenomera, AdenomeraHylaeda...\n",
              "18          4  ...  [(Dendrobatidae, Ameerega, Ameeregatrivittata)...\n",
              "19          4  ...  [(Leptodactylidae, Adenomera, AdenomeraHylaeda...\n",
              "20          4  ...  [(Dendrobatidae, Ameerega, Ameeregatrivittata)...\n",
              "21          4  ...  [(Hylidae, Hypsiboas, HypsiboasCinerascens), (...\n",
              "22          4  ...  [(Dendrobatidae, Ameerega, Ameeregatrivittata)...\n",
              "23          4  ...  [(Leptodactylidae, Adenomera, AdenomeraHylaeda...\n",
              "24          4  ...  [(Leptodactylidae, Adenomera, AdenomeraHylaeda...\n",
              "25          4  ...  [(Hylidae, Hypsiboas, HypsiboasCordobae), (Lep...\n",
              "26          4  ...  [(Hylidae, Hypsiboas, HypsiboasCordobae), (Den...\n",
              "27          4  ...  [(Hylidae, Hypsiboas, HypsiboasCinerascens), (...\n",
              "28          4  ...  [(Hylidae, Hypsiboas, HypsiboasCinerascens), (...\n",
              "29          4  ...  [(Leptodactylidae, Adenomera, AdenomeraHylaeda...\n",
              "30          4  ...  [(Leptodactylidae, Adenomera, AdenomeraHylaeda...\n",
              "31          4  ...  [(Leptodactylidae, Adenomera, AdenomeraHylaeda...\n",
              "32          4  ...  [(Hylidae, Hypsiboas, HypsiboasCinerascens), (...\n",
              "33          4  ...  [(Hylidae, Hypsiboas, HypsiboasCordobae), (Lep...\n",
              "34          4  ...  [(Leptodactylidae, Adenomera, AdenomeraHylaeda...\n",
              "35          4  ...  [(Leptodactylidae, Adenomera, AdenomeraHylaeda...\n",
              "36          4  ...  [(Leptodactylidae, Adenomera, AdenomeraHylaeda...\n",
              "37          4  ...  [(Hylidae, Hypsiboas, HypsiboasCinerascens), (...\n",
              "38          4  ...  [(Leptodactylidae, Adenomera, AdenomeraHylaeda...\n",
              "39          4  ...  [(Leptodactylidae, Adenomera, AdenomeraHylaeda...\n",
              "40          4  ...  [(Dendrobatidae, Ameerega, Ameeregatrivittata)...\n",
              "41          4  ...  [(Hylidae, Hypsiboas, HypsiboasCordobae), (Lep...\n",
              "42          4  ...  [(Hylidae, Hypsiboas, HypsiboasCinerascens), (...\n",
              "43          4  ...  [(Hylidae, Hypsiboas, HypsiboasCordobae), (Den...\n",
              "44          4  ...  [(Dendrobatidae, Ameerega, Ameeregatrivittata)...\n",
              "45          4  ...  [(Hylidae, Hypsiboas, HypsiboasCordobae), (Lep...\n",
              "46          4  ...  [(Leptodactylidae, Adenomera, AdenomeraHylaeda...\n",
              "47          4  ...  [(Dendrobatidae, Ameerega, Ameeregatrivittata)...\n",
              "48          4  ...  [(Hylidae, Hypsiboas, HypsiboasCinerascens), (...\n",
              "49          4  ...  [(Hylidae, Hypsiboas, HypsiboasCordobae), (Lep...\n",
              "\n",
              "[50 rows x 4 columns]"
            ]
          },
          "metadata": {
            "tags": []
          },
          "execution_count": 12
        }
      ]
    },
    {
      "cell_type": "markdown",
      "metadata": {
        "id": "vykQDIXkM8AT",
        "colab_type": "text"
      },
      "source": [
        "#(3)  ISLR 10.7.2 \n",
        "\n",
        "**For the ISLR portions of this homework , kindly refer to the PDF document attached along with this in the .zip file that has been submitted**"
      ]
    }
  ]
}