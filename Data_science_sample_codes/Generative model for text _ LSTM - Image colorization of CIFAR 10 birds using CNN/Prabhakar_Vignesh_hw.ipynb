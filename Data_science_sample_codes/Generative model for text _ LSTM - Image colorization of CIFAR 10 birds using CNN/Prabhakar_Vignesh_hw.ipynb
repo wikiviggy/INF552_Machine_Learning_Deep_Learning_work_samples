{
  "nbformat": 4,
  "nbformat_minor": 0,
  "metadata": {
    "colab": {
      "name": "Prabhakar_Vignesh_hw7.ipynb",
      "provenance": [],
      "collapsed_sections": []
    },
    "kernelspec": {
      "name": "python3",
      "display_name": "Python 3"
    },
    "accelerator": "GPU"
  },
  "cells": [
    {
      "cell_type": "markdown",
      "metadata": {
        "id": "lM6AVOC9OEBM",
        "colab_type": "text"
      },
      "source": [
        "# **HOMEWORK 7** \n",
        "\n",
        "**VIGNESH PRABHAKAR**<br>\n",
        "**USC ID:** : 4024890667\n"
      ]
    },
    {
      "cell_type": "markdown",
      "metadata": {
        "id": "u2_1mC_FZMmN",
        "colab_type": "text"
      },
      "source": [
        "# **Generative Models for Text**"
      ]
    },
    {
      "cell_type": "markdown",
      "metadata": {
        "id": "U1g96EzjUaNx",
        "colab_type": "text"
      },
      "source": [
        "# (1)(a) & (1)(b)\n",
        "\n",
        "Mounted data from google drive"
      ]
    },
    {
      "cell_type": "code",
      "metadata": {
        "id": "dB1SdxoiVlAK",
        "colab_type": "code",
        "outputId": "d1ff251d-5698-4650-d67b-fb2aaa5e6a46",
        "colab": {
          "base_uri": "https://localhost:8080/",
          "height": 122
        }
      },
      "source": [
        "from google.colab import drive\n",
        "drive.mount('/gdrive')\n"
      ],
      "execution_count": 0,
      "outputs": [
        {
          "output_type": "stream",
          "text": [
            "Go to this URL in a browser: https://accounts.google.com/o/oauth2/auth?client_id=947318989803-6bn6qk8qdgf4n4g3pfee6491hc0brc4i.apps.googleusercontent.com&redirect_uri=urn%3aietf%3awg%3aoauth%3a2.0%3aoob&response_type=code&scope=email%20https%3a%2f%2fwww.googleapis.com%2fauth%2fdocs.test%20https%3a%2f%2fwww.googleapis.com%2fauth%2fdrive%20https%3a%2f%2fwww.googleapis.com%2fauth%2fdrive.photos.readonly%20https%3a%2f%2fwww.googleapis.com%2fauth%2fpeopleapi.readonly\n",
            "\n",
            "Enter your authorization code:\n",
            "··········\n",
            "Mounted at /gdrive\n"
          ],
          "name": "stdout"
        }
      ]
    },
    {
      "cell_type": "code",
      "metadata": {
        "id": "PEYJEoCqs1ST",
        "colab_type": "code",
        "colab": {}
      },
      "source": [
        "import os"
      ],
      "execution_count": 0,
      "outputs": []
    },
    {
      "cell_type": "markdown",
      "metadata": {
        "id": "7FtKYWOxUyol",
        "colab_type": "text"
      },
      "source": [
        "# (1)(c)(i)"
      ]
    },
    {
      "cell_type": "code",
      "metadata": {
        "id": "O9b_uYS4YNmD",
        "colab_type": "code",
        "outputId": "227944c3-b9ae-490c-fed7-15aafe713cc4",
        "colab": {
          "base_uri": "https://localhost:8080/",
          "height": 153
        }
      },
      "source": [
        "with open(\"/gdrive/My Drive/Homeworks/corpus.txt\",\"w\", encoding='utf-8') as fpw:\n",
        "    for files in os.listdir('/gdrive/My Drive/Homeworks/hw7/'):\n",
        "            with open('/gdrive/My Drive/Homeworks/hw7/' + files,\"r\", encoding='utf-8',errors='ignore') as fpr:\n",
        "                print (\"Writing \" + files)\n",
        "                for l in fpr:\n",
        "                    txt = ' '.join(l.split())\n",
        "                    txt = txt.lower()\n",
        "                    fpw.write(txt + ' ')\n",
        "    print (\"corpus.txt is ready\")"
      ],
      "execution_count": 0,
      "outputs": [
        {
          "output_type": "stream",
          "text": [
            "Writing TAM.txt\n",
            "Writing TAMatter.txt\n",
            "Writing THWP.txt\n",
            "Writing TPP.txt\n",
            "Writing MLOE.txt\n",
            "Writing OKEWFSMP.txt\n",
            "Writing AIIMAT.txt\n",
            "corpus.txt is ready\n"
          ],
          "name": "stdout"
        }
      ]
    },
    {
      "cell_type": "markdown",
      "metadata": {
        "id": "9LaxrjceVGtS",
        "colab_type": "text"
      },
      "source": [
        "# (1)(c)(ii)"
      ]
    },
    {
      "cell_type": "code",
      "metadata": {
        "id": "397bD-CeCUMw",
        "colab_type": "code",
        "colab": {}
      },
      "source": [
        "with open(\"/gdrive/My Drive/Homeworks/corpus.txt\",\"r\", encoding='utf-8') as fp:\n",
        "    gen_corpus = fp.read()\n",
        "corpus_characters = list(set(gen_corpus))"
      ],
      "execution_count": 0,
      "outputs": []
    },
    {
      "cell_type": "code",
      "metadata": {
        "id": "XPIfv7L5EFHK",
        "colab_type": "code",
        "colab": {}
      },
      "source": [
        "del corpus_characters[51]"
      ],
      "execution_count": 0,
      "outputs": []
    },
    {
      "cell_type": "code",
      "metadata": {
        "id": "embS-fOZDkW5",
        "colab_type": "code",
        "outputId": "9d6d44c8-f5db-4dd7-dd97-3567000dd409",
        "colab": {
          "base_uri": "https://localhost:8080/",
          "height": 54
        }
      },
      "source": [
        "print (corpus_characters)"
      ],
      "execution_count": 0,
      "outputs": [
        {
          "output_type": "stream",
          "text": [
            "['γ', '3', 'β', 'ü', '4', 'k', 'ο', '?', '(', '|', '°', '7', '=', '$', '—', '±', \"'\", '_', 'α', '1', '~', 'σ', 'ί', 'ι', '¥', 'ό', 'b', '#', '′', 'ï', '»', '£', '^', '♦', 'ρ', 'λ', 'd', 'f', ';', 'q', '/', 'c', 'h', 'η', '*', '■', 'x', '<', '}', '„', '\\\\', '.', '2', '>', 'ν', 'o', 'w', '«', 'œ', 'ὴ', '+', '[', 'u', 'i', '·', ':', '€', 'm', '\"', ']', 'î', 'κ', 'ë', 'p', ')', '§', '™', '6', 'l', '8', '0', 'ô', 'ή', 't', 'τ', 'ö', 'y', '!', 'n', 'æ', ' ', '-', 'r', '&', '®', 'z', '″', 'â', 's', 'a', 'ὸ', 'π', 'e', 'φ', 'è', '•', '9', '%', 'θ', '►', '5', '{', ',', 'v', 'g', 'ŭ', 'é', 'j']\n"
          ],
          "name": "stdout"
        }
      ]
    },
    {
      "cell_type": "code",
      "metadata": {
        "id": "9Z0Zk1rXDrIh",
        "colab_type": "code",
        "outputId": "14776413-1feb-477f-e35d-20e8d791d62e",
        "colab": {
          "base_uri": "https://localhost:8080/",
          "height": 34
        }
      },
      "source": [
        "print (len(corpus_characters))"
      ],
      "execution_count": 0,
      "outputs": [
        {
          "output_type": "stream",
          "text": [
            "118\n"
          ],
          "name": "stdout"
        }
      ]
    },
    {
      "cell_type": "code",
      "metadata": {
        "id": "MPK9Q7-hCCGa",
        "colab_type": "code",
        "colab": {}
      },
      "source": [
        "import re\n",
        "new_corpus=re.sub(r'\\W+', '',gen_corpus)"
      ],
      "execution_count": 0,
      "outputs": []
    },
    {
      "cell_type": "code",
      "metadata": {
        "id": "m49hoZzhsULp",
        "colab_type": "code",
        "outputId": "414ddc2f-d6ee-43c1-a83a-7d8e3a5c9baa",
        "colab": {
          "base_uri": "https://localhost:8080/",
          "height": 54
        }
      },
      "source": [
        "new_corp_char = list(set(new_corpus))\n",
        "print(new_corp_char)"
      ],
      "execution_count": 0,
      "outputs": [
        {
          "output_type": "stream",
          "text": [
            "['i', 'γ', '3', 'z', 'β', 'â', 'ü', 's', 'a', '4', 'm', 'k', 'ὸ', 'î', 'κ', 'ὴ', 'ë', 'ο', 'π', 'ρ', 'p', 'e', '7', 'λ', 'φ', '6', 'ï', 'l', '9', '8', 'è', '0', 'ô', 'θ', 'ή', '_', 'α', 't', '1', 'd', 'ί', 'f', 'σ', 'q', '5', 'c', 'τ', 'ι', 'ö', 'h', 'y', 'η', 'x', 'v', 'g', 'ŭ', 'n', 'æ', 'ό', 'b', '2', 'é', 'ν', 'o', 'w', 'œ', 'j', 'r', 'u']\n"
          ],
          "name": "stdout"
        }
      ]
    },
    {
      "cell_type": "code",
      "metadata": {
        "id": "TDEV5V6XGcyS",
        "colab_type": "code",
        "outputId": "0f5d56f3-3ee6-4544-a043-0782dd22737d",
        "colab": {
          "base_uri": "https://localhost:8080/",
          "height": 34
        }
      },
      "source": [
        "len(new_corp_char)"
      ],
      "execution_count": 0,
      "outputs": [
        {
          "output_type": "execute_result",
          "data": {
            "text/plain": [
              "69"
            ]
          },
          "metadata": {
            "tags": []
          },
          "execution_count": 20
        }
      ]
    },
    {
      "cell_type": "code",
      "metadata": {
        "id": "oqJqOrZiHGyP",
        "colab_type": "code",
        "outputId": "857774ff-60a9-4edb-c73a-0bf04544b8f2",
        "colab": {
          "base_uri": "https://localhost:8080/",
          "height": 54
        }
      },
      "source": [
        "characters = dict()\n",
        "for i in new_corp_char:\n",
        "    characters[i] = ord(i)\n",
        "print (characters)"
      ],
      "execution_count": 0,
      "outputs": [
        {
          "output_type": "stream",
          "text": [
            "{'i': 105, 'γ': 947, '3': 51, 'z': 122, 'β': 946, 'â': 226, 'ü': 252, 's': 115, 'a': 97, '4': 52, 'm': 109, 'k': 107, 'ὸ': 8056, 'î': 238, 'κ': 954, 'ὴ': 8052, 'ë': 235, 'ο': 959, 'π': 960, 'ρ': 961, 'p': 112, 'e': 101, '7': 55, 'λ': 955, 'φ': 966, '6': 54, 'ï': 239, 'l': 108, '9': 57, '8': 56, 'è': 232, '0': 48, 'ô': 244, 'θ': 952, 'ή': 8053, '_': 95, 'α': 945, 't': 116, '1': 49, 'd': 100, 'ί': 8055, 'f': 102, 'σ': 963, 'q': 113, '5': 53, 'c': 99, 'τ': 964, 'ι': 953, 'ö': 246, 'h': 104, 'y': 121, 'η': 951, 'x': 120, 'v': 118, 'g': 103, 'ŭ': 365, 'n': 110, 'æ': 230, 'ό': 8057, 'b': 98, '2': 50, 'é': 233, 'ν': 957, 'o': 111, 'w': 119, 'œ': 339, 'j': 106, 'r': 114, 'u': 117}\n"
          ],
          "name": "stdout"
        }
      ]
    },
    {
      "cell_type": "code",
      "metadata": {
        "id": "AN8QTWQbH2oo",
        "colab_type": "code",
        "outputId": "a3f1fbb3-163a-4d1c-f91e-69873a731e92",
        "colab": {
          "base_uri": "https://localhost:8080/",
          "height": 54
        }
      },
      "source": [
        "min_ascii_val = min(characters.values())\n",
        "max_ascii_val = max(characters.values())\n",
        "\n",
        "normalized_ascii_range=dict()\n",
        "for key in characters.keys():\n",
        "  normalized_ascii_range[key] = (characters[key] - min_ascii_val)/float(max_ascii_val - min_ascii_val)\n",
        "\n",
        "print (normalized_ascii_range)"
      ],
      "execution_count": 0,
      "outputs": [
        {
          "output_type": "stream",
          "text": [
            "{'i': 0.00711699338244475, 'γ': 0.11224872018978649, '3': 0.00037457859907603946, 'z': 0.009239605443875639, 'β': 0.11212386065676114, 'â': 0.022224996878511673, 'ü': 0.025471344737170682, 's': 0.008365588712698215, 'a': 0.006118117118241978, '4': 0.000499438132101386, 'm': 0.007616431514546136, 'k': 0.007366712448495442, 'ὸ': 0.9998751404669747, 'î': 0.023723311274815834, 'κ': 0.11312273692096392, 'ὴ': 0.9993757023348733, 'ë': 0.02334873267573979, 'ο': 0.11374703458609065, 'π': 0.113871894119116, 'ρ': 0.11399675365214135, 'p': 0.007991010113622176, 'e': 0.006617555250343364, '7': 0.0008740167311774254, 'λ': 0.11324759645398927, 'φ': 0.11462105131726807, '6': 0.0007491571981520789, 'ï': 0.023848170807841178, 'l': 0.007491571981520789, '9': 0.0011237357972281184, '8': 0.000998876264202772, 'è': 0.022974154076663752, '0': 0.0, 'ô': 0.024472468472967912, 'θ': 0.11287301785491322, 'ή': 0.9995005618678986, '_': 0.005868398052191285, 'α': 0.1119990011237358, 't': 0.00849044824572356, '1': 0.0001248595330253465, 'd': 0.006492695717318017, 'ί': 0.9997502809339494, 'f': 0.006742414783368711, 'σ': 0.11424647271819204, 'q': 0.008115869646647522, '5': 0.0006242976651267324, 'c': 0.0063678361842926705, 'τ': 0.11437133225121739, 'ι': 0.11299787738793857, 'ö': 0.024722187539018604, 'h': 0.006992133849419403, 'y': 0.009114745910850293, 'η': 0.11274815832188788, 'x': 0.008989886377824947, 'v': 0.008740167311774254, 'g': 0.006867274316394056, 'ŭ': 0.03958047196903484, 'n': 0.007741291047571482, 'æ': 0.02272443501061306, 'ό': 1.0, 'b': 0.006242976651267324, '2': 0.000249719066050693, 'é': 0.0230990136096891, 'ν': 0.11349731552003996, 'o': 0.007866150580596828, 'w': 0.0088650268447996, 'œ': 0.03633412411037583, 'j': 0.0072418529154700964, 'r': 0.008240729179672867, 'u': 0.008615307778748908}\n"
          ],
          "name": "stdout"
        }
      ]
    },
    {
      "cell_type": "markdown",
      "metadata": {
        "id": "uq32wugIVR3G",
        "colab_type": "text"
      },
      "source": [
        "# (1)(c)(iii)"
      ]
    },
    {
      "cell_type": "code",
      "metadata": {
        "id": "l0zqCjH4NuCd",
        "colab_type": "code",
        "colab": {}
      },
      "source": [
        "window_size=100"
      ],
      "execution_count": 0,
      "outputs": []
    },
    {
      "cell_type": "markdown",
      "metadata": {
        "id": "etlgHH6UVXdY",
        "colab_type": "text"
      },
      "source": [
        "# (1)(c)(iv)"
      ]
    },
    {
      "cell_type": "code",
      "metadata": {
        "id": "DvkmiGaAN4AS",
        "colab_type": "code",
        "outputId": "412638c1-3404-4481-c5f3-cfd2130d6659",
        "colab": {
          "base_uri": "https://localhost:8080/",
          "height": 187
        }
      },
      "source": [
        "d=[]\n",
        "lbl=[]\n",
        "\n",
        "for i in range(len(new_corpus) - (window_size-1)):\n",
        "    d.append(new_corpus[i: i+window_size-1])\n",
        "    lbl.append(new_corpus[i+window_size-1])\n",
        "\n",
        "for i in range(10):\n",
        "    print(len(d[i]),d[i],lbl[i])"
      ],
      "execution_count": 0,
      "outputs": [
        {
          "output_type": "stream",
          "text": [
            "99 theanalysisofmindlectureirecentcriticismsofconsciousnesstherearecertainoccurrenceswhichweareintheha b\n",
            "99 heanalysisofmindlectureirecentcriticismsofconsciousnesstherearecertainoccurrenceswhichweareinthehab i\n",
            "99 eanalysisofmindlectureirecentcriticismsofconsciousnesstherearecertainoccurrenceswhichweareinthehabi t\n",
            "99 analysisofmindlectureirecentcriticismsofconsciousnesstherearecertainoccurrenceswhichweareinthehabit o\n",
            "99 nalysisofmindlectureirecentcriticismsofconsciousnesstherearecertainoccurrenceswhichweareinthehabito f\n",
            "99 alysisofmindlectureirecentcriticismsofconsciousnesstherearecertainoccurrenceswhichweareinthehabitof c\n",
            "99 lysisofmindlectureirecentcriticismsofconsciousnesstherearecertainoccurrenceswhichweareinthehabitofc a\n",
            "99 ysisofmindlectureirecentcriticismsofconsciousnesstherearecertainoccurrenceswhichweareinthehabitofca l\n",
            "99 sisofmindlectureirecentcriticismsofconsciousnesstherearecertainoccurrenceswhichweareinthehabitofcal l\n",
            "99 isofmindlectureirecentcriticismsofconsciousnesstherearecertainoccurrenceswhichweareinthehabitofcall i\n"
          ],
          "name": "stdout"
        }
      ]
    },
    {
      "cell_type": "code",
      "metadata": {
        "id": "_-lKKpvIOl_z",
        "colab_type": "code",
        "colab": {}
      },
      "source": [
        "numerical=[]\n",
        "for x in d:\n",
        "    data_number = []\n",
        "    for i in x:\n",
        "        data_number.append(normalized_ascii_range[i])\n",
        "    numerical.append(data_number)"
      ],
      "execution_count": 0,
      "outputs": []
    },
    {
      "cell_type": "code",
      "metadata": {
        "id": "MUX9cSRNLgoc",
        "colab_type": "code",
        "outputId": "5d5125d7-2bee-4e21-ee4c-507835d8af87",
        "colab": {
          "base_uri": "https://localhost:8080/",
          "height": 80
        }
      },
      "source": [
        "import tensorflow as tf\n",
        "tf.test.gpu_device_name()"
      ],
      "execution_count": 0,
      "outputs": [
        {
          "output_type": "display_data",
          "data": {
            "text/html": [
              "<p style=\"color: red;\">\n",
              "The default version of TensorFlow in Colab will soon switch to TensorFlow 2.x.<br>\n",
              "We recommend you <a href=\"https://www.tensorflow.org/guide/migrate\" target=\"_blank\">upgrade</a> now \n",
              "or ensure your notebook will continue to use TensorFlow 1.x via the <code>%tensorflow_version 1.x</code> magic:\n",
              "<a href=\"https://colab.research.google.com/notebooks/tensorflow_version.ipynb\" target=\"_blank\">more info</a>.</p>\n"
            ],
            "text/plain": [
              "<IPython.core.display.HTML object>"
            ]
          },
          "metadata": {
            "tags": []
          }
        },
        {
          "output_type": "execute_result",
          "data": {
            "text/plain": [
              "'/device:GPU:0'"
            ]
          },
          "metadata": {
            "tags": []
          },
          "execution_count": 26
        }
      ]
    },
    {
      "cell_type": "code",
      "metadata": {
        "id": "hTluBx3lPKoD",
        "colab_type": "code",
        "outputId": "ea03cea3-d700-42cf-8052-d097581ace54",
        "colab": {
          "base_uri": "https://localhost:8080/",
          "height": 34
        }
      },
      "source": [
        "print(len(numerical))"
      ],
      "execution_count": 0,
      "outputs": [
        {
          "output_type": "stream",
          "text": [
            "3989395\n"
          ],
          "name": "stdout"
        }
      ]
    },
    {
      "cell_type": "code",
      "metadata": {
        "id": "o47I7SytPP-K",
        "colab_type": "code",
        "outputId": "8bfdb5b0-bae7-4e10-fd22-d40292ef6ccb",
        "colab": {
          "base_uri": "https://localhost:8080/",
          "height": 54
        }
      },
      "source": [
        "print(numerical[0])"
      ],
      "execution_count": 0,
      "outputs": [
        {
          "output_type": "stream",
          "text": [
            "[0.00849044824572356, 0.006992133849419403, 0.006617555250343364, 0.006118117118241978, 0.007741291047571482, 0.006118117118241978, 0.007491571981520789, 0.009114745910850293, 0.008365588712698215, 0.00711699338244475, 0.008365588712698215, 0.007866150580596828, 0.006742414783368711, 0.007616431514546136, 0.00711699338244475, 0.007741291047571482, 0.006492695717318017, 0.007491571981520789, 0.006617555250343364, 0.0063678361842926705, 0.00849044824572356, 0.008615307778748908, 0.008240729179672867, 0.006617555250343364, 0.00711699338244475, 0.008240729179672867, 0.006617555250343364, 0.0063678361842926705, 0.006617555250343364, 0.007741291047571482, 0.00849044824572356, 0.0063678361842926705, 0.008240729179672867, 0.00711699338244475, 0.00849044824572356, 0.00711699338244475, 0.0063678361842926705, 0.00711699338244475, 0.008365588712698215, 0.007616431514546136, 0.008365588712698215, 0.007866150580596828, 0.006742414783368711, 0.0063678361842926705, 0.007866150580596828, 0.007741291047571482, 0.008365588712698215, 0.0063678361842926705, 0.00711699338244475, 0.007866150580596828, 0.008615307778748908, 0.008365588712698215, 0.007741291047571482, 0.006617555250343364, 0.008365588712698215, 0.008365588712698215, 0.00849044824572356, 0.006992133849419403, 0.006617555250343364, 0.008240729179672867, 0.006617555250343364, 0.006118117118241978, 0.008240729179672867, 0.006617555250343364, 0.0063678361842926705, 0.006617555250343364, 0.008240729179672867, 0.00849044824572356, 0.006118117118241978, 0.00711699338244475, 0.007741291047571482, 0.007866150580596828, 0.0063678361842926705, 0.0063678361842926705, 0.008615307778748908, 0.008240729179672867, 0.008240729179672867, 0.006617555250343364, 0.007741291047571482, 0.0063678361842926705, 0.006617555250343364, 0.008365588712698215, 0.0088650268447996, 0.006992133849419403, 0.00711699338244475, 0.0063678361842926705, 0.006992133849419403, 0.0088650268447996, 0.006617555250343364, 0.006118117118241978, 0.008240729179672867, 0.006617555250343364, 0.00711699338244475, 0.007741291047571482, 0.00849044824572356, 0.006992133849419403, 0.006617555250343364, 0.006992133849419403, 0.006118117118241978]\n"
          ],
          "name": "stdout"
        }
      ]
    },
    {
      "cell_type": "markdown",
      "metadata": {
        "id": "bJJRHxCJVmyZ",
        "colab_type": "text"
      },
      "source": [
        "# (1)(c)(v)"
      ]
    },
    {
      "cell_type": "code",
      "metadata": {
        "id": "NlnAJif-PqJ5",
        "colab_type": "code",
        "outputId": "c068cf50-7ef8-4360-8634-9c9a6e2ee9ac",
        "colab": {
          "base_uri": "https://localhost:8080/",
          "height": 34
        }
      },
      "source": [
        "from sklearn import preprocessing\n",
        "le = preprocessing.LabelEncoder()\n",
        "le.fit(list(normalized_ascii_range.keys()))\n",
        "le_lbl = le.transform(lbl)\n",
        "print (le_lbl)\n"
      ],
      "execution_count": 0,
      "outputs": [
        {
          "output_type": "stream",
          "text": [
            "[12 19 30 ... 28  4 19]\n"
          ],
          "name": "stdout"
        }
      ]
    },
    {
      "cell_type": "code",
      "metadata": {
        "id": "7ty9bol9iEjW",
        "colab_type": "code",
        "outputId": "d06cbe92-a9e6-4fd4-adb8-34a7c3782eae",
        "colab": {
          "base_uri": "https://localhost:8080/",
          "height": 224
        }
      },
      "source": [
        "ohe = preprocessing.OneHotEncoder()\n",
        "print (le_lbl.reshape(-1, 1))\n",
        "ohe.fit(le_lbl.reshape(-1, 1))\n",
        "ohe_lbl = ohe.transform(le_lbl.reshape(-1, 1)).toarray()"
      ],
      "execution_count": 0,
      "outputs": [
        {
          "output_type": "stream",
          "text": [
            "[[12]\n",
            " [19]\n",
            " [30]\n",
            " ...\n",
            " [28]\n",
            " [ 4]\n",
            " [19]]\n"
          ],
          "name": "stdout"
        },
        {
          "output_type": "stream",
          "text": [
            "/usr/local/lib/python3.6/dist-packages/sklearn/preprocessing/_encoders.py:415: FutureWarning: The handling of integer data will change in version 0.22. Currently, the categories are determined based on the range [0, max(values)], while in the future they will be determined based on the unique values.\n",
            "If you want the future behaviour and silence this warning, you can specify \"categories='auto'\".\n",
            "In case you used a LabelEncoder before this OneHotEncoder to convert the categories to integers, then you can now use the OneHotEncoder directly.\n",
            "  warnings.warn(msg, FutureWarning)\n"
          ],
          "name": "stderr"
        }
      ]
    },
    {
      "cell_type": "code",
      "metadata": {
        "id": "8vQRkhXmpu6y",
        "colab_type": "code",
        "outputId": "213b39cd-3dbe-4fae-ba16-301ec1433fab",
        "colab": {
          "base_uri": "https://localhost:8080/",
          "height": 85
        }
      },
      "source": [
        "print(len(ohe_lbl))\n",
        "print(ohe_lbl[0])"
      ],
      "execution_count": 0,
      "outputs": [
        {
          "output_type": "stream",
          "text": [
            "3989395\n",
            "[0. 0. 0. 0. 0. 0. 0. 0. 0. 0. 0. 0. 1. 0. 0. 0. 0. 0. 0. 0. 0. 0. 0. 0.\n",
            " 0. 0. 0. 0. 0. 0. 0. 0. 0. 0. 0. 0. 0. 0. 0. 0. 0. 0. 0. 0. 0. 0. 0. 0.\n",
            " 0. 0. 0. 0. 0. 0. 0. 0. 0. 0. 0. 0. 0. 0. 0. 0. 0. 0. 0. 0. 0.]\n"
          ],
          "name": "stdout"
        }
      ]
    },
    {
      "cell_type": "markdown",
      "metadata": {
        "id": "Ml1fra1gXors",
        "colab_type": "text"
      },
      "source": [
        "# (1) (c) (vi) , (1) (c)(vii) & (1) (c)(viii)"
      ]
    },
    {
      "cell_type": "code",
      "metadata": {
        "id": "6EMKnss-qKN8",
        "colab_type": "code",
        "colab": {}
      },
      "source": [
        "batch_size = len(numerical)\n",
        "tsteps = window_size-1 \n",
        "dim = 1\n",
        "num_classes = len(normalized_ascii_range.keys())"
      ],
      "execution_count": 0,
      "outputs": []
    },
    {
      "cell_type": "code",
      "metadata": {
        "id": "EGYo9XkWqxd-",
        "colab_type": "code",
        "colab": {}
      },
      "source": [
        "import numpy as np\n",
        "numerical = np.reshape(numerical, (batch_size,tsteps,dim))"
      ],
      "execution_count": 0,
      "outputs": []
    },
    {
      "cell_type": "code",
      "metadata": {
        "id": "1f2nNZU_bOpU",
        "colab_type": "code",
        "colab": {}
      },
      "source": [
        "import warnings\n",
        "warnings.filterwarnings(\"ignore\")"
      ],
      "execution_count": 0,
      "outputs": []
    },
    {
      "cell_type": "code",
      "metadata": {
        "id": "jgz1E-Ul7Tem",
        "colab_type": "code",
        "outputId": "095726fe-7a1a-40a5-846a-388065f6f5f3",
        "colab": {
          "base_uri": "https://localhost:8080/",
          "height": 224
        }
      },
      "source": [
        "import tensorflow as tf\n",
        "import keras\n",
        "from keras.models import Sequential\n",
        "from keras.layers import Dense, LSTM\n",
        "from keras.callbacks import ModelCheckpoint\n",
        "import warnings\n",
        "warnings.filterwarnings(\"ignore\")\n",
        "\n",
        "model = Sequential()\n",
        "model.add(LSTM(num_classes, input_shape=(tsteps,dim), activation='sigmoid'))\n",
        "model.add(Dense(num_classes, activation='softmax'))\n",
        "optimizer=tf.train.AdamOptimizer(learning_rate=0.01)\n",
        "model.compile(loss='categorical_crossentropy', optimizer=optimizer)"
      ],
      "execution_count": 0,
      "outputs": [
        {
          "output_type": "stream",
          "text": [
            "WARNING:tensorflow:From /usr/local/lib/python3.6/dist-packages/keras/backend/tensorflow_backend.py:66: The name tf.get_default_graph is deprecated. Please use tf.compat.v1.get_default_graph instead.\n",
            "\n",
            "WARNING:tensorflow:From /usr/local/lib/python3.6/dist-packages/keras/backend/tensorflow_backend.py:541: The name tf.placeholder is deprecated. Please use tf.compat.v1.placeholder instead.\n",
            "\n",
            "WARNING:tensorflow:From /usr/local/lib/python3.6/dist-packages/keras/backend/tensorflow_backend.py:4432: The name tf.random_uniform is deprecated. Please use tf.random.uniform instead.\n",
            "\n"
          ],
          "name": "stdout"
        },
        {
          "output_type": "stream",
          "text": [
            "Using TensorFlow backend.\n"
          ],
          "name": "stderr"
        },
        {
          "output_type": "stream",
          "text": [
            "WARNING:tensorflow:From /usr/local/lib/python3.6/dist-packages/keras/optimizers.py:793: The name tf.train.Optimizer is deprecated. Please use tf.compat.v1.train.Optimizer instead.\n",
            "\n",
            "WARNING:tensorflow:From /usr/local/lib/python3.6/dist-packages/keras/backend/tensorflow_backend.py:3576: The name tf.log is deprecated. Please use tf.math.log instead.\n",
            "\n"
          ],
          "name": "stdout"
        }
      ]
    },
    {
      "cell_type": "markdown",
      "metadata": {
        "id": "novxUseVX_KR",
        "colab_type": "text"
      },
      "source": [
        "# (1)(c)(ix) ,(1)(c)(x)"
      ]
    },
    {
      "cell_type": "code",
      "metadata": {
        "id": "72ehZssB8t42",
        "colab_type": "code",
        "colab": {}
      },
      "source": [
        "save_model = ModelCheckpoint('LSTM_model.h5', verbose = 1, save_best_only = True,save_weights_only = False, period = 1)"
      ],
      "execution_count": 0,
      "outputs": []
    },
    {
      "cell_type": "code",
      "metadata": {
        "id": "qlXNdT149OqX",
        "colab_type": "code",
        "outputId": "16cacfe0-9c5e-459f-a63b-15fe96b36900",
        "colab": {
          "base_uri": "https://localhost:8080/",
          "height": 374
        }
      },
      "source": [
        "model.fit(numerical,ohe_lbl, batch_size=512, epochs=10, verbose=1, callbacks=[save_model])"
      ],
      "execution_count": 0,
      "outputs": [
        {
          "output_type": "stream",
          "text": [
            "Epoch 1/10\n",
            "3989395/3989395 [==============================] - 1585s 397us/step - loss: 2.8795\n",
            "Epoch 2/10\n",
            "3989395/3989395 [==============================] - 1564s 392us/step - loss: 2.8374\n",
            "Epoch 3/10\n",
            "3989395/3989395 [==============================] - 1554s 390us/step - loss: 2.8270\n",
            "Epoch 4/10\n",
            "3989395/3989395 [==============================] - 1523s 382us/step - loss: 2.8204\n",
            "Epoch 5/10\n",
            "3989395/3989395 [==============================] - 1551s 389us/step - loss: 2.8171\n",
            "Epoch 6/10\n",
            "3989395/3989395 [==============================] - 1562s 392us/step - loss: 2.8139\n",
            "Epoch 7/10\n",
            "3989395/3989395 [==============================] - 1536s 385us/step - loss: 2.8116\n",
            "Epoch 8/10\n",
            "3989395/3989395 [==============================] - 1518s 381us/step - loss: 2.8090\n",
            "Epoch 9/10\n",
            "3989395/3989395 [==============================] - 1529s 383us/step - loss: 2.8073\n",
            "Epoch 10/10\n",
            "3989395/3989395 [==============================] - 1533s 384us/step - loss: 2.8501\n"
          ],
          "name": "stdout"
        },
        {
          "output_type": "execute_result",
          "data": {
            "text/plain": [
              "<keras.callbacks.History at 0x7f175c0f9da0>"
            ]
          },
          "metadata": {
            "tags": []
          },
          "execution_count": 38
        }
      ]
    },
    {
      "cell_type": "markdown",
      "metadata": {
        "id": "A96SdPddYR2i",
        "colab_type": "text"
      },
      "source": [
        "# (1)(c)(xi)"
      ]
    },
    {
      "cell_type": "code",
      "metadata": {
        "id": "v14hiSOGBC6Q",
        "colab_type": "code",
        "outputId": "6a22ab99-d527-4600-e7cb-aabe2e22739e",
        "colab": {
          "base_uri": "https://localhost:8080/",
          "height": 34
        }
      },
      "source": [
        "test_data=\"There are those who take mental phenomena naively, just as they would physical phenomena. This school of psychologists tends not to emphasize the object.\"\n",
        "\n",
        "test_data = test_data.lower()\n",
        "test_data = re.sub(r'\\W+','',test_data)\n",
        "print (len(test_data))"
      ],
      "execution_count": 0,
      "outputs": [
        {
          "output_type": "stream",
          "text": [
            "127\n"
          ],
          "name": "stdout"
        }
      ]
    },
    {
      "cell_type": "code",
      "metadata": {
        "id": "mt9aldeNET3Z",
        "colab_type": "code",
        "outputId": "85f74e52-ae5b-4cf1-df2d-fa14f77ee98e",
        "colab": {
          "base_uri": "https://localhost:8080/",
          "height": 51
        }
      },
      "source": [
        "data_ini = []\n",
        "\n",
        "for i in range(len(test_data) - (window_size - 1) + 1):\n",
        "    t = []\n",
        "    for char in test_data[i: i + window_size-1]:\n",
        "        t.append(normalized_ascii_range[char])\n",
        "    data_ini.append(t)\n",
        "\n",
        "generated_str = test_data[i:i+window_size-1]\n",
        "print (generated_str)\n",
        "print (len(generated_str))"
      ],
      "execution_count": 0,
      "outputs": [
        {
          "output_type": "stream",
          "text": [
            "enomenanaivelyjustastheywouldphysicalphenomenathisschoolofpsychologiststendsnottoemphasizetheobject\n",
            "99\n"
          ],
          "name": "stdout"
        }
      ]
    },
    {
      "cell_type": "code",
      "metadata": {
        "id": "l10cjd-CnP3F",
        "colab_type": "code",
        "outputId": "9883291f-5480-461f-977f-3d4997689041",
        "colab": {
          "base_uri": "https://localhost:8080/",
          "height": 68
        }
      },
      "source": [
        "data_ini = np.reshape(data_ini,(len(data_ini),window_size-1,1))\n",
        "\n",
        "preds = model.predict(data_ini)\n",
        "generated_char_ind = np.argmax(preds[-1]) \n",
        "generated_char = le.inverse_transform([generated_char_ind])\n",
        "print (generated_char)\n",
        "generated_str = generated_str+generated_char[0]\n",
        "print (generated_str)\n",
        "print (len(generated_str))"
      ],
      "execution_count": 0,
      "outputs": [
        {
          "output_type": "stream",
          "text": [
            "['e']\n",
            "enomenanaivelyjustastheywouldphysicalphenomenathisschoolofpsychologiststendsnottoemphasizetheobjecte\n",
            "100\n"
          ],
          "name": "stdout"
        }
      ]
    },
    {
      "cell_type": "code",
      "metadata": {
        "id": "IZESbrSSn6bU",
        "colab_type": "code",
        "colab": {}
      },
      "source": [
        "for i in range(0,1000,1):\n",
        "    inp_str = generated_str[-(window_size-1):] \n",
        "    inp_data = []\n",
        "    for char in inp_str:\n",
        "        inp_data.append(normalized_ascii_range[char]) \n",
        "    inp_data = np.reshape(inp_data,(1,window_size-1,1)) \n",
        "    preds = model.predict(inp_data)\n",
        "    generated_char_ind = np.argmax(preds[-1])\n",
        "    generated_char = le.inverse_transform([generated_char_ind])\n",
        "    generated_str = generated_str+generated_char[0]"
      ],
      "execution_count": 0,
      "outputs": []
    },
    {
      "cell_type": "code",
      "metadata": {
        "id": "YRGRWNP9or2b",
        "colab_type": "code",
        "outputId": "93d529a2-1e57-4374-83da-4398b5ed7b18",
        "colab": {
          "base_uri": "https://localhost:8080/",
          "height": 54
        }
      },
      "source": [
        "print (generated_str[-1000:])"
      ],
      "execution_count": 0,
      "outputs": [
        {
          "output_type": "stream",
          "text": [
            "eteeteeteeteeteeteeteeteeteeteeteeteeteeteeteeteeteeteeteeteeteeteeteeteeteeteeteeteeteeteeteeteeteeteeteeteeteeteeteeteeteeteeteeteeteeteeteeteeteeteeteeteeteeteeteeteeteeteeteeteeteeteeteeteeteeteeteeteeteeteeteeteeteeteeteeteeteeteeteeteeteeteeteeteeteeteeteeteeteeteeteeteeteeteeteeteeteeteeteeteeteeteeteeteeteeteeteeteeteeteeteeteeteeteeteeteeteeteeteeteeteeteeteeteeteeteeteeteeteeteeteeteeteeteeteeteeteeteeteeteeteeteeteeteeteeteeteeteeteeteeteeteeteeteeteeteeteeteeteeteeteeteeteeteeteeteeteeteeteeteeteeteeteeteeteeteeteeteeteeteeteeteeteeteeteeteeteeteeteeteeteeteeteeteeteeteeteeteeteeteeteeteeteeteeteeteeteeteeteeteeteeteeteeteeteeteeteeteeteeteeteeteeteeteeteeteeteeteeteeteeteeteeteeteeteeteeteeteeteeteeteeteeteeteeteeteeteeteeteeteeteeteeteeteeteeteeteeteeteeteeteeteeteeteeteeteeteeteeteeteeteeteeteeteeteeteeteeteeteeteeteeteeteeteeteeteeteeteeteeteeteeteeteeteeteeteeteeteeteeteeteeteeteeteeteeteeteeteeteeteeteeteeteeteeteeteeteeteeteeteeteeteeteeteeteeteeteeteeteeteeteeteetee\n"
          ],
          "name": "stdout"
        }
      ]
    },
    {
      "cell_type": "markdown",
      "metadata": {
        "id": "4Hk_VRY3Zme-",
        "colab_type": "text"
      },
      "source": [
        "# **Deep CNNs for image colorization**"
      ]
    },
    {
      "cell_type": "markdown",
      "metadata": {
        "id": "06-1av4MYsxj",
        "colab_type": "text"
      },
      "source": [
        "# (2)(a) Downloaded the CIFAR10 dataset"
      ]
    },
    {
      "cell_type": "code",
      "metadata": {
        "id": "xBygXXcqtpfu",
        "colab_type": "code",
        "colab": {}
      },
      "source": [
        "from tflearn.datasets import cifar10"
      ],
      "execution_count": 0,
      "outputs": []
    },
    {
      "cell_type": "code",
      "metadata": {
        "id": "Gx_v46tJt2G1",
        "colab_type": "code",
        "colab": {}
      },
      "source": [
        "import torch\n",
        "import numpy as np"
      ],
      "execution_count": 0,
      "outputs": []
    },
    {
      "cell_type": "code",
      "metadata": {
        "id": "tZaXbctbtwHE",
        "colab_type": "code",
        "colab": {}
      },
      "source": [
        "(train_x, train_y), (test_x, test_y) = cifar10.load_data()"
      ],
      "execution_count": 0,
      "outputs": []
    },
    {
      "cell_type": "code",
      "metadata": {
        "id": "QLcyxHuMuLg1",
        "colab_type": "code",
        "outputId": "95cef898-c12e-4ef6-a209-27a4b9ec59d9",
        "colab": {
          "base_uri": "https://localhost:8080/",
          "height": 34
        }
      },
      "source": [
        "device = torch.device(\"cuda:0\" if torch.cuda.is_available() else \"cpu\")\n",
        "print(device)"
      ],
      "execution_count": 0,
      "outputs": [
        {
          "output_type": "stream",
          "text": [
            "cuda:0\n"
          ],
          "name": "stdout"
        }
      ]
    },
    {
      "cell_type": "code",
      "metadata": {
        "id": "r4iddk9XuRPL",
        "colab_type": "code",
        "colab": {}
      },
      "source": [
        "from tflearn.data_utils import  to_categorical\n",
        "\n",
        "train_y = to_categorical(train_y, nb_classes=10)\n",
        "train_y = train_y[:,2]\n",
        "test_y = to_categorical(test_y, nb_classes=10)\n",
        "test_y = test_y[:,2]\n",
        "\n"
      ],
      "execution_count": 0,
      "outputs": []
    },
    {
      "cell_type": "markdown",
      "metadata": {
        "id": "Jkm1dizTY-1h",
        "colab_type": "text"
      },
      "source": [
        "# (2)(b) Extract the bird class alone from the CIFAR10 dataset"
      ]
    },
    {
      "cell_type": "code",
      "metadata": {
        "id": "5P3ZoC4vu4z2",
        "colab_type": "code",
        "outputId": "9619dcc9-9eee-47b1-9030-c0f161071d4f",
        "colab": {
          "base_uri": "https://localhost:8080/",
          "height": 85
        }
      },
      "source": [
        "print(train_x.shape)\n",
        "print(train_y.shape)\n",
        "print(test_x.shape)\n",
        "print(test_y.shape)"
      ],
      "execution_count": 0,
      "outputs": [
        {
          "output_type": "stream",
          "text": [
            "(50000, 32, 32, 3)\n",
            "(50000,)\n",
            "(10000, 32, 32, 3)\n",
            "(10000,)\n"
          ],
          "name": "stdout"
        }
      ]
    },
    {
      "cell_type": "code",
      "metadata": {
        "id": "h8Wfl3Ko1UZW",
        "colab_type": "code",
        "colab": {}
      },
      "source": [
        "train_x = train_x[np.argwhere(train_y==1).ravel()]\n",
        "test_x = test_x[np.argwhere(test_y==1).ravel()]"
      ],
      "execution_count": 0,
      "outputs": []
    },
    {
      "cell_type": "code",
      "metadata": {
        "id": "0VT0Tk8kwipU",
        "colab_type": "code",
        "outputId": "35938610-7578-49ae-b3d7-13c5d5d16192",
        "colab": {
          "base_uri": "https://localhost:8080/",
          "height": 1000
        }
      },
      "source": [
        "import matplotlib.pyplot as plt\n",
        "import numpy as np\n",
        "\n",
        "for i in range(0,5):\n",
        "  plt.imshow(train_x[i])\n",
        "  plt.show()"
      ],
      "execution_count": 0,
      "outputs": [
        {
          "output_type": "display_data",
          "data": {
            "image/png": "[encoded data removed]",
            "text/plain": [
              "<Figure size 432x288 with 1 Axes>"
            ]
          },
          "metadata": {
            "tags": []
          }
        },
        {
          "output_type": "display_data",
          "data": {
            "image/png": "[encoded data removed]",
            "text/plain": [
              "<Figure size 432x288 with 1 Axes>"
            ]
          },
          "metadata": {
            "tags": []
          }
        },
        {
          "output_type": "display_data",
          "data": {
            "image/png": "[encoded data removed]",
            "text/plain": [
              "<Figure size 432x288 with 1 Axes>"
            ]
          },
          "metadata": {
            "tags": []
          }
        },
        {
          "output_type": "display_data",
          "data": {
            "image/png": "[encoded data removed]",
            "text/plain": [
              "<Figure size 432x288 with 1 Axes>"
            ]
          },
          "metadata": {
            "tags": []
          }
        },
        {
          "output_type": "display_data",
          "data": {
            "image/png": "[encoded data removed]",
            "text/plain": [
              "<Figure size 432x288 with 1 Axes>"
            ]
          },
          "metadata": {
            "tags": []
          }
        }
      ]
    },
    {
      "cell_type": "markdown",
      "metadata": {
        "id": "5vI7xTw2Z2r8",
        "colab_type": "text"
      },
      "source": [
        "# (2)(c) Choosing the pixels for training set and test set"
      ]
    },
    {
      "cell_type": "code",
      "metadata": {
        "id": "-ZocVZXk5yS7",
        "colab_type": "code",
        "colab": {}
      },
      "source": [
        "train_x = train_x.reshape(5120000,3)    \n",
        "test_x = test_x.reshape(1024000,3) "
      ],
      "execution_count": 0,
      "outputs": []
    },
    {
      "cell_type": "markdown",
      "metadata": {
        "id": "OsmihXZ7aL7P",
        "colab_type": "text"
      },
      "source": [
        "# (2)(d) K-means clustering"
      ]
    },
    {
      "cell_type": "code",
      "metadata": {
        "id": "PJXA2Klh5CFR",
        "colab_type": "code",
        "colab": {}
      },
      "source": [
        "from sklearn.cluster import KMeans\n",
        "\n"
      ],
      "execution_count": 0,
      "outputs": []
    },
    {
      "cell_type": "code",
      "metadata": {
        "id": "Uq1UsBUf5Kmr",
        "colab_type": "code",
        "colab": {}
      },
      "source": [
        "cls = KMeans(n_clusters=4,max_iter=1000,random_state=0)\n",
        "cls.fit(train_x)\n",
        "center_clus = cls.cluster_centers_"
      ],
      "execution_count": 0,
      "outputs": []
    },
    {
      "cell_type": "code",
      "metadata": {
        "id": "Xg7EeDd66DC6",
        "colab_type": "code",
        "outputId": "9346d897-4b8f-4415-d165-03677ee51ea8",
        "colab": {
          "base_uri": "https://localhost:8080/",
          "height": 85
        }
      },
      "source": [
        "print(center_clus)"
      ],
      "execution_count": 0,
      "outputs": [
        {
          "output_type": "stream",
          "text": [
            "[[0.42295172 0.42187529 0.32134431]\n",
            " [0.80645087 0.82780156 0.82614268]\n",
            " [0.18994147 0.19343499 0.14952672]\n",
            " [0.61097739 0.60609819 0.5250555 ]]\n"
          ],
          "name": "stdout"
        }
      ]
    },
    {
      "cell_type": "code",
      "metadata": {
        "id": "-TH7Cbj-mm31",
        "colab_type": "code",
        "colab": {}
      },
      "source": [
        "color_assignment_train = cls.predict(train_x) \n",
        "color_train = list()\n",
        "cnt=0\n",
        "for px in train_x:\n",
        "    color_train.append(center_clus[color_assignment_train[cnt]])\n",
        "    cnt=cnt+1"
      ],
      "execution_count": 0,
      "outputs": []
    },
    {
      "cell_type": "code",
      "metadata": {
        "id": "bJNCPnehm7eX",
        "colab_type": "code",
        "colab": {}
      },
      "source": [
        "cls_test = KMeans(n_clusters=4,max_iter=1000,random_state=0)\n",
        "test_x_color = cls_test.fit_transform(test_x)\n",
        "center_clus_test = cls.cluster_centers_"
      ],
      "execution_count": 0,
      "outputs": []
    },
    {
      "cell_type": "code",
      "metadata": {
        "id": "yzDbzFAP7aTf",
        "colab_type": "code",
        "colab": {}
      },
      "source": [
        "color_assignment_test = cls.predict(test_x) \n",
        "color_test = list()\n",
        "cnt=0\n",
        "for px in test_x:\n",
        "    color_test.append(center_clus_test[color_assignment_test[cnt]])\n",
        "    cnt=cnt+1"
      ],
      "execution_count": 0,
      "outputs": []
    },
    {
      "cell_type": "code",
      "metadata": {
        "id": "daL9SDMCmMYf",
        "colab_type": "code",
        "colab": {}
      },
      "source": [
        "color_grp_train = np.reshape(color_train,(5000,32,32,3)) \n",
        "color_grp_test = np.reshape(color_test,(1000,32,32,3))"
      ],
      "execution_count": 0,
      "outputs": []
    },
    {
      "cell_type": "code",
      "metadata": {
        "id": "xXJp7m1EoerW",
        "colab_type": "code",
        "outputId": "01160ab1-042d-4258-99d3-0b87ed92cfcd",
        "colab": {
          "base_uri": "https://localhost:8080/",
          "height": 1000
        }
      },
      "source": [
        "import matplotlib.pyplot as plt\n",
        "import numpy as np\n",
        "\n",
        "for i in range(0,5):\n",
        "  plt.imshow(color_grp_train[i])\n",
        "  plt.show()"
      ],
      "execution_count": 0,
      "outputs": [
        {
          "output_type": "display_data",
          "data": {
            "image/png": "[encoded data removed]",
            "text/plain": [
              "<Figure size 432x288 with 1 Axes>"
            ]
          },
          "metadata": {
            "tags": []
          }
        },
        {
          "output_type": "display_data",
          "data": {
            "image/png": "[encoded data removed]",
            "text/plain": [
              "<Figure size 432x288 with 1 Axes>"
            ]
          },
          "metadata": {
            "tags": []
          }
        },
        {
          "output_type": "display_data",
          "data": {
            "image/png": "[encoded data removed]",
            "text/plain": [
              "<Figure size 432x288 with 1 Axes>"
            ]
          },
          "metadata": {
            "tags": []
          }
        },
        {
          "output_type": "display_data",
          "data": {
            "image/png": "[encoded data removed]",
            "text/plain": [
              "<Figure size 432x288 with 1 Axes>"
            ]
          },
          "metadata": {
            "tags": []
          }
        },
        {
          "output_type": "display_data",
          "data": {
            "image/png": "[encoded data removed]",
            "text/plain": [
              "<Figure size 432x288 with 1 Axes>"
            ]
          },
          "metadata": {
            "tags": []
          }
        }
      ]
    },
    {
      "cell_type": "code",
      "metadata": {
        "colab_type": "code",
        "id": "Gqbx16S2t0Cc",
        "colab": {}
      },
      "source": [
        "train_x_gray = np.reshape(train_x,(5000,32,32,3)) \n",
        "test_x_gray = np.reshape(test_x,(1000,32,32,3))"
      ],
      "execution_count": 0,
      "outputs": []
    },
    {
      "cell_type": "markdown",
      "metadata": {
        "id": "-yhDPBzBaVU4",
        "colab_type": "text"
      },
      "source": [
        "# (2)(e) RGB image to grayscale image conversion"
      ]
    },
    {
      "cell_type": "code",
      "metadata": {
        "id": "QqEibwHpqrEi",
        "colab_type": "code",
        "colab": {}
      },
      "source": [
        "from skimage.color import rgb2gray\n",
        "\n",
        "train_x_gray = rgb2gray(train_x_gray)\n",
        "test_x_gray = rgb2gray(test_x_gray)\n",
        "\n"
      ],
      "execution_count": 0,
      "outputs": []
    },
    {
      "cell_type": "code",
      "metadata": {
        "id": "K4yo1LvIrC2j",
        "colab_type": "code",
        "outputId": "ff30a4b4-32b1-467f-a3bb-370b7cda29a8",
        "colab": {
          "base_uri": "https://localhost:8080/",
          "height": 1000
        }
      },
      "source": [
        "import matplotlib.pyplot as plt\n",
        "import numpy as np\n",
        "\n",
        "for i in range(0,5):\n",
        "  plt.imshow(train_x_gray[i],cmap='gray')\n",
        "  plt.show()"
      ],
      "execution_count": 0,
      "outputs": [
        {
          "output_type": "display_data",
          "data": {
            "image/png": "[encoded data removed]",
            "text/plain": [
              "<Figure size 432x288 with 1 Axes>"
            ]
          },
          "metadata": {
            "tags": []
          }
        },
        {
          "output_type": "display_data",
          "data": {
            "image/png": "[encoded data removed]",
            "text/plain": [
              "<Figure size 432x288 with 1 Axes>"
            ]
          },
          "metadata": {
            "tags": []
          }
        },
        {
          "output_type": "display_data",
          "data": {
            "image/png": "[encoded data removed]",
            "text/plain": [
              "<Figure size 432x288 with 1 Axes>"
            ]
          },
          "metadata": {
            "tags": []
          }
        },
        {
          "output_type": "display_data",
          "data": {
            "image/png": "[encoded data removed]",
            "text/plain": [
              "<Figure size 432x288 with 1 Axes>"
            ]
          },
          "metadata": {
            "tags": []
          }
        },
        {
          "output_type": "display_data",
          "data": {
            "image/png": "[encoded data removed]",
            "text/plain": [
              "<Figure size 432x288 with 1 Axes>"
            ]
          },
          "metadata": {
            "tags": []
          }
        }
      ]
    },
    {
      "cell_type": "markdown",
      "metadata": {
        "id": "b4AxBdKDaide",
        "colab_type": "text"
      },
      "source": [
        "# (2)(f) Built the convolutional neural network"
      ]
    },
    {
      "cell_type": "code",
      "metadata": {
        "id": "56IaiXSvwTCZ",
        "colab_type": "code",
        "colab": {}
      },
      "source": [
        "import keras\n",
        "from keras.models import Sequential\n",
        "from keras.layers import Dense, Flatten\n",
        "from keras.layers import Conv2D, MaxPooling2D, Reshape"
      ],
      "execution_count": 0,
      "outputs": []
    },
    {
      "cell_type": "code",
      "metadata": {
        "id": "kobwLFbo23uZ",
        "colab_type": "code",
        "outputId": "8217b252-1915-47fe-e29f-39f0b6833886",
        "colab": {
          "base_uri": "https://localhost:8080/",
          "height": 391
        }
      },
      "source": [
        "mdl= Sequential()\n",
        "mdl.add(Conv2D(16,strides=1, kernel_size=(5,5), input_shape=(32,32,1), padding='same', activation='relu'))\n",
        "mdl.add(MaxPooling2D(pool_size=(2,2),padding='same'))\n",
        "mdl.add(Conv2D(32,strides=1, kernel_size=(5, 5), padding='same', activation='relu'))\n",
        "mdl.add(MaxPooling2D(pool_size=(2,2),padding='same'))\n",
        "mdl.add(Flatten())\n",
        "mdl.add(Dense((2048),activation='relu'))\n",
        "mdl.add(Dense((4096),activation='softmax'))\n",
        "mdl.summary()\n",
        "SGD = keras.optimizers.SGD(lr=0.001)\n",
        "mdl.compile(loss='categorical_crossentropy', optimizer=SGD)"
      ],
      "execution_count": 0,
      "outputs": [
        {
          "output_type": "stream",
          "text": [
            "Model: \"sequential_2\"\n",
            "_________________________________________________________________\n",
            "Layer (type)                 Output Shape              Param #   \n",
            "=================================================================\n",
            "conv2d_3 (Conv2D)            (None, 32, 32, 16)        416       \n",
            "_________________________________________________________________\n",
            "max_pooling2d_3 (MaxPooling2 (None, 16, 16, 16)        0         \n",
            "_________________________________________________________________\n",
            "conv2d_4 (Conv2D)            (None, 16, 16, 32)        12832     \n",
            "_________________________________________________________________\n",
            "max_pooling2d_4 (MaxPooling2 (None, 8, 8, 32)          0         \n",
            "_________________________________________________________________\n",
            "flatten_2 (Flatten)          (None, 2048)              0         \n",
            "_________________________________________________________________\n",
            "dense_3 (Dense)              (None, 2048)              4196352   \n",
            "_________________________________________________________________\n",
            "dense_4 (Dense)              (None, 4096)              8392704   \n",
            "=================================================================\n",
            "Total params: 12,602,304\n",
            "Trainable params: 12,602,304\n",
            "Non-trainable params: 0\n",
            "_________________________________________________________________\n"
          ],
          "name": "stdout"
        }
      ]
    },
    {
      "cell_type": "code",
      "metadata": {
        "id": "GMaMmHGgzi30",
        "colab_type": "code",
        "outputId": "3727571e-ef9c-49ca-d84f-4cbce97971e9",
        "colab": {
          "base_uri": "https://localhost:8080/",
          "height": 51
        }
      },
      "source": [
        "print(train_x_gray.shape)\n",
        "print(test_x_gray.shape)"
      ],
      "execution_count": 0,
      "outputs": [
        {
          "output_type": "stream",
          "text": [
            "(5000, 32, 32)\n",
            "(1000, 32, 32)\n"
          ],
          "name": "stdout"
        }
      ]
    },
    {
      "cell_type": "code",
      "metadata": {
        "id": "2tQCAomh4Yz6",
        "colab_type": "code",
        "colab": {}
      },
      "source": [
        "lst1=list(np.unique(color_assignment_train))"
      ],
      "execution_count": 0,
      "outputs": []
    },
    {
      "cell_type": "code",
      "metadata": {
        "colab_type": "code",
        "id": "EMcQgwdd1KhN",
        "colab": {}
      },
      "source": [
        "from sklearn.preprocessing import OneHotEncoder\n",
        "\n",
        "train_x_cluster_encoder = list()\n",
        "enc = OneHotEncoder(handle_unknown='ignore')\n",
        "X = [[0],[1],[2],[3]]\n",
        "ohc=enc.fit_transform(X).toarray()\n"
      ],
      "execution_count": 0,
      "outputs": []
    },
    {
      "cell_type": "code",
      "metadata": {
        "id": "O-DbV7wa4k2c",
        "colab_type": "code",
        "outputId": "fc57afcc-2604-4f93-f5f3-cff144fc7570",
        "colab": {
          "base_uri": "https://localhost:8080/",
          "height": 85
        }
      },
      "source": [
        "ohc"
      ],
      "execution_count": 0,
      "outputs": [
        {
          "output_type": "execute_result",
          "data": {
            "text/plain": [
              "array([[1., 0., 0., 0.],\n",
              "       [0., 1., 0., 0.],\n",
              "       [0., 0., 1., 0.],\n",
              "       [0., 0., 0., 1.]])"
            ]
          },
          "metadata": {
            "tags": []
          },
          "execution_count": 183
        }
      ]
    },
    {
      "cell_type": "code",
      "metadata": {
        "id": "o8JHu1iF4AkZ",
        "colab_type": "code",
        "outputId": "d61d4866-e16b-4ce5-fd32-6ef83565cd96",
        "colab": {
          "base_uri": "https://localhost:8080/",
          "height": 51
        }
      },
      "source": [
        "cnt = 0\n",
        "for px in train_x:\n",
        "    train_x_cluster_encoder.append(ohc[color_assignment_train[cnt]])\n",
        "    cnt= cnt+1\n",
        "print (np.array(train_x_cluster_encoder).shape)\n",
        "train_x_cluster_encoder = np.reshape(train_x_cluster_encoder,(5000,4096))\n",
        "print (train_x_cluster_encoder.shape)"
      ],
      "execution_count": 0,
      "outputs": [
        {
          "output_type": "stream",
          "text": [
            "(5120000, 4)\n",
            "(5000, 4096)\n"
          ],
          "name": "stdout"
        }
      ]
    },
    {
      "cell_type": "code",
      "metadata": {
        "id": "heZW4nHP678U",
        "colab_type": "code",
        "outputId": "7a3e9dfa-6248-4c9c-b292-63ea52862c10",
        "colab": {
          "base_uri": "https://localhost:8080/",
          "height": 51
        }
      },
      "source": [
        "test_x_cluster_encoder = list()\n",
        "cnt = 0\n",
        "for px in test_x:\n",
        "    test_x_cluster_encoder.append(ohc[color_assignment_test[cnt]])\n",
        "    cnt= cnt+1\n",
        "print (np.array(test_x_cluster_encoder).shape)\n",
        "test_x_cluster_encoder = np.reshape(test_x_cluster_encoder,(1000,4096))\n",
        "print (test_x_cluster_encoder.shape)"
      ],
      "execution_count": 0,
      "outputs": [
        {
          "output_type": "stream",
          "text": [
            "(1024000, 4)\n",
            "(1000, 4096)\n"
          ],
          "name": "stdout"
        }
      ]
    },
    {
      "cell_type": "code",
      "metadata": {
        "id": "oxxe_AXg8yNU",
        "colab_type": "code",
        "colab": {}
      },
      "source": [
        "train_x_gray = np.reshape(train_x_gray,(5000,32,32,1))\n",
        "test_x_gray = np.reshape(test_x_gray,(1000,32,32,1))"
      ],
      "execution_count": 0,
      "outputs": []
    },
    {
      "cell_type": "code",
      "metadata": {
        "id": "QwLy5t4-9dai",
        "colab_type": "code",
        "colab": {}
      },
      "source": [
        "from keras.callbacks import ModelCheckpoint\n",
        "save_model = ModelCheckpoint('model.h5', verbose = 1, save_best_only = True,save_weights_only = False, period = 1)"
      ],
      "execution_count": 0,
      "outputs": []
    },
    {
      "cell_type": "code",
      "metadata": {
        "id": "oAOV5wO48Ty-",
        "colab_type": "code",
        "outputId": "fd3b3ba3-1fb4-49ac-d61c-d2d9a1cf3138",
        "colab": {
          "base_uri": "https://localhost:8080/",
          "height": 1000
        }
      },
      "source": [
        "import warnings\n",
        "warnings.filterwarnings('ignore')\n",
        "mdl_var = mdl.fit(train_x_gray, train_x_cluster_encoder,batch_size=4,epochs=30,verbose=1,shuffle=True,validation_split=0.1,callbacks=[save_model])"
      ],
      "execution_count": 0,
      "outputs": [
        {
          "output_type": "stream",
          "text": [
            "Train on 4500 samples, validate on 500 samples\n",
            "Epoch 1/30\n",
            "4500/4500 [==============================] - 13s 3ms/step - loss: 8059.6739 - val_loss: 8023.7936\n",
            "\n",
            "Epoch 00001: val_loss improved from inf to 8023.79360, saving model to model.h5\n",
            "Epoch 2/30\n",
            "4500/4500 [==============================] - 13s 3ms/step - loss: 7966.4330 - val_loss: 7949.0606\n",
            "\n",
            "Epoch 00002: val_loss improved from 8023.79360 to 7949.06064, saving model to model.h5\n",
            "Epoch 3/30\n",
            "4500/4500 [==============================] - 13s 3ms/step - loss: 7913.5461 - val_loss: 7947.0466\n",
            "\n",
            "Epoch 00003: val_loss improved from 7949.06064 to 7947.04662, saving model to model.h5\n",
            "Epoch 4/30\n",
            "4500/4500 [==============================] - 12s 3ms/step - loss: 7866.3597 - val_loss: 7896.3878\n",
            "\n",
            "Epoch 00004: val_loss improved from 7947.04662 to 7896.38780, saving model to model.h5\n",
            "Epoch 5/30\n",
            "4500/4500 [==============================] - 12s 3ms/step - loss: 7827.1801 - val_loss: 7883.3132\n",
            "\n",
            "Epoch 00005: val_loss improved from 7896.38780 to 7883.31320, saving model to model.h5\n",
            "Epoch 6/30\n",
            "4500/4500 [==============================] - 12s 3ms/step - loss: 7790.0252 - val_loss: 7875.5702\n",
            "\n",
            "Epoch 00006: val_loss improved from 7883.31320 to 7875.57019, saving model to model.h5\n",
            "Epoch 7/30\n",
            "4500/4500 [==============================] - 12s 3ms/step - loss: 7757.2576 - val_loss: 7868.1758\n",
            "\n",
            "Epoch 00007: val_loss improved from 7875.57019 to 7868.17580, saving model to model.h5\n",
            "Epoch 8/30\n",
            "4500/4500 [==============================] - 13s 3ms/step - loss: 7728.2190 - val_loss: 7868.4167\n",
            "\n",
            "Epoch 00008: val_loss did not improve from 7868.17580\n",
            "Epoch 9/30\n",
            "4500/4500 [==============================] - 12s 3ms/step - loss: 7697.4841 - val_loss: 7894.7671\n",
            "\n",
            "Epoch 00009: val_loss did not improve from 7868.17580\n",
            "Epoch 10/30\n",
            "4500/4500 [==============================] - 12s 3ms/step - loss: 7665.6456 - val_loss: 7874.3118\n",
            "\n",
            "Epoch 00010: val_loss did not improve from 7868.17580\n",
            "Epoch 11/30\n",
            "4500/4500 [==============================] - 12s 3ms/step - loss: 7638.6794 - val_loss: 7887.2650\n",
            "\n",
            "Epoch 00011: val_loss did not improve from 7868.17580\n",
            "Epoch 12/30\n",
            "4500/4500 [==============================] - 12s 3ms/step - loss: 7612.6465 - val_loss: 7885.3373\n",
            "\n",
            "Epoch 00012: val_loss did not improve from 7868.17580\n",
            "Epoch 13/30\n",
            "4500/4500 [==============================] - 13s 3ms/step - loss: 7586.5832 - val_loss: 7892.9878\n",
            "\n",
            "Epoch 00013: val_loss did not improve from 7868.17580\n",
            "Epoch 14/30\n",
            "4500/4500 [==============================] - 13s 3ms/step - loss: 7563.1836 - val_loss: 8043.2823\n",
            "\n",
            "Epoch 00014: val_loss did not improve from 7868.17580\n",
            "Epoch 15/30\n",
            "4500/4500 [==============================] - 13s 3ms/step - loss: 7549.5430 - val_loss: 7929.7550\n",
            "\n",
            "Epoch 00015: val_loss did not improve from 7868.17580\n",
            "Epoch 16/30\n",
            "4500/4500 [==============================] - 13s 3ms/step - loss: 7530.5656 - val_loss: 7937.0947\n",
            "\n",
            "Epoch 00016: val_loss did not improve from 7868.17580\n",
            "Epoch 17/30\n",
            "4500/4500 [==============================] - 12s 3ms/step - loss: 7513.9816 - val_loss: 7949.6054\n",
            "\n",
            "Epoch 00017: val_loss did not improve from 7868.17580\n",
            "Epoch 18/30\n",
            "4500/4500 [==============================] - 12s 3ms/step - loss: 7497.4836 - val_loss: 7963.9145\n",
            "\n",
            "Epoch 00018: val_loss did not improve from 7868.17580\n",
            "Epoch 19/30\n",
            "4500/4500 [==============================] - 12s 3ms/step - loss: 7482.8400 - val_loss: 7992.9042\n",
            "\n",
            "Epoch 00019: val_loss did not improve from 7868.17580\n",
            "Epoch 20/30\n",
            "4500/4500 [==============================] - 12s 3ms/step - loss: 7470.6327 - val_loss: 7977.2329\n",
            "\n",
            "Epoch 00020: val_loss did not improve from 7868.17580\n",
            "Epoch 21/30\n",
            "4500/4500 [==============================] - 12s 3ms/step - loss: 7459.1296 - val_loss: 7986.5505\n",
            "\n",
            "Epoch 00021: val_loss did not improve from 7868.17580\n",
            "Epoch 22/30\n",
            "4500/4500 [==============================] - 12s 3ms/step - loss: 7454.6873 - val_loss: 8019.3567\n",
            "\n",
            "Epoch 00022: val_loss did not improve from 7868.17580\n",
            "Epoch 23/30\n",
            "4500/4500 [==============================] - 13s 3ms/step - loss: 7440.2836 - val_loss: 8029.8741\n",
            "\n",
            "Epoch 00023: val_loss did not improve from 7868.17580\n",
            "Epoch 24/30\n",
            "4500/4500 [==============================] - 13s 3ms/step - loss: 7427.5474 - val_loss: 8022.7107\n",
            "\n",
            "Epoch 00024: val_loss did not improve from 7868.17580\n",
            "Epoch 25/30\n",
            "4500/4500 [==============================] - 12s 3ms/step - loss: 7418.7857 - val_loss: 8043.0352\n",
            "\n",
            "Epoch 00025: val_loss did not improve from 7868.17580\n",
            "Epoch 26/30\n",
            "4500/4500 [==============================] - 12s 3ms/step - loss: 7413.1780 - val_loss: 8076.1283\n",
            "\n",
            "Epoch 00026: val_loss did not improve from 7868.17580\n",
            "Epoch 27/30\n",
            "4500/4500 [==============================] - 13s 3ms/step - loss: 7406.6789 - val_loss: 8064.6373\n",
            "\n",
            "Epoch 00027: val_loss did not improve from 7868.17580\n",
            "Epoch 28/30\n",
            "4500/4500 [==============================] - 13s 3ms/step - loss: 7402.9268 - val_loss: 8074.1383\n",
            "\n",
            "Epoch 00028: val_loss did not improve from 7868.17580\n",
            "Epoch 29/30\n",
            "4500/4500 [==============================] - 13s 3ms/step - loss: 7399.6422 - val_loss: 8075.6927\n",
            "\n",
            "Epoch 00029: val_loss did not improve from 7868.17580\n",
            "Epoch 30/30\n",
            "4500/4500 [==============================] - 12s 3ms/step - loss: 7385.7866 - val_loss: 8118.6513\n",
            "\n",
            "Epoch 00030: val_loss did not improve from 7868.17580\n"
          ],
          "name": "stdout"
        }
      ]
    },
    {
      "cell_type": "markdown",
      "metadata": {
        "id": "h2qdesZ3avQj",
        "colab_type": "text"
      },
      "source": [
        "Training loss-validation loss comparison with increase in no. of epochs "
      ]
    },
    {
      "cell_type": "code",
      "metadata": {
        "id": "e-6ZlHfD8CVY",
        "colab_type": "code",
        "outputId": "3cd7fa9c-23e2-4583-935b-001c121e5bad",
        "colab": {
          "base_uri": "https://localhost:8080/",
          "height": 279
        }
      },
      "source": [
        "import matplotlib.pyplot as plt\n",
        "\n",
        "mdl_var = mdl_var.history\n",
        "plt.plot(mdl_var['loss'])\n",
        "plt.plot(mdl_var['val_loss'])\n",
        "plt.xlabel(\"Epoch no.\")\n",
        "plt.ylabel(\"Loss\")\n",
        "plt.legend(['Training Loss','Validation Loss'])\n",
        "plt.show()\n"
      ],
      "execution_count": 0,
      "outputs": [
        {
          "output_type": "display_data",
          "data": {
            "image/png": "[encoded data removed]",
            "text/plain": [
              "<Figure size 432x288 with 1 Axes>"
            ]
          },
          "metadata": {
            "tags": []
          }
        }
      ]
    },
    {
      "cell_type": "code",
      "metadata": {
        "id": "00C88WiG_5vX",
        "colab_type": "code",
        "colab": {}
      },
      "source": [
        "load_mdl = keras.models.load_model(\"model.h5\")\n",
        "preds = load_mdl.predict(test_x_gray[:10])"
      ],
      "execution_count": 0,
      "outputs": []
    },
    {
      "cell_type": "code",
      "metadata": {
        "id": "Y8Ha3kGCAvS4",
        "colab_type": "code",
        "colab": {}
      },
      "source": [
        "preds = np.reshape(preds,(10240,4)) \n",
        "\n"
      ],
      "execution_count": 0,
      "outputs": []
    },
    {
      "cell_type": "code",
      "metadata": {
        "id": "Qx4ZytzMA6P-",
        "colab_type": "code",
        "colab": {}
      },
      "source": [
        "first10_imgs = list()\n",
        "for px in preds:\n",
        "    first10_imgs.append(center_clus_test[np.argmax(px)])\n",
        "first10_imgs = np.reshape(first10_imgs,(10,32,32,3))\n"
      ],
      "execution_count": 0,
      "outputs": []
    },
    {
      "cell_type": "code",
      "metadata": {
        "id": "PFGIEpLZB03Y",
        "colab_type": "code",
        "colab": {}
      },
      "source": [
        "test_x= np.reshape(test_x,(1000,32,32,3))"
      ],
      "execution_count": 0,
      "outputs": []
    },
    {
      "cell_type": "code",
      "metadata": {
        "id": "UCty21BuBW_K",
        "colab_type": "code",
        "outputId": "4de60615-f1cd-4253-954e-b127f3505de8",
        "colab": {
          "base_uri": "https://localhost:8080/",
          "height": 1000
        }
      },
      "source": [
        "for i in range(0,10,1):\n",
        "    plt.imshow(test_x[i])\n",
        "    plt.show()\n",
        "    plt.imshow(first10_imgs[i])\n",
        "    plt.show()"
      ],
      "execution_count": 0,
      "outputs": [
        {
          "output_type": "display_data",
          "data": {
            "image/png": "[encoded data removed]",
            "text/plain": [
              "<Figure size 432x288 with 1 Axes>"
            ]
          },
          "metadata": {
            "tags": []
          }
        },
        {
          "output_type": "display_data",
          "data": {
            "image/png": "[encoded data removed]",
            "text/plain": [
              "<Figure size 432x288 with 1 Axes>"
            ]
          },
          "metadata": {
            "tags": []
          }
        },
        {
          "output_type": "display_data",
          "data": {
            "image/png": "[encoded data removed]",
            "text/plain": [
              "<Figure size 432x288 with 1 Axes>"
            ]
          },
          "metadata": {
            "tags": []
          }
        },
        {
          "output_type": "display_data",
          "data": {
            "image/png": "[encoded data removed]",
            "text/plain": [
              "<Figure size 432x288 with 1 Axes>"
            ]
          },
          "metadata": {
            "tags": []
          }
        },
        {
          "output_type": "display_data",
          "data": {
            "image/png": "[encoded data removed]",
            "text/plain": [
              "<Figure size 432x288 with 1 Axes>"
            ]
          },
          "metadata": {
            "tags": []
          }
        },
        {
          "output_type": "display_data",
          "data": {
            "image/png": "[encoded data removed]",
            "text/plain": [
              "<Figure size 432x288 with 1 Axes>"
            ]
          },
          "metadata": {
            "tags": []
          }
        },
        {
          "output_type": "display_data",
          "data": {
            "image/png": "[encoded data removed]",
            "text/plain": [
              "<Figure size 432x288 with 1 Axes>"
            ]
          },
          "metadata": {
            "tags": []
          }
        },
        {
          "output_type": "display_data",
          "data": {
            "image/png": "[encoded data removed]",
            "text/plain": [
              "<Figure size 432x288 with 1 Axes>"
            ]
          },
          "metadata": {
            "tags": []
          }
        },
        {
          "output_type": "display_data",
          "data": {
            "image/png": "[encoded data removed]",
            "text/plain": [
              "<Figure size 432x288 with 1 Axes>"
            ]
          },
          "metadata": {
            "tags": []
          }
        },
        {
          "output_type": "display_data",
          "data": {
            "image/png": "[encoded data removed]",
            "text/plain": [
              "<Figure size 432x288 with 1 Axes>"
            ]
          },
          "metadata": {
            "tags": []
          }
        },
        {
          "output_type": "display_data",
          "data": {
            "image/png": "[encoded data removed]",
            "text/plain": [
              "<Figure size 432x288 with 1 Axes>"
            ]
          },
          "metadata": {
            "tags": []
          }
        },
        {
          "output_type": "display_data",
          "data": {
            "image/png": "[encoded data removed]",
            "text/plain": [
              "<Figure size 432x288 with 1 Axes>"
            ]
          },
          "metadata": {
            "tags": []
          }
        },
        {
          "output_type": "display_data",
          "data": {
            "image/png": "[encoded data removed]",
            "text/plain": [
              "<Figure size 432x288 with 1 Axes>"
            ]
          },
          "metadata": {
            "tags": []
          }
        },
        {
          "output_type": "display_data",
          "data": {
            "image/png": "[encoded data removed]",
            "text/plain": [
              "<Figure size 432x288 with 1 Axes>"
            ]
          },
          "metadata": {
            "tags": []
          }
        },
        {
          "output_type": "display_data",
          "data": {
            "image/png": "[encoded data removed]",
            "text/plain": [
              "<Figure size 432x288 with 1 Axes>"
            ]
          },
          "metadata": {
            "tags": []
          }
        },
        {
          "output_type": "display_data",
          "data": {
            "image/png": "[encoded data removed]",
            "text/plain": [
              "<Figure size 432x288 with 1 Axes>"
            ]
          },
          "metadata": {
            "tags": []
          }
        },
        {
          "output_type": "display_data",
          "data": {
            "image/png": "[encoded data removed]",
            "text/plain": [
              "<Figure size 432x288 with 1 Axes>"
            ]
          },
          "metadata": {
            "tags": []
          }
        },
        {
          "output_type": "display_data",
          "data": {
            "image/png": "[encoded data removed]",
            "text/plain": [
              "<Figure size 432x288 with 1 Axes>"
            ]
          },
          "metadata": {
            "tags": []
          }
        },
        {
          "output_type": "display_data",
          "data": {
            "image/png": "[encoded data removed]",
            "text/plain": [
              "<Figure size 432x288 with 1 Axes>"
            ]
          },
          "metadata": {
            "tags": []
          }
        },
        {
          "output_type": "display_data",
          "data": {
            "image/png": "[encoded data removed]",
            "text/plain": [
              "<Figure size 432x288 with 1 Axes>"
            ]
          },
          "metadata": {
            "tags": []
          }
        }
      ]
    },
    {
      "cell_type": "markdown",
      "metadata": {
        "id": "0GToVHv4bzWN",
        "colab_type": "text"
      },
      "source": [
        "# (2)(g) Repeated the whole exercise with K=24 colors and examined the results for the same "
      ]
    },
    {
      "cell_type": "code",
      "metadata": {
        "id": "bFjJEYZDDhbM",
        "colab_type": "code",
        "outputId": "05176241-1d8c-4536-a6e3-9bb25b4e777c",
        "colab": {
          "base_uri": "https://localhost:8080/",
          "height": 34
        }
      },
      "source": [
        "from keras import backend as K\n",
        "K.tensorflow_backend._get_available_gpus()"
      ],
      "execution_count": 0,
      "outputs": [
        {
          "output_type": "execute_result",
          "data": {
            "text/plain": [
              "['/job:localhost/replica:0/task:0/device:GPU:0']"
            ]
          },
          "metadata": {
            "tags": []
          },
          "execution_count": 4
        }
      ]
    },
    {
      "cell_type": "code",
      "metadata": {
        "colab_type": "code",
        "outputId": "5222b86c-d56d-46ad-fc1d-d82973bac0c4",
        "id": "kxjHysJwhMs8",
        "colab": {
          "base_uri": "https://localhost:8080/",
          "height": 241
        }
      },
      "source": [
        "from tflearn.datasets import cifar10"
      ],
      "execution_count": 0,
      "outputs": [
        {
          "output_type": "stream",
          "text": [
            "WARNING:tensorflow:From /usr/local/lib/python3.6/dist-packages/tflearn/helpers/summarizer.py:9: The name tf.summary.merge is deprecated. Please use tf.compat.v1.summary.merge instead.\n",
            "\n",
            "WARNING:tensorflow:From /usr/local/lib/python3.6/dist-packages/tflearn/helpers/trainer.py:25: The name tf.summary.FileWriter is deprecated. Please use tf.compat.v1.summary.FileWriter instead.\n",
            "\n",
            "WARNING:tensorflow:From /usr/local/lib/python3.6/dist-packages/tflearn/collections.py:13: The name tf.GraphKeys is deprecated. Please use tf.compat.v1.GraphKeys instead.\n",
            "\n",
            "WARNING:tensorflow:From /usr/local/lib/python3.6/dist-packages/tflearn/config.py:123: The name tf.get_collection is deprecated. Please use tf.compat.v1.get_collection instead.\n",
            "\n",
            "WARNING:tensorflow:From /usr/local/lib/python3.6/dist-packages/tflearn/config.py:129: The name tf.add_to_collection is deprecated. Please use tf.compat.v1.add_to_collection instead.\n",
            "\n",
            "WARNING:tensorflow:From /usr/local/lib/python3.6/dist-packages/tflearn/config.py:131: The name tf.assign is deprecated. Please use tf.compat.v1.assign instead.\n",
            "\n"
          ],
          "name": "stdout"
        }
      ]
    },
    {
      "cell_type": "code",
      "metadata": {
        "colab_type": "code",
        "id": "Fk_MP1qxhMs_",
        "colab": {}
      },
      "source": [
        "import numpy as np"
      ],
      "execution_count": 0,
      "outputs": []
    },
    {
      "cell_type": "code",
      "metadata": {
        "colab_type": "code",
        "outputId": "cbf9f5c2-a38f-4a7b-d633-8c97978614c9",
        "id": "02Fho-wuhMtB",
        "colab": {
          "base_uri": "https://localhost:8080/",
          "height": 85
        }
      },
      "source": [
        "(train_x, train_y), (test_x, test_y) = cifar10.load_data()"
      ],
      "execution_count": 0,
      "outputs": [
        {
          "output_type": "stream",
          "text": [
            "Downloading CIFAR 10, Please wait...\n"
          ],
          "name": "stdout"
        },
        {
          "output_type": "stream",
          "text": [
            "100.0% 170500096 / 170498071\n"
          ],
          "name": "stderr"
        },
        {
          "output_type": "stream",
          "text": [
            "('Succesfully downloaded', 'cifar-10-python.tar.gz', 170498071, 'bytes.')\n",
            "File Extracted in Current Directory\n"
          ],
          "name": "stdout"
        }
      ]
    },
    {
      "cell_type": "code",
      "metadata": {
        "colab_type": "code",
        "id": "Vw8UiXTqhMtG",
        "colab": {}
      },
      "source": [
        "from tflearn.data_utils import  to_categorical\n",
        "\n",
        "train_y = to_categorical(train_y, nb_classes=10)\n",
        "train_y = train_y[:,2]\n",
        "test_y = to_categorical(test_y, nb_classes=10)\n",
        "test_y = test_y[:,2]\n",
        "\n"
      ],
      "execution_count": 0,
      "outputs": []
    },
    {
      "cell_type": "code",
      "metadata": {
        "colab_type": "code",
        "outputId": "0d6d8cf1-b24a-4755-e52f-f2dc9a24d007",
        "id": "mty2CG8EhMtI",
        "colab": {
          "base_uri": "https://localhost:8080/",
          "height": 85
        }
      },
      "source": [
        "print(train_x.shape)\n",
        "print(train_y.shape)\n",
        "print(test_x.shape)\n",
        "print(test_y.shape)"
      ],
      "execution_count": 0,
      "outputs": [
        {
          "output_type": "stream",
          "text": [
            "(50000, 32, 32, 3)\n",
            "(50000,)\n",
            "(10000, 32, 32, 3)\n",
            "(10000,)\n"
          ],
          "name": "stdout"
        }
      ]
    },
    {
      "cell_type": "code",
      "metadata": {
        "colab_type": "code",
        "id": "ykZ2T4a8hMtL",
        "colab": {}
      },
      "source": [
        "train_x = train_x[np.argwhere(train_y==1).ravel()]\n",
        "test_x = test_x[np.argwhere(test_y==1).ravel()]"
      ],
      "execution_count": 0,
      "outputs": []
    },
    {
      "cell_type": "code",
      "metadata": {
        "colab_type": "code",
        "outputId": "fe142e33-e6a4-4b72-a9d0-989be1804f1e",
        "id": "xiRNjTjihMtO",
        "colab": {
          "base_uri": "https://localhost:8080/",
          "height": 1000
        }
      },
      "source": [
        "import matplotlib.pyplot as plt\n",
        "import numpy as np\n",
        "\n",
        "for i in range(0,5):\n",
        "  plt.imshow(train_x[i])\n",
        "  plt.show()"
      ],
      "execution_count": 0,
      "outputs": [
        {
          "output_type": "display_data",
          "data": {
            "image/png": "[encoded data removed]",
            "text/plain": [
              "<Figure size 432x288 with 1 Axes>"
            ]
          },
          "metadata": {
            "tags": []
          }
        },
        {
          "output_type": "display_data",
          "data": {
            "image/png": "[encoded data removed]",
            "text/plain": [
              "<Figure size 432x288 with 1 Axes>"
            ]
          },
          "metadata": {
            "tags": []
          }
        },
        {
          "output_type": "display_data",
          "data": {
            "image/png": "[encoded data removed]",
            "text/plain": [
              "<Figure size 432x288 with 1 Axes>"
            ]
          },
          "metadata": {
            "tags": []
          }
        },
        {
          "output_type": "display_data",
          "data": {
            "image/png": "[encoded data removed]",
            "text/plain": [
              "<Figure size 432x288 with 1 Axes>"
            ]
          },
          "metadata": {
            "tags": []
          }
        },
        {
          "output_type": "display_data",
          "data": {
            "image/png": "[encoded data removed]",
            "text/plain": [
              "<Figure size 432x288 with 1 Axes>"
            ]
          },
          "metadata": {
            "tags": []
          }
        }
      ]
    },
    {
      "cell_type": "code",
      "metadata": {
        "colab_type": "code",
        "id": "VHKJ9l78hMtS",
        "colab": {}
      },
      "source": [
        "train_x = train_x.reshape(5120000,3)    \n",
        "test_x = test_x.reshape(1024000,3) "
      ],
      "execution_count": 0,
      "outputs": []
    },
    {
      "cell_type": "code",
      "metadata": {
        "colab_type": "code",
        "id": "75TD59zUhMtT",
        "colab": {}
      },
      "source": [
        "from sklearn.cluster import KMeans\n",
        "\n"
      ],
      "execution_count": 0,
      "outputs": []
    },
    {
      "cell_type": "code",
      "metadata": {
        "colab_type": "code",
        "id": "T4ja6kmthMtY",
        "colab": {}
      },
      "source": [
        "cls = KMeans(n_clusters=24,max_iter=1000,random_state=0)\n",
        "cls.fit(train_x)\n",
        "center_clus = cls.cluster_centers_"
      ],
      "execution_count": 0,
      "outputs": []
    },
    {
      "cell_type": "code",
      "metadata": {
        "colab_type": "code",
        "outputId": "e1090d1e-b221-4b01-f7aa-282898e7f181",
        "id": "ukz6h7obhMtb",
        "colab": {
          "base_uri": "https://localhost:8080/",
          "height": 425
        }
      },
      "source": [
        "print(center_clus)"
      ],
      "execution_count": 0,
      "outputs": [
        {
          "output_type": "stream",
          "text": [
            "[[0.40669228 0.4086219  0.36526281]\n",
            " [0.75072828 0.75563024 0.74547101]\n",
            " [0.06458406 0.06733115 0.05623066]\n",
            " [0.87278513 0.86294491 0.82816444]\n",
            " [0.7638851  0.62108245 0.27806711]\n",
            " [0.22649664 0.24299728 0.22674639]\n",
            " [0.66652478 0.66896275 0.64477543]\n",
            " [0.60542988 0.55244217 0.43035736]\n",
            " [0.30539814 0.29089453 0.15104851]\n",
            " [0.69671157 0.81534923 0.92265918]\n",
            " [0.32712495 0.33102103 0.28536243]\n",
            " [0.52624185 0.61225193 0.31038174]\n",
            " [0.53512287 0.46646024 0.33014911]\n",
            " [0.70014199 0.65679126 0.48509174]\n",
            " [0.21169273 0.37375077 0.52935343]\n",
            " [0.83184576 0.76212316 0.5890217 ]\n",
            " [0.47254935 0.48860148 0.47113155]\n",
            " [0.16676619 0.1682173  0.12647321]\n",
            " [0.96494602 0.96924056 0.96304893]\n",
            " [0.51233719 0.67244753 0.84510132]\n",
            " [0.39425626 0.48110938 0.21103671]\n",
            " [0.34585113 0.5251606  0.72991474]\n",
            " [0.47645809 0.35149858 0.21855749]\n",
            " [0.56722281 0.58130013 0.56874591]]\n"
          ],
          "name": "stdout"
        }
      ]
    },
    {
      "cell_type": "code",
      "metadata": {
        "colab_type": "code",
        "id": "gztpKvIIhMtd",
        "colab": {}
      },
      "source": [
        "color_assignment_train = cls.predict(train_x) \n",
        "color_train = list()\n",
        "cnt=0\n",
        "for px in train_x:\n",
        "    color_train.append(center_clus[color_assignment_train[cnt]])\n",
        "    cnt=cnt+1"
      ],
      "execution_count": 0,
      "outputs": []
    },
    {
      "cell_type": "code",
      "metadata": {
        "colab_type": "code",
        "id": "Ojc7bnGVhMti",
        "colab": {}
      },
      "source": [
        "cls_test = KMeans(n_clusters=24,max_iter=1000,random_state=0)\n",
        "test_x_color = cls_test.fit_transform(test_x)\n",
        "center_clus_test = cls.cluster_centers_"
      ],
      "execution_count": 0,
      "outputs": []
    },
    {
      "cell_type": "code",
      "metadata": {
        "colab_type": "code",
        "id": "6KbVxtOGhMtl",
        "colab": {}
      },
      "source": [
        "color_assignment_test = cls.predict(test_x) \n",
        "color_test = list()\n",
        "cnt=0\n",
        "for px in test_x:\n",
        "    color_test.append(center_clus_test[color_assignment_test[cnt]])\n",
        "    cnt=cnt+1"
      ],
      "execution_count": 0,
      "outputs": []
    },
    {
      "cell_type": "code",
      "metadata": {
        "colab_type": "code",
        "id": "Lf98FDuWhMtp",
        "colab": {}
      },
      "source": [
        "color_grp_train = np.reshape(color_train,(5000,32,32,3)) \n",
        "color_grp_test = np.reshape(color_test,(1000,32,32,3))"
      ],
      "execution_count": 0,
      "outputs": []
    },
    {
      "cell_type": "code",
      "metadata": {
        "colab_type": "code",
        "outputId": "a7cc074f-339f-4ed1-bea4-7b1a506d535a",
        "id": "z1IvoBodhMtt",
        "colab": {
          "base_uri": "https://localhost:8080/",
          "height": 1000
        }
      },
      "source": [
        "import matplotlib.pyplot as plt\n",
        "import numpy as np\n",
        "\n",
        "for i in range(0,5):\n",
        "  plt.imshow(color_grp_train[i])\n",
        "  plt.show()"
      ],
      "execution_count": 0,
      "outputs": [
        {
          "output_type": "display_data",
          "data": {
            "image/png": "[encoded data removed]",
            "text/plain": [
              "<Figure size 432x288 with 1 Axes>"
            ]
          },
          "metadata": {
            "tags": []
          }
        },
        {
          "output_type": "display_data",
          "data": {
            "image/png": "[encoded data removed]",
            "text/plain": [
              "<Figure size 432x288 with 1 Axes>"
            ]
          },
          "metadata": {
            "tags": []
          }
        },
        {
          "output_type": "display_data",
          "data": {
            "image/png": "[encoded data removed]",
            "text/plain": [
              "<Figure size 432x288 with 1 Axes>"
            ]
          },
          "metadata": {
            "tags": []
          }
        },
        {
          "output_type": "display_data",
          "data": {
            "image/png": "[encoded data removed]",
            "text/plain": [
              "<Figure size 432x288 with 1 Axes>"
            ]
          },
          "metadata": {
            "tags": []
          }
        },
        {
          "output_type": "display_data",
          "data": {
            "image/png": "[encoded data removed]",
            "text/plain": [
              "<Figure size 432x288 with 1 Axes>"
            ]
          },
          "metadata": {
            "tags": []
          }
        }
      ]
    },
    {
      "cell_type": "code",
      "metadata": {
        "colab_type": "code",
        "id": "DhnPNrBHhMtw",
        "colab": {}
      },
      "source": [
        "train_x_gray = np.reshape(train_x,(5000,32,32,3)) \n",
        "test_x_gray = np.reshape(test_x,(1000,32,32,3))"
      ],
      "execution_count": 0,
      "outputs": []
    },
    {
      "cell_type": "code",
      "metadata": {
        "colab_type": "code",
        "id": "KeT5WheXhMtz",
        "colab": {}
      },
      "source": [
        "from skimage.color import rgb2gray\n",
        "\n",
        "train_x_gray = rgb2gray(train_x_gray)\n",
        "test_x_gray = rgb2gray(test_x_gray)\n",
        "\n"
      ],
      "execution_count": 0,
      "outputs": []
    },
    {
      "cell_type": "code",
      "metadata": {
        "colab_type": "code",
        "outputId": "28ac39ca-8507-4d36-acef-9a8ec6f57e8d",
        "id": "5OkewyKPhMt1",
        "colab": {
          "base_uri": "https://localhost:8080/",
          "height": 1000
        }
      },
      "source": [
        "import matplotlib.pyplot as plt\n",
        "import numpy as np\n",
        "\n",
        "for i in range(0,5):\n",
        "  plt.imshow(train_x_gray[i],cmap='gray')\n",
        "  plt.show()"
      ],
      "execution_count": 0,
      "outputs": [
        {
          "output_type": "display_data",
          "data": {
            "image/png": "[encoded data removed]",
            "text/plain": [
              "<Figure size 432x288 with 1 Axes>"
            ]
          },
          "metadata": {
            "tags": []
          }
        },
        {
          "output_type": "display_data",
          "data": {
            "image/png": "[encoded data removed]",
            "text/plain": [
              "<Figure size 432x288 with 1 Axes>"
            ]
          },
          "metadata": {
            "tags": []
          }
        },
        {
          "output_type": "display_data",
          "data": {
            "image/png": "[encoded data removed]",
            "text/plain": [
              "<Figure size 432x288 with 1 Axes>"
            ]
          },
          "metadata": {
            "tags": []
          }
        },
        {
          "output_type": "display_data",
          "data": {
            "image/png": "[encoded data removed]",
            "text/plain": [
              "<Figure size 432x288 with 1 Axes>"
            ]
          },
          "metadata": {
            "tags": []
          }
        },
        {
          "output_type": "display_data",
          "data": {
            "image/png": "[encoded data removed]",
            "text/plain": [
              "<Figure size 432x288 with 1 Axes>"
            ]
          },
          "metadata": {
            "tags": []
          }
        }
      ]
    },
    {
      "cell_type": "code",
      "metadata": {
        "colab_type": "code",
        "id": "CuATRGuBhMt3",
        "colab": {}
      },
      "source": [
        "import keras\n",
        "from keras.models import Sequential\n",
        "from keras.layers import Dense, Flatten\n",
        "from keras.layers import Conv2D, MaxPooling2D, Reshape"
      ],
      "execution_count": 0,
      "outputs": []
    },
    {
      "cell_type": "code",
      "metadata": {
        "colab_type": "code",
        "outputId": "c29c63cb-0425-4b3d-a8bd-d927d48bf894",
        "id": "uVfNldWzhMt5",
        "colab": {
          "base_uri": "https://localhost:8080/",
          "height": 391
        }
      },
      "source": [
        "mdl= Sequential()\n",
        "mdl.add(Conv2D(16,strides=1, kernel_size=(5,5), input_shape=(32,32,1), padding='same', activation='relu'))\n",
        "mdl.add(MaxPooling2D(pool_size=(2,2),padding='same'))\n",
        "mdl.add(Conv2D(32,strides=1, kernel_size=(5, 5), padding='same', activation='relu'))\n",
        "mdl.add(MaxPooling2D(pool_size=(2,2),padding='same'))\n",
        "mdl.add(Flatten())\n",
        "mdl.add(Dense((2048),activation='relu'))\n",
        "mdl.add(Dense((24576),activation='softmax'))\n",
        "mdl.summary()\n",
        "SGD = keras.optimizers.SGD(lr=0.001)\n",
        "mdl.compile(loss='categorical_crossentropy', optimizer=SGD)"
      ],
      "execution_count": 0,
      "outputs": [
        {
          "output_type": "stream",
          "text": [
            "Model: \"sequential_2\"\n",
            "_________________________________________________________________\n",
            "Layer (type)                 Output Shape              Param #   \n",
            "=================================================================\n",
            "conv2d_3 (Conv2D)            (None, 32, 32, 16)        416       \n",
            "_________________________________________________________________\n",
            "max_pooling2d_3 (MaxPooling2 (None, 16, 16, 16)        0         \n",
            "_________________________________________________________________\n",
            "conv2d_4 (Conv2D)            (None, 16, 16, 32)        12832     \n",
            "_________________________________________________________________\n",
            "max_pooling2d_4 (MaxPooling2 (None, 8, 8, 32)          0         \n",
            "_________________________________________________________________\n",
            "flatten_2 (Flatten)          (None, 2048)              0         \n",
            "_________________________________________________________________\n",
            "dense_3 (Dense)              (None, 2048)              4196352   \n",
            "_________________________________________________________________\n",
            "dense_4 (Dense)              (None, 24576)             50356224  \n",
            "=================================================================\n",
            "Total params: 54,565,824\n",
            "Trainable params: 54,565,824\n",
            "Non-trainable params: 0\n",
            "_________________________________________________________________\n"
          ],
          "name": "stdout"
        }
      ]
    },
    {
      "cell_type": "code",
      "metadata": {
        "colab_type": "code",
        "outputId": "58c92249-10bc-4c74-9827-97070e6c938a",
        "id": "UM4izjXVhMt8",
        "colab": {
          "base_uri": "https://localhost:8080/",
          "height": 51
        }
      },
      "source": [
        "print(train_x_gray.shape)\n",
        "print(test_x_gray.shape)"
      ],
      "execution_count": 0,
      "outputs": [
        {
          "output_type": "stream",
          "text": [
            "(5000, 32, 32)\n",
            "(1000, 32, 32)\n"
          ],
          "name": "stdout"
        }
      ]
    },
    {
      "cell_type": "code",
      "metadata": {
        "colab_type": "code",
        "id": "oxjrrIJlhMuA",
        "colab": {}
      },
      "source": [
        "lst1=list(np.unique(color_assignment_train))"
      ],
      "execution_count": 0,
      "outputs": []
    },
    {
      "cell_type": "code",
      "metadata": {
        "colab_type": "code",
        "id": "XZxuIlmHhMuD",
        "colab": {}
      },
      "source": [
        "from sklearn.preprocessing import OneHotEncoder\n",
        "\n",
        "train_x_cluster_encoder = list()\n",
        "enc = OneHotEncoder(handle_unknown='ignore')\n",
        "X=list()\n",
        "for j in range(0,24,1):\n",
        "  X.append([j])\n",
        "ohc=enc.fit_transform(X).toarray()\n"
      ],
      "execution_count": 0,
      "outputs": []
    },
    {
      "cell_type": "code",
      "metadata": {
        "colab_type": "code",
        "outputId": "a714f618-6f97-420c-b9ed-b563331a4e76",
        "id": "FYFB7u5QhMuG",
        "colab": {
          "base_uri": "https://localhost:8080/",
          "height": 833
        }
      },
      "source": [
        "ohc"
      ],
      "execution_count": 0,
      "outputs": [
        {
          "output_type": "execute_result",
          "data": {
            "text/plain": [
              "array([[1., 0., 0., 0., 0., 0., 0., 0., 0., 0., 0., 0., 0., 0., 0., 0.,\n",
              "        0., 0., 0., 0., 0., 0., 0., 0.],\n",
              "       [0., 1., 0., 0., 0., 0., 0., 0., 0., 0., 0., 0., 0., 0., 0., 0.,\n",
              "        0., 0., 0., 0., 0., 0., 0., 0.],\n",
              "       [0., 0., 1., 0., 0., 0., 0., 0., 0., 0., 0., 0., 0., 0., 0., 0.,\n",
              "        0., 0., 0., 0., 0., 0., 0., 0.],\n",
              "       [0., 0., 0., 1., 0., 0., 0., 0., 0., 0., 0., 0., 0., 0., 0., 0.,\n",
              "        0., 0., 0., 0., 0., 0., 0., 0.],\n",
              "       [0., 0., 0., 0., 1., 0., 0., 0., 0., 0., 0., 0., 0., 0., 0., 0.,\n",
              "        0., 0., 0., 0., 0., 0., 0., 0.],\n",
              "       [0., 0., 0., 0., 0., 1., 0., 0., 0., 0., 0., 0., 0., 0., 0., 0.,\n",
              "        0., 0., 0., 0., 0., 0., 0., 0.],\n",
              "       [0., 0., 0., 0., 0., 0., 1., 0., 0., 0., 0., 0., 0., 0., 0., 0.,\n",
              "        0., 0., 0., 0., 0., 0., 0., 0.],\n",
              "       [0., 0., 0., 0., 0., 0., 0., 1., 0., 0., 0., 0., 0., 0., 0., 0.,\n",
              "        0., 0., 0., 0., 0., 0., 0., 0.],\n",
              "       [0., 0., 0., 0., 0., 0., 0., 0., 1., 0., 0., 0., 0., 0., 0., 0.,\n",
              "        0., 0., 0., 0., 0., 0., 0., 0.],\n",
              "       [0., 0., 0., 0., 0., 0., 0., 0., 0., 1., 0., 0., 0., 0., 0., 0.,\n",
              "        0., 0., 0., 0., 0., 0., 0., 0.],\n",
              "       [0., 0., 0., 0., 0., 0., 0., 0., 0., 0., 1., 0., 0., 0., 0., 0.,\n",
              "        0., 0., 0., 0., 0., 0., 0., 0.],\n",
              "       [0., 0., 0., 0., 0., 0., 0., 0., 0., 0., 0., 1., 0., 0., 0., 0.,\n",
              "        0., 0., 0., 0., 0., 0., 0., 0.],\n",
              "       [0., 0., 0., 0., 0., 0., 0., 0., 0., 0., 0., 0., 1., 0., 0., 0.,\n",
              "        0., 0., 0., 0., 0., 0., 0., 0.],\n",
              "       [0., 0., 0., 0., 0., 0., 0., 0., 0., 0., 0., 0., 0., 1., 0., 0.,\n",
              "        0., 0., 0., 0., 0., 0., 0., 0.],\n",
              "       [0., 0., 0., 0., 0., 0., 0., 0., 0., 0., 0., 0., 0., 0., 1., 0.,\n",
              "        0., 0., 0., 0., 0., 0., 0., 0.],\n",
              "       [0., 0., 0., 0., 0., 0., 0., 0., 0., 0., 0., 0., 0., 0., 0., 1.,\n",
              "        0., 0., 0., 0., 0., 0., 0., 0.],\n",
              "       [0., 0., 0., 0., 0., 0., 0., 0., 0., 0., 0., 0., 0., 0., 0., 0.,\n",
              "        1., 0., 0., 0., 0., 0., 0., 0.],\n",
              "       [0., 0., 0., 0., 0., 0., 0., 0., 0., 0., 0., 0., 0., 0., 0., 0.,\n",
              "        0., 1., 0., 0., 0., 0., 0., 0.],\n",
              "       [0., 0., 0., 0., 0., 0., 0., 0., 0., 0., 0., 0., 0., 0., 0., 0.,\n",
              "        0., 0., 1., 0., 0., 0., 0., 0.],\n",
              "       [0., 0., 0., 0., 0., 0., 0., 0., 0., 0., 0., 0., 0., 0., 0., 0.,\n",
              "        0., 0., 0., 1., 0., 0., 0., 0.],\n",
              "       [0., 0., 0., 0., 0., 0., 0., 0., 0., 0., 0., 0., 0., 0., 0., 0.,\n",
              "        0., 0., 0., 0., 1., 0., 0., 0.],\n",
              "       [0., 0., 0., 0., 0., 0., 0., 0., 0., 0., 0., 0., 0., 0., 0., 0.,\n",
              "        0., 0., 0., 0., 0., 1., 0., 0.],\n",
              "       [0., 0., 0., 0., 0., 0., 0., 0., 0., 0., 0., 0., 0., 0., 0., 0.,\n",
              "        0., 0., 0., 0., 0., 0., 1., 0.],\n",
              "       [0., 0., 0., 0., 0., 0., 0., 0., 0., 0., 0., 0., 0., 0., 0., 0.,\n",
              "        0., 0., 0., 0., 0., 0., 0., 1.]])"
            ]
          },
          "metadata": {
            "tags": []
          },
          "execution_count": 32
        }
      ]
    },
    {
      "cell_type": "code",
      "metadata": {
        "colab_type": "code",
        "outputId": "3a0cd1aa-aaa2-4b76-d42a-9218484ced29",
        "id": "Ewd-KSZLhMuJ",
        "colab": {
          "base_uri": "https://localhost:8080/",
          "height": 51
        }
      },
      "source": [
        "train_x_cluster_encoder = list()\n",
        "cnt = 0\n",
        "for px in train_x:\n",
        "    train_x_cluster_encoder.append(ohc[color_assignment_train[cnt]])\n",
        "    cnt= cnt+1\n",
        "print (np.array(train_x_cluster_encoder).shape)\n",
        "train_x_cluster_encoder = np.reshape(train_x_cluster_encoder,(5000,24576))\n",
        "print (train_x_cluster_encoder.shape)"
      ],
      "execution_count": 0,
      "outputs": [
        {
          "output_type": "stream",
          "text": [
            "(5120000, 24)\n",
            "(5000, 24576)\n"
          ],
          "name": "stdout"
        }
      ]
    },
    {
      "cell_type": "code",
      "metadata": {
        "colab_type": "code",
        "outputId": "7bf6a56d-b323-45f4-ace0-50b253111492",
        "id": "YvZrXuI7hMuL",
        "colab": {
          "base_uri": "https://localhost:8080/",
          "height": 51
        }
      },
      "source": [
        "test_x_cluster_encoder = list()\n",
        "cnt = 0\n",
        "for px in test_x:\n",
        "    test_x_cluster_encoder.append(ohc[color_assignment_test[cnt]])\n",
        "    cnt= cnt+1\n",
        "print (np.array(test_x_cluster_encoder).shape)\n",
        "test_x_cluster_encoder = np.reshape(test_x_cluster_encoder,(1000,24576))\n",
        "print (test_x_cluster_encoder.shape)"
      ],
      "execution_count": 0,
      "outputs": [
        {
          "output_type": "stream",
          "text": [
            "(1024000, 24)\n",
            "(1000, 24576)\n"
          ],
          "name": "stdout"
        }
      ]
    },
    {
      "cell_type": "code",
      "metadata": {
        "colab_type": "code",
        "id": "M_BgpDGVhMuO",
        "colab": {}
      },
      "source": [
        "train_x_gray = np.reshape(train_x_gray,(5000,32,32,1))\n",
        "test_x_gray = np.reshape(test_x_gray,(1000,32,32,1))"
      ],
      "execution_count": 0,
      "outputs": []
    },
    {
      "cell_type": "code",
      "metadata": {
        "colab_type": "code",
        "id": "yM876rkzhMuR",
        "colab": {}
      },
      "source": [
        "from keras.callbacks import ModelCheckpoint\n",
        "save_model = ModelCheckpoint('model.h5', verbose = 1, save_best_only = True,save_weights_only = False, period = 1)"
      ],
      "execution_count": 0,
      "outputs": []
    },
    {
      "cell_type": "code",
      "metadata": {
        "colab_type": "code",
        "outputId": "abf8e6c7-0258-4379-e84f-04c254105b1d",
        "id": "0K7BsWryhMuS",
        "colab": {
          "base_uri": "https://localhost:8080/",
          "height": 1000
        }
      },
      "source": [
        "import warnings\n",
        "warnings.filterwarnings('ignore')\n",
        "mdl_var = mdl.fit(train_x_gray, train_x_cluster_encoder,batch_size=4,epochs=30,verbose=1,shuffle=True,validation_split=0.1,callbacks=[save_model])"
      ],
      "execution_count": 0,
      "outputs": [
        {
          "output_type": "stream",
          "text": [
            "Train on 4500 samples, validate on 500 samples\n",
            "Epoch 1/30\n",
            "4500/4500 [==============================] - 43s 10ms/step - loss: 9954.6679 - val_loss: 9828.0928\n",
            "\n",
            "Epoch 00001: val_loss improved from inf to 9828.09276, saving model to model.h5\n",
            "Epoch 2/30\n",
            "4500/4500 [==============================] - 43s 10ms/step - loss: 9774.2838 - val_loss: 9745.1140\n",
            "\n",
            "Epoch 00002: val_loss improved from 9828.09276 to 9745.11403, saving model to model.h5\n",
            "Epoch 3/30\n",
            "4500/4500 [==============================] - 43s 10ms/step - loss: 9635.7593 - val_loss: 9815.0513\n",
            "\n",
            "Epoch 00003: val_loss did not improve from 9745.11403\n",
            "Epoch 4/30\n",
            "4500/4500 [==============================] - 43s 9ms/step - loss: 9525.9194 - val_loss: 9653.9428\n",
            "\n",
            "Epoch 00004: val_loss improved from 9745.11403 to 9653.94279, saving model to model.h5\n",
            "Epoch 5/30\n",
            "4500/4500 [==============================] - 43s 10ms/step - loss: 9402.1161 - val_loss: 9691.6054\n",
            "\n",
            "Epoch 00005: val_loss did not improve from 9653.94279\n",
            "Epoch 6/30\n",
            "4500/4500 [==============================] - 43s 10ms/step - loss: 9253.7282 - val_loss: 9702.9223\n",
            "\n",
            "Epoch 00006: val_loss did not improve from 9653.94279\n",
            "Epoch 7/30\n",
            "4500/4500 [==============================] - 43s 10ms/step - loss: 9095.3514 - val_loss: 9829.7810\n",
            "\n",
            "Epoch 00007: val_loss did not improve from 9653.94279\n",
            "Epoch 8/30\n",
            "4500/4500 [==============================] - 43s 9ms/step - loss: 8920.9930 - val_loss: 9891.4354\n",
            "\n",
            "Epoch 00008: val_loss did not improve from 9653.94279\n",
            "Epoch 9/30\n",
            "4500/4500 [==============================] - 43s 9ms/step - loss: 8754.2992 - val_loss: 9964.7830\n",
            "\n",
            "Epoch 00009: val_loss did not improve from 9653.94279\n",
            "Epoch 10/30\n",
            "4500/4500 [==============================] - 43s 9ms/step - loss: 8583.9871 - val_loss: 9978.3664\n",
            "\n",
            "Epoch 00010: val_loss did not improve from 9653.94279\n",
            "Epoch 11/30\n",
            "4500/4500 [==============================] - 43s 9ms/step - loss: 8453.0398 - val_loss: 10096.4313\n",
            "\n",
            "Epoch 00011: val_loss did not improve from 9653.94279\n",
            "Epoch 12/30\n",
            "4500/4500 [==============================] - 43s 9ms/step - loss: 8416.5724 - val_loss: 10095.6789\n",
            "\n",
            "Epoch 00012: val_loss did not improve from 9653.94279\n",
            "Epoch 13/30\n",
            "4500/4500 [==============================] - 44s 10ms/step - loss: 8382.2605 - val_loss: 10148.5659\n",
            "\n",
            "Epoch 00013: val_loss did not improve from 9653.94279\n",
            "Epoch 14/30\n",
            "4500/4500 [==============================] - 43s 10ms/step - loss: 8321.0452 - val_loss: 10187.9137\n",
            "\n",
            "Epoch 00014: val_loss did not improve from 9653.94279\n",
            "Epoch 15/30\n",
            "4500/4500 [==============================] - 43s 10ms/step - loss: 8539.4391 - val_loss: 10175.6903\n",
            "\n",
            "Epoch 00015: val_loss did not improve from 9653.94279\n",
            "Epoch 16/30\n",
            "4500/4500 [==============================] - 43s 10ms/step - loss: 8299.3214 - val_loss: 10202.0984\n",
            "\n",
            "Epoch 00016: val_loss did not improve from 9653.94279\n",
            "Epoch 17/30\n",
            "4500/4500 [==============================] - 44s 10ms/step - loss: 8156.6724 - val_loss: 10251.9652\n",
            "\n",
            "Epoch 00017: val_loss did not improve from 9653.94279\n",
            "Epoch 18/30\n",
            "4500/4500 [==============================] - 43s 9ms/step - loss: 8109.3045 - val_loss: 10259.3812\n",
            "\n",
            "Epoch 00018: val_loss did not improve from 9653.94279\n",
            "Epoch 19/30\n",
            "4500/4500 [==============================] - 43s 10ms/step - loss: 8046.6447 - val_loss: 10278.0324\n",
            "\n",
            "Epoch 00019: val_loss did not improve from 9653.94279\n",
            "Epoch 20/30\n",
            "4500/4500 [==============================] - 44s 10ms/step - loss: 8090.3560 - val_loss: 10375.5630\n",
            "\n",
            "Epoch 00020: val_loss did not improve from 9653.94279\n",
            "Epoch 21/30\n",
            "4500/4500 [==============================] - 43s 10ms/step - loss: 8110.2934 - val_loss: 10297.7394\n",
            "\n",
            "Epoch 00021: val_loss did not improve from 9653.94279\n",
            "Epoch 22/30\n",
            "4500/4500 [==============================] - 43s 10ms/step - loss: 8029.5088 - val_loss: 10225.7995\n",
            "\n",
            "Epoch 00022: val_loss did not improve from 9653.94279\n",
            "Epoch 23/30\n",
            "4500/4500 [==============================] - 43s 9ms/step - loss: 8179.9475 - val_loss: 10378.3759\n",
            "\n",
            "Epoch 00023: val_loss did not improve from 9653.94279\n",
            "Epoch 24/30\n",
            "4500/4500 [==============================] - 43s 9ms/step - loss: 8241.2607 - val_loss: 10414.4903\n",
            "\n",
            "Epoch 00024: val_loss did not improve from 9653.94279\n",
            "Epoch 25/30\n",
            "4500/4500 [==============================] - 43s 9ms/step - loss: 8339.5686 - val_loss: 10350.6998\n",
            "\n",
            "Epoch 00025: val_loss did not improve from 9653.94279\n",
            "Epoch 26/30\n",
            "4500/4500 [==============================] - 43s 9ms/step - loss: 8919.7852 - val_loss: 10296.5474\n",
            "\n",
            "Epoch 00026: val_loss did not improve from 9653.94279\n",
            "Epoch 27/30\n",
            "4500/4500 [==============================] - 43s 10ms/step - loss: 8663.2413 - val_loss: 10462.6940\n",
            "\n",
            "Epoch 00027: val_loss did not improve from 9653.94279\n",
            "Epoch 28/30\n",
            "4500/4500 [==============================] - 43s 9ms/step - loss: 8510.0924 - val_loss: 10429.7036\n",
            "\n",
            "Epoch 00028: val_loss did not improve from 9653.94279\n",
            "Epoch 29/30\n",
            "4500/4500 [==============================] - 43s 9ms/step - loss: 8340.9893 - val_loss: 10359.1689\n",
            "\n",
            "Epoch 00029: val_loss did not improve from 9653.94279\n",
            "Epoch 30/30\n",
            "4500/4500 [==============================] - 43s 9ms/step - loss: 8552.5849 - val_loss: 10388.1089\n",
            "\n",
            "Epoch 00030: val_loss did not improve from 9653.94279\n"
          ],
          "name": "stdout"
        }
      ]
    },
    {
      "cell_type": "code",
      "metadata": {
        "colab_type": "code",
        "outputId": "1737d299-fcc7-433b-dc4e-02582d21d343",
        "id": "5F32kFEQhMuV",
        "colab": {
          "base_uri": "https://localhost:8080/",
          "height": 279
        }
      },
      "source": [
        "import matplotlib.pyplot as plt\n",
        "\n",
        "mdl_var = mdl_var.history\n",
        "plt.plot(mdl_var['loss'])\n",
        "plt.plot(mdl_var['val_loss'])\n",
        "plt.xlabel(\"Epoch no.\")\n",
        "plt.ylabel(\"Loss\")\n",
        "plt.legend(['Training Loss','Validation Loss'])\n",
        "plt.show()\n"
      ],
      "execution_count": 0,
      "outputs": [
        {
          "output_type": "display_data",
          "data": {
            "image/png": "[encoded data removed]",
            "text/plain": [
              "<Figure size 432x288 with 1 Axes>"
            ]
          },
          "metadata": {
            "tags": []
          }
        }
      ]
    },
    {
      "cell_type": "code",
      "metadata": {
        "colab_type": "code",
        "id": "5iC5GSE6hMuZ",
        "colab": {}
      },
      "source": [
        "load_mdl = keras.models.load_model(\"model.h5\")\n",
        "preds = load_mdl.predict(test_x_gray[:10])"
      ],
      "execution_count": 0,
      "outputs": []
    },
    {
      "cell_type": "code",
      "metadata": {
        "colab_type": "code",
        "id": "oo5OEJEqhMuc",
        "colab": {}
      },
      "source": [
        "preds = np.reshape(preds,(10240,24)) \n",
        "\n"
      ],
      "execution_count": 0,
      "outputs": []
    },
    {
      "cell_type": "code",
      "metadata": {
        "colab_type": "code",
        "id": "ZvfDfIMzhMuf",
        "colab": {}
      },
      "source": [
        "first10_imgs = list()\n",
        "for px in preds:\n",
        "    first10_imgs.append(center_clus_test[np.argmax(px)])\n",
        "first10_imgs = np.reshape(first10_imgs,(10,32,32,3))\n"
      ],
      "execution_count": 0,
      "outputs": []
    },
    {
      "cell_type": "code",
      "metadata": {
        "colab_type": "code",
        "id": "E3QMRrf0hMui",
        "colab": {}
      },
      "source": [
        "test_x= np.reshape(test_x,(1000,32,32,3))"
      ],
      "execution_count": 0,
      "outputs": []
    },
    {
      "cell_type": "code",
      "metadata": {
        "colab_type": "code",
        "outputId": "4ba1c505-bb60-4b45-ff9c-47933ca320c8",
        "id": "zmj4LAxQhMuk",
        "colab": {
          "base_uri": "https://localhost:8080/",
          "height": 1000
        }
      },
      "source": [
        "for i in range(0,10,1):\n",
        "    plt.imshow(test_x[i])\n",
        "    plt.show()\n",
        "    plt.imshow(first10_imgs[i])\n",
        "    plt.show()"
      ],
      "execution_count": 0,
      "outputs": [
        {
          "output_type": "display_data",
          "data": {
            "image/png": "[encoded data removed]",
            "text/plain": [
              "<Figure size 432x288 with 1 Axes>"
            ]
          },
          "metadata": {
            "tags": []
          }
        },
        {
          "output_type": "display_data",
          "data": {
            "image/png": "[encoded data removed]",
            "text/plain": [
              "<Figure size 432x288 with 1 Axes>"
            ]
          },
          "metadata": {
            "tags": []
          }
        },
        {
          "output_type": "display_data",
          "data": {
            "image/png": "[encoded data removed]",
            "text/plain": [
              "<Figure size 432x288 with 1 Axes>"
            ]
          },
          "metadata": {
            "tags": []
          }
        },
        {
          "output_type": "display_data",
          "data": {
            "image/png": "[encoded data removed]",
            "text/plain": [
              "<Figure size 432x288 with 1 Axes>"
            ]
          },
          "metadata": {
            "tags": []
          }
        },
        {
          "output_type": "display_data",
          "data": {
            "image/png": "[encoded data removed]",
            "text/plain": [
              "<Figure size 432x288 with 1 Axes>"
            ]
          },
          "metadata": {
            "tags": []
          }
        },
        {
          "output_type": "display_data",
          "data": {
            "image/png": "[encoded data removed]",
            "text/plain": [
              "<Figure size 432x288 with 1 Axes>"
            ]
          },
          "metadata": {
            "tags": []
          }
        },
        {
          "output_type": "display_data",
          "data": {
            "image/png": "[encoded data removed]",
            "text/plain": [
              "<Figure size 432x288 with 1 Axes>"
            ]
          },
          "metadata": {
            "tags": []
          }
        },
        {
          "output_type": "display_data",
          "data": {
            "image/png": "[encoded data removed]",
            "text/plain": [
              "<Figure size 432x288 with 1 Axes>"
            ]
          },
          "metadata": {
            "tags": []
          }
        },
        {
          "output_type": "display_data",
          "data": {
            "image/png": "[encoded data removed]",
            "text/plain": [
              "<Figure size 432x288 with 1 Axes>"
            ]
          },
          "metadata": {
            "tags": []
          }
        },
        {
          "output_type": "display_data",
          "data": {
            "image/png": "[encoded data removed]",
            "text/plain": [
              "<Figure size 432x288 with 1 Axes>"
            ]
          },
          "metadata": {
            "tags": []
          }
        },
        {
          "output_type": "display_data",
          "data": {
            "image/png": "[encoded data removed]",
            "text/plain": [
              "<Figure size 432x288 with 1 Axes>"
            ]
          },
          "metadata": {
            "tags": []
          }
        },
        {
          "output_type": "display_data",
          "data": {
            "image/png": "[encoded data removed]",
            "text/plain": [
              "<Figure size 432x288 with 1 Axes>"
            ]
          },
          "metadata": {
            "tags": []
          }
        },
        {
          "output_type": "display_data",
          "data": {
            "image/png": "[encoded data removed]",
            "text/plain": [
              "<Figure size 432x288 with 1 Axes>"
            ]
          },
          "metadata": {
            "tags": []
          }
        },
        {
          "output_type": "display_data",
          "data": {
            "image/png": "[encoded data removed]",
            "text/plain": [
              "<Figure size 432x288 with 1 Axes>"
            ]
          },
          "metadata": {
            "tags": []
          }
        },
        {
          "output_type": "display_data",
          "data": {
            "image/png": "[encoded data removed]",
            "text/plain": [
              "<Figure size 432x288 with 1 Axes>"
            ]
          },
          "metadata": {
            "tags": []
          }
        },
        {
          "output_type": "display_data",
          "data": {
            "image/png": "[encoded data removed]",
            "text/plain": [
              "<Figure size 432x288 with 1 Axes>"
            ]
          },
          "metadata": {
            "tags": []
          }
        },
        {
          "output_type": "display_data",
          "data": {
            "image/png": "[encoded data removed]",
            "text/plain": [
              "<Figure size 432x288 with 1 Axes>"
            ]
          },
          "metadata": {
            "tags": []
          }
        },
        {
          "output_type": "display_data",
          "data": {
            "image/png": "[encoded data removed]",
            "text/plain": [
              "<Figure size 432x288 with 1 Axes>"
            ]
          },
          "metadata": {
            "tags": []
          }
        },
        {
          "output_type": "display_data",
          "data": {
            "image/png": "[encoded data removed]",
            "text/plain": [
              "<Figure size 432x288 with 1 Axes>"
            ]
          },
          "metadata": {
            "tags": []
          }
        },
        {
          "output_type": "display_data",
          "data": {
            "image/png": "[encoded data removed]",
            "text/plain": [
              "<Figure size 432x288 with 1 Axes>"
            ]
          },
          "metadata": {
            "tags": []
          }
        }
      ]
    }
  ]
}